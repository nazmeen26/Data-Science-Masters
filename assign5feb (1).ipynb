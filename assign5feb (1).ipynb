{
 "cells": [
  {
   "cell_type": "markdown",
   "id": "c764a2ce-dc95-47dd-9c59-7c46f5acece4",
   "metadata": {},
   "source": [
    "## Q1. Explain Class and Object with respect to Object-Oriented Programming. Give a suitable example.\n"
   ]
  },
  {
   "cell_type": "markdown",
   "id": "aeddc99a-a420-44fc-8860-1452cfb9a913",
   "metadata": {},
   "source": [
    "# Answer"
   ]
  },
  {
   "cell_type": "markdown",
   "id": "98e281ae-b10e-436e-91ca-3fc94494f33d",
   "metadata": {},
   "source": [
    "## A class is a code template for creating objects. Objects have member variables and have behaviour associated with them. In python a class is created by the keyword class . An object is created using the constructor of the class.\n",
    "## Python Objects\n",
    "## An object is called an instance of a class.An object is a concrete ' thing ' that we make a specific class and the word 'instance' indicates the relationship of an object to its class.\n",
    "## for example, suppose we have a class Phone. Then android phones and iPhones are instances of the class Phone."
   ]
  },
  {
   "cell_type": "code",
   "execution_count": 23,
   "id": "16b96072-aead-48f4-938d-94ca9dd60771",
   "metadata": {},
   "outputs": [],
   "source": [
    "## Example: a=5 in an object of the class integers.\n",
    "a=5\n"
   ]
  },
  {
   "cell_type": "code",
   "execution_count": 24,
   "id": "809cc388-fcac-48f9-a989-a0c7861b5a6e",
   "metadata": {},
   "outputs": [
    {
     "name": "stdout",
     "output_type": "stream",
     "text": [
      "<class 'int'>\n"
     ]
    }
   ],
   "source": [
    "print(type(a))"
   ]
  },
  {
   "cell_type": "markdown",
   "id": "bdf4055b-50b8-4f58-9c76-348269c5ac2c",
   "metadata": {},
   "source": [
    "## Q2. Name the four pillars of OOPs."
   ]
  },
  {
   "cell_type": "markdown",
   "id": "b4f1911e-792d-4835-8983-4ed16261ebaf",
   "metadata": {},
   "source": [
    "# Answer"
   ]
  },
  {
   "cell_type": "markdown",
   "id": "aad7cf58-616d-43e8-ad38-180c849d1e55",
   "metadata": {},
   "source": [
    "## The four pillars of OOPs concepts in Python are Inheritance, Polymorphism, Encapsulation, and Abstraction."
   ]
  },
  {
   "cell_type": "markdown",
   "id": "89d31c9f-39f5-4384-bb3a-b3e2af54edcd",
   "metadata": {},
   "source": [
    "## Q3. Explain why the __init__() function is used. Give a suitable example.\n"
   ]
  },
  {
   "cell_type": "markdown",
   "id": "cedaaf40-66ae-483b-a9c0-aa411f6f2778",
   "metadata": {},
   "source": [
    "## The __init__ function is called every time an object is created from a class. The __init__ method lets the class initialize the object's attributes and serves no other purpose. It is only used within classes."
   ]
  },
  {
   "cell_type": "code",
   "execution_count": 25,
   "id": "3bc781ed-b23d-4f70-8b88-b0afe2511e6a",
   "metadata": {},
   "outputs": [],
   "source": [
    "class pwskills:\n",
    "    def __init__(self ,name, phone_number):\n",
    "        \n",
    "        self.name = name\n",
    "        self.phone_number = phone_number\n",
    "    \n",
    "        \n",
    "    def return_details(self):\n",
    "        return self.name, self.phone_number,"
   ]
  },
  {
   "cell_type": "code",
   "execution_count": 26,
   "id": "ffaaa811-43c5-4abb-9e32-bbe7226189d0",
   "metadata": {},
   "outputs": [],
   "source": [
    "add=pwskills(\"Ahad\",4235457463)"
   ]
  },
  {
   "cell_type": "code",
   "execution_count": 27,
   "id": "485a9cbd-9d46-4697-b1d5-0040bf95fab1",
   "metadata": {},
   "outputs": [
    {
     "data": {
      "text/plain": [
       "'Ahad'"
      ]
     },
     "execution_count": 27,
     "metadata": {},
     "output_type": "execute_result"
    }
   ],
   "source": [
    "add.name"
   ]
  },
  {
   "cell_type": "code",
   "execution_count": 28,
   "id": "7261ca8d-4ce2-4e0d-8a17-42f05a43d065",
   "metadata": {},
   "outputs": [
    {
     "data": {
      "text/plain": [
       "4235457463"
      ]
     },
     "execution_count": 28,
     "metadata": {},
     "output_type": "execute_result"
    }
   ],
   "source": [
    "add.phone_number"
   ]
  },
  {
   "cell_type": "code",
   "execution_count": 29,
   "id": "bf29ef24-901f-49bf-ba99-08e54450ba26",
   "metadata": {},
   "outputs": [
    {
     "data": {
      "text/plain": [
       "('Ahad', 4235457463)"
      ]
     },
     "execution_count": 29,
     "metadata": {},
     "output_type": "execute_result"
    }
   ],
   "source": [
    "add.return_details()"
   ]
  },
  {
   "cell_type": "markdown",
   "id": "1fb610ea-e779-4482-a962-57a5ab89184e",
   "metadata": {},
   "source": [
    "\n",
    "## Q4. Why self is used in OOPs?\n"
   ]
  },
  {
   "cell_type": "markdown",
   "id": "7367f807-b935-4d98-9a18-2b2131a675e7",
   "metadata": {},
   "source": [
    "# Answer"
   ]
  },
  {
   "cell_type": "markdown",
   "id": "8ef2a49f-33eb-4aee-a36c-f865f2dcbb02",
   "metadata": {},
   "source": [
    "## The self is used to represent the instance of the class. With this keyword, you can access the attributes and methods of the class in python. It binds the attributes with the given arguments. The reason why we use self is that Python does not use the '@' syntax to refer to instance attributes."
   ]
  },
  {
   "cell_type": "markdown",
   "id": "08a12cf3-2e4f-4830-821b-f002a5fbb307",
   "metadata": {},
   "source": [
    "\n",
    "## Q5. What is inheritance? Give an example for each type of inheritance."
   ]
  },
  {
   "cell_type": "markdown",
   "id": "4daa3859-86b9-4d5a-a454-7e1b2eba925a",
   "metadata": {},
   "source": [
    "## Inheritance allows us to define a class that inherits all the methods and properties from another class. Parent class is the class being inherited from, also called base class. Child class is the class that inherits from another class, also called derived class.\n",
    "## Types of inheritance:\n",
    "## Single inheritance\n",
    "## Multiple inheritance\n",
    "## Multilevel inheritance\n",
    "## Hierarchical inheritance\n",
    "## Hybrid inheritance"
   ]
  },
  {
   "cell_type": "markdown",
   "id": "0403651e-0fed-4063-ae30-fb9f84212bb0",
   "metadata": {},
   "source": [
    "## (1)single inheritance ##"
   ]
  },
  {
   "cell_type": "code",
   "execution_count": 1,
   "id": "18942a2a-c728-4682-8791-742590343a12",
   "metadata": {},
   "outputs": [],
   "source": [
    "class parent:\n",
    "    def func1(self):\n",
    "        print(\"this is function 1\")"
   ]
  },
  {
   "cell_type": "code",
   "execution_count": 2,
   "id": "ab556817-5abf-40c8-b6f6-58866b2d0bbc",
   "metadata": {},
   "outputs": [],
   "source": [
    "class child(parent):\n",
    "    def func2(self):\n",
    "        print(\"this is function 2\")"
   ]
  },
  {
   "cell_type": "code",
   "execution_count": 3,
   "id": "7fef212b-cf80-49e2-b99e-7c4286a31be6",
   "metadata": {},
   "outputs": [
    {
     "name": "stdout",
     "output_type": "stream",
     "text": [
      "this is function 1\n"
     ]
    }
   ],
   "source": [
    "ob=child()\n",
    "ob.func1()"
   ]
  },
  {
   "cell_type": "markdown",
   "id": "48ac270e-557b-467b-8252-b7ba51dc0ccd",
   "metadata": {},
   "source": [
    "## (2) multiple inheritance ##"
   ]
  },
  {
   "cell_type": "code",
   "execution_count": 4,
   "id": "1aa62e9c-84d6-4e7c-b125-78a57aca6923",
   "metadata": {},
   "outputs": [],
   "source": [
    "class parent1:\n",
    "    def func1(self):\n",
    "        print(\"this is function 1\")\n",
    "        "
   ]
  },
  {
   "cell_type": "code",
   "execution_count": 5,
   "id": "75d38095-d84e-4dbc-96fa-e2b53b5d5f19",
   "metadata": {},
   "outputs": [],
   "source": [
    "class parent2:\n",
    "    def func2(self):\n",
    "        print(\"this is function 2\")"
   ]
  },
  {
   "cell_type": "code",
   "execution_count": 6,
   "id": "a25fb559-39fb-454b-a706-88385415155d",
   "metadata": {},
   "outputs": [],
   "source": [
    "class child(parent1,parent2):\n",
    "    def func3(self):\n",
    "        print(\"this is function 3\")"
   ]
  },
  {
   "cell_type": "code",
   "execution_count": 9,
   "id": "6a3091b1-394e-4397-98d6-72a0275488ad",
   "metadata": {},
   "outputs": [
    {
     "name": "stdout",
     "output_type": "stream",
     "text": [
      "this is function 1\n",
      "this is function 3\n"
     ]
    }
   ],
   "source": [
    "ob1=child()\n",
    "ob1.func1()\n",
    "ob1.func3()"
   ]
  },
  {
   "cell_type": "markdown",
   "id": "2f28cd47-2239-43f7-9816-bf350bddecc9",
   "metadata": {},
   "source": [
    "## (3) multilevel inheritance ##"
   ]
  },
  {
   "cell_type": "code",
   "execution_count": 30,
   "id": "cf042daf-eda9-4e41-9b6a-ada96b237058",
   "metadata": {},
   "outputs": [],
   "source": [
    "class parent3:\n",
    "    def func4(self):\n",
    "        print(\"this is function 4\")"
   ]
  },
  {
   "cell_type": "code",
   "execution_count": 31,
   "id": "f696889d-3b8a-46fd-a5f4-b6c6f70221cc",
   "metadata": {},
   "outputs": [],
   "source": [
    "class parent4(parent3):\n",
    "    def func5(self):\n",
    "        print(\"this is function 5\")"
   ]
  },
  {
   "cell_type": "code",
   "execution_count": 32,
   "id": "a9d0b2de-41a1-472c-ada9-b976f20d1396",
   "metadata": {},
   "outputs": [],
   "source": [
    "class child(parent4):\n",
    "    def func6(self):\n",
    "        print(\"this is function 6\")"
   ]
  },
  {
   "cell_type": "code",
   "execution_count": 33,
   "id": "58be4efb-2fcd-4ea3-9237-a91a00da1c55",
   "metadata": {},
   "outputs": [
    {
     "name": "stdout",
     "output_type": "stream",
     "text": [
      "this is function 4\n",
      "this is function 5\n"
     ]
    }
   ],
   "source": [
    "ob2= child()\n",
    "ob2.func4()\n",
    "ob2.func5()"
   ]
  },
  {
   "cell_type": "markdown",
   "id": "f914d91e-2b52-4f91-bbbb-98d022871fba",
   "metadata": {},
   "source": [
    "## (4) Heirarchical inheritance ##"
   ]
  },
  {
   "cell_type": "code",
   "execution_count": 34,
   "id": "63ffca13-d093-44d9-8203-0982fddcbeb7",
   "metadata": {},
   "outputs": [],
   "source": [
    "class parent5:\n",
    "    def func7(self):\n",
    "        print(\"this is function 7\")"
   ]
  },
  {
   "cell_type": "code",
   "execution_count": 35,
   "id": "c0b5ea7e-04b9-4cf2-8496-0f5825ca1070",
   "metadata": {},
   "outputs": [],
   "source": [
    "class child1(parent5):\n",
    "    def func8(self):\n",
    "        print(\"this is function 8\")"
   ]
  },
  {
   "cell_type": "code",
   "execution_count": 36,
   "id": "6fdb5b19-df0d-4c5c-a678-11126633fa99",
   "metadata": {},
   "outputs": [],
   "source": [
    "class child2(parent5):\n",
    "    def func9(self):\n",
    "        print(\"this is function 9\")"
   ]
  },
  {
   "cell_type": "code",
   "execution_count": 37,
   "id": "1d5fb10a-0d4b-4ed1-9d71-b6c12f78474c",
   "metadata": {},
   "outputs": [
    {
     "name": "stdout",
     "output_type": "stream",
     "text": [
      "this is function 7\n",
      "this is function 7\n"
     ]
    }
   ],
   "source": [
    "ob3=child1()\n",
    "ob4=child2()\n",
    "ob3.func7()\n",
    "ob4.func7()"
   ]
  },
  {
   "cell_type": "markdown",
   "id": "75673dde-fe84-48a5-9bb5-45f0493d3019",
   "metadata": {},
   "source": [
    "## (5)Hybrid ##"
   ]
  },
  {
   "cell_type": "code",
   "execution_count": 42,
   "id": "f722aa73-320c-4fd9-aec8-9310e5e16edc",
   "metadata": {},
   "outputs": [],
   "source": [
    "class parent6:\n",
    "    def func10(self):\n",
    "        print(\"this is function 10\")"
   ]
  },
  {
   "cell_type": "code",
   "execution_count": 43,
   "id": "4617fcab-802d-4440-996a-5b1711db456c",
   "metadata": {},
   "outputs": [],
   "source": [
    "class parent7(parent6):\n",
    "    def func11(self):\n",
    "        print(\"this is function 11\")"
   ]
  },
  {
   "cell_type": "code",
   "execution_count": 44,
   "id": "06594634-3b19-483d-9c69-bd1ace6eee38",
   "metadata": {},
   "outputs": [],
   "source": [
    "class parent8:\n",
    "    def func12(self):\n",
    "        print(\"this is function 12\")"
   ]
  },
  {
   "cell_type": "code",
   "execution_count": 46,
   "id": "76be79d8-e170-40c2-852e-8a90b6abffda",
   "metadata": {},
   "outputs": [],
   "source": [
    "class child3(parent6,parent8):\n",
    "    def func13(self):\n",
    "        print(\"this is function 13\")"
   ]
  },
  {
   "cell_type": "code",
   "execution_count": 48,
   "id": "64c95dd2-140f-47d2-8fa9-766bf269b83f",
   "metadata": {},
   "outputs": [
    {
     "name": "stdout",
     "output_type": "stream",
     "text": [
      "this is function 10\n",
      "this is function 12\n"
     ]
    }
   ],
   "source": [
    "ob5=child3()\n",
    "ob5.func10()\n",
    "ob5.func12()"
   ]
  },
  {
   "cell_type": "code",
   "execution_count": null,
   "id": "77fe959a-9051-4235-8e9c-c04f5cc9c297",
   "metadata": {},
   "outputs": [],
   "source": []
  }
 ],
 "metadata": {
  "kernelspec": {
   "display_name": "Python 3 (ipykernel)",
   "language": "python",
   "name": "python3"
  },
  "language_info": {
   "codemirror_mode": {
    "name": "ipython",
    "version": 3
   },
   "file_extension": ".py",
   "mimetype": "text/x-python",
   "name": "python",
   "nbconvert_exporter": "python",
   "pygments_lexer": "ipython3",
   "version": "3.10.8"
  }
 },
 "nbformat": 4,
 "nbformat_minor": 5
}
