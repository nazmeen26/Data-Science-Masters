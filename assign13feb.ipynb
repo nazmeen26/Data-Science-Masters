{
 "cells": [
  {
   "cell_type": "markdown",
   "id": "27d314d4-1804-4c85-9c28-4a3e5324f30a",
   "metadata": {},
   "source": [
    "## Q1. Explain why we have to use the Exception class while creating a Custom Exception.\n",
    "\n",
    "## Note: Here Exception class refers to the base class for all the exceptions."
   ]
  },
  {
   "cell_type": "markdown",
   "id": "7035eca0-ac93-47a1-afb1-13fa6d0fa596",
   "metadata": {},
   "source": [
    "## Answer"
   ]
  },
  {
   "cell_type": "markdown",
   "id": "28aa341e-0724-4d74-bd58-fde437ff010a",
   "metadata": {},
   "source": [
    "## Custom exceptions are helpful in many situations. They allow you to define your own error conditions and handle them in a more specific and meaningful way. For example, let's say you are writing a program that reads data from a file. If the file is not found, Python will raise a FileNotFoundError ."
   ]
  },
  {
   "cell_type": "markdown",
   "id": "71fd9ccf-523b-47d7-bd2d-8af2a5952b99",
   "metadata": {},
   "source": [
    "## Adding Functionality to Custom Exceptions\n",
    "## We use the super() function to call the constructor of the base Exception class and pass the message argument to it. We then set the error_code attribute to the error_code argument."
   ]
  },
  {
   "cell_type": "markdown",
   "id": "9089ec37-336e-4cbd-9cde-a255caccc9fc",
   "metadata": {},
   "source": [
    "## Q2. Write a python program to print Python Exception Hierarchy."
   ]
  },
  {
   "cell_type": "code",
   "execution_count": 3,
   "id": "5a168e1b-e533-4a97-8d1b-c6ff128391a8",
   "metadata": {},
   "outputs": [
    {
     "name": "stdout",
     "output_type": "stream",
     "text": [
      "The class hierarchy for built-in exceptions is:\n",
      " Exception\n",
      "... TypeError\n",
      "...... FloatOperation\n",
      "...... MultipartConversionError\n",
      "... StopAsyncIteration\n",
      "... StopIteration\n",
      "... ImportError\n",
      "...... ModuleNotFoundError\n",
      "...... ZipImportError\n",
      "... OSError\n",
      "...... ConnectionError\n",
      "......... BrokenPipeError\n",
      "......... ConnectionAbortedError\n",
      "......... ConnectionRefusedError\n",
      "......... ConnectionResetError\n",
      "............ RemoteDisconnected\n",
      "...... BlockingIOError\n",
      "...... ChildProcessError\n",
      "...... FileExistsError\n",
      "...... FileNotFoundError\n",
      "...... IsADirectoryError\n",
      "...... NotADirectoryError\n",
      "...... InterruptedError\n",
      "......... InterruptedSystemCall\n",
      "...... PermissionError\n",
      "...... ProcessLookupError\n",
      "...... TimeoutError\n",
      "...... UnsupportedOperation\n",
      "...... itimer_error\n",
      "...... herror\n",
      "...... gaierror\n",
      "...... SSLError\n",
      "......... SSLCertVerificationError\n",
      "......... SSLZeroReturnError\n",
      "......... SSLWantWriteError\n",
      "......... SSLWantReadError\n",
      "......... SSLSyscallError\n",
      "......... SSLEOFError\n",
      "...... Error\n",
      "......... SameFileError\n",
      "...... SpecialFileError\n",
      "...... ExecError\n",
      "...... ReadError\n",
      "...... URLError\n",
      "......... HTTPError\n",
      "......... ContentTooShortError\n",
      "...... BadGzipFile\n",
      "... EOFError\n",
      "...... IncompleteReadError\n",
      "... RuntimeError\n",
      "...... RecursionError\n",
      "...... NotImplementedError\n",
      "......... ZMQVersionError\n",
      "......... StdinNotImplementedError\n",
      "...... _DeadlockError\n",
      "...... BrokenBarrierError\n",
      "...... BrokenExecutor\n",
      "......... BrokenThreadPool\n",
      "...... SendfileNotAvailableError\n",
      "...... ExtractionError\n",
      "...... VariableError\n",
      "... NameError\n",
      "...... UnboundLocalError\n",
      "... AttributeError\n",
      "...... FrozenInstanceError\n",
      "... SyntaxError\n",
      "...... IndentationError\n",
      "......... TabError\n",
      "... LookupError\n",
      "...... IndexError\n",
      "...... KeyError\n",
      "......... NoSuchKernel\n",
      "......... UnknownBackend\n",
      "...... CodecRegistryError\n",
      "... ValueError\n",
      "...... UnicodeError\n",
      "......... UnicodeEncodeError\n",
      "......... UnicodeDecodeError\n",
      "......... UnicodeTranslateError\n",
      "...... UnsupportedOperation\n",
      "...... JSONDecodeError\n",
      "...... SSLCertVerificationError\n",
      "...... Error\n",
      "...... UnsupportedDigestmodError\n",
      "...... IllegalMonthError\n",
      "...... IllegalWeekdayError\n",
      "...... ParserError\n",
      "...... ClassNotFound\n",
      "...... ClipboardEmpty\n",
      "...... MessageDefect\n",
      "......... NoBoundaryInMultipartDefect\n",
      "......... StartBoundaryNotFoundDefect\n",
      "......... CloseBoundaryNotFoundDefect\n",
      "......... FirstHeaderLineIsContinuationDefect\n",
      "......... MisplacedEnvelopeHeaderDefect\n",
      "......... MissingHeaderBodySeparatorDefect\n",
      "......... MultipartInvariantViolationDefect\n",
      "......... InvalidMultipartContentTransferEncodingDefect\n",
      "......... UndecodableBytesDefect\n",
      "......... InvalidBase64PaddingDefect\n",
      "......... InvalidBase64CharactersDefect\n",
      "......... InvalidBase64LengthDefect\n",
      "......... HeaderDefect\n",
      "............ InvalidHeaderDefect\n",
      "............ HeaderMissingRequiredValue\n",
      "............ NonPrintableDefect\n",
      "............ ObsoleteHeaderDefect\n",
      "............ NonASCIILocalPartDefect\n",
      "............ InvalidDateDefect\n",
      "...... MacroToEdit\n",
      "...... InvalidFileException\n",
      "...... UnequalIterablesError\n",
      "...... InvalidVersion\n",
      "...... _InvalidELFFileHeader\n",
      "...... InvalidWheelFilename\n",
      "...... InvalidSdistFilename\n",
      "...... InvalidSpecifier\n",
      "...... InvalidMarker\n",
      "...... UndefinedComparison\n",
      "...... UndefinedEnvironmentName\n",
      "...... InvalidRequirement\n",
      "......... RequirementParseError\n",
      "...... InvalidVersion\n",
      "... AssertionError\n",
      "... ArithmeticError\n",
      "...... FloatingPointError\n",
      "...... OverflowError\n",
      "...... ZeroDivisionError\n",
      "......... DivisionByZero\n",
      "......... DivisionUndefined\n",
      "...... DecimalException\n",
      "......... Clamped\n",
      "......... Rounded\n",
      "............ Underflow\n",
      "............ Overflow\n",
      "......... Inexact\n",
      "............ Underflow\n",
      "............ Overflow\n",
      "......... Subnormal\n",
      "............ Underflow\n",
      "......... DivisionByZero\n",
      "......... FloatOperation\n",
      "......... InvalidOperation\n",
      "............ ConversionSyntax\n",
      "............ DivisionImpossible\n",
      "............ DivisionUndefined\n",
      "............ InvalidContext\n",
      "... SystemError\n",
      "...... CodecRegistryError\n",
      "... ReferenceError\n",
      "... MemoryError\n",
      "... BufferError\n",
      "... Warning\n",
      "...... UserWarning\n",
      "......... GetPassWarning\n",
      "......... FormatterWarning\n",
      "...... EncodingWarning\n",
      "...... DeprecationWarning\n",
      "......... ProvisionalWarning\n",
      "...... PendingDeprecationWarning\n",
      "...... SyntaxWarning\n",
      "...... RuntimeWarning\n",
      "......... ProactorSelectorThreadWarning\n",
      "......... UnknownTimezoneWarning\n",
      "......... PEP440Warning\n",
      "...... FutureWarning\n",
      "......... ProvisionalCompleterWarning\n",
      "...... ImportWarning\n",
      "...... UnicodeWarning\n",
      "...... BytesWarning\n",
      "...... ResourceWarning\n",
      "...... DeprecatedTzFormatWarning\n",
      "...... PkgResourcesDeprecationWarning\n",
      "... _OptionError\n",
      "... _Error\n",
      "... error\n",
      "... Verbose\n",
      "... Error\n",
      "... SubprocessError\n",
      "...... CalledProcessError\n",
      "...... TimeoutExpired\n",
      "... TokenError\n",
      "... StopTokenizing\n",
      "... ClassFoundException\n",
      "... EndOfBlock\n",
      "... TraitError\n",
      "... Error\n",
      "... Error\n",
      "...... CancelledError\n",
      "...... TimeoutError\n",
      "...... InvalidStateError\n",
      "... _GiveupOnSendfile\n",
      "... error\n",
      "... Incomplete\n",
      "... TimeoutError\n",
      "... InvalidStateError\n",
      "... LimitOverrunError\n",
      "... QueueEmpty\n",
      "... QueueFull\n",
      "... Empty\n",
      "... Full\n",
      "... ArgumentError\n",
      "... ZMQBaseError\n",
      "...... ZMQError\n",
      "......... ContextTerminated\n",
      "......... Again\n",
      "......... InterruptedSystemCall\n",
      "...... ZMQBindError\n",
      "...... NotDone\n",
      "... PickleError\n",
      "...... PicklingError\n",
      "...... UnpicklingError\n",
      "... _Stop\n",
      "... ArgumentError\n",
      "... ArgumentTypeError\n",
      "... ConfigError\n",
      "...... ConfigLoaderError\n",
      "......... ArgumentError\n",
      "...... ConfigFileNotFound\n",
      "... ConfigurableError\n",
      "...... MultipleInstanceError\n",
      "... ApplicationError\n",
      "... error\n",
      "... TimeoutError\n",
      "... error\n",
      "... ReturnValueIgnoredError\n",
      "... KeyReuseError\n",
      "... UnknownKeyError\n",
      "... LeakedCallbackError\n",
      "... BadYieldError\n",
      "... ReturnValueIgnoredError\n",
      "... Return\n",
      "... InvalidPortNumber\n",
      "... error\n",
      "... LZMAError\n",
      "... RegistryError\n",
      "... _GiveupOnFastCopy\n",
      "... Error\n",
      "...... NoSectionError\n",
      "...... DuplicateSectionError\n",
      "...... DuplicateOptionError\n",
      "...... NoOptionError\n",
      "...... InterpolationError\n",
      "......... InterpolationMissingOptionError\n",
      "......... InterpolationSyntaxError\n",
      "......... InterpolationDepthError\n",
      "...... ParsingError\n",
      "......... MissingSectionHeaderError\n",
      "... NoIPAddresses\n",
      "... BadZipFile\n",
      "... LargeZipFile\n",
      "... BadEntryPoint\n",
      "... NoSuchEntryPoint\n",
      "... DuplicateKernelError\n",
      "... ErrorDuringImport\n",
      "... NotOneValueFound\n",
      "... CannotEval\n",
      "... OptionError\n",
      "... BdbQuit\n",
      "... Restart\n",
      "... ExceptionPexpect\n",
      "...... EOF\n",
      "...... TIMEOUT\n",
      "... PtyProcessError\n",
      "... FindCmdError\n",
      "... HomeDirError\n",
      "... ProfileDirError\n",
      "... IPythonCoreError\n",
      "...... TryNext\n",
      "...... UsageError\n",
      "...... StdinNotImplementedError\n",
      "... InputRejected\n",
      "... GetoptError\n",
      "... ErrorToken\n",
      "... PrefilterError\n",
      "... AliasError\n",
      "...... InvalidAliasError\n",
      "... Error\n",
      "...... InterfaceError\n",
      "...... DatabaseError\n",
      "......... InternalError\n",
      "......... OperationalError\n",
      "......... ProgrammingError\n",
      "......... IntegrityError\n",
      "......... DataError\n",
      "......... NotSupportedError\n",
      "... Warning\n",
      "... SpaceInInput\n",
      "... DOMException\n",
      "...... IndexSizeErr\n",
      "...... DomstringSizeErr\n",
      "...... HierarchyRequestErr\n",
      "...... WrongDocumentErr\n",
      "...... InvalidCharacterErr\n",
      "...... NoDataAllowedErr\n",
      "...... NoModificationAllowedErr\n",
      "...... NotFoundErr\n",
      "...... NotSupportedErr\n",
      "...... InuseAttributeErr\n",
      "...... InvalidStateErr\n",
      "...... SyntaxErr\n",
      "...... InvalidModificationErr\n",
      "...... NamespaceErr\n",
      "...... InvalidAccessErr\n",
      "...... ValidationErr\n",
      "... ValidationError\n",
      "... EditReadOnlyBuffer\n",
      "... _Retry\n",
      "... InvalidLayoutError\n",
      "... HeightIsUnknownError\n",
      "... ParserSyntaxError\n",
      "... InternalParseError\n",
      "... _PositionUpdatingFinished\n",
      "... SimpleGetItemNotFound\n",
      "... UncaughtAttributeError\n",
      "... HasNoContext\n",
      "... ParamIssue\n",
      "... _JediError\n",
      "...... InternalError\n",
      "...... WrongVersion\n",
      "...... RefactoringError\n",
      "... OnErrorLeaf\n",
      "... InvalidPythonEnvironment\n",
      "... MessageError\n",
      "...... MessageParseError\n",
      "......... HeaderParseError\n",
      "......... BoundaryError\n",
      "...... MultipartConversionError\n",
      "...... CharsetError\n",
      "... Error\n",
      "... HTTPException\n",
      "...... NotConnected\n",
      "...... InvalidURL\n",
      "...... UnknownProtocol\n",
      "...... UnknownTransferEncoding\n",
      "...... UnimplementedFileMode\n",
      "...... IncompleteRead\n",
      "...... ImproperConnectionState\n",
      "......... CannotSendRequest\n",
      "......... CannotSendHeader\n",
      "......... ResponseNotReady\n",
      "...... BadStatusLine\n",
      "......... RemoteDisconnected\n",
      "...... LineTooLong\n",
      "... InteractivelyDefined\n",
      "... KillEmbedded\n",
      "... Error\n",
      "...... NoSuchProcess\n",
      "......... ZombieProcess\n",
      "...... AccessDenied\n",
      "...... TimeoutExpired\n",
      "... _Ipv6UnsupportedError\n",
      "... QueueEmpty\n",
      "... QueueFull\n",
      "... DebuggerInitializationError\n",
      "... ExpatError\n",
      "... Error\n",
      "...... ProtocolError\n",
      "...... ResponseError\n",
      "...... Fault\n",
      "... ParseBaseException\n",
      "...... ParseException\n",
      "...... ParseFatalException\n",
      "......... ParseSyntaxException\n",
      "... RecursiveGrammarException\n",
      "... ResolutionError\n",
      "...... VersionConflict\n",
      "......... ContextualVersionConflict\n",
      "...... DistributionNotFound\n",
      "...... UnknownExtra\n",
      "... _Error\n",
      "... UnableToResolveVariableException\n",
      "... InvalidTypeInArgsException\n"
     ]
    }
   ],
   "source": [
    "\n",
    "\n",
    "import inspect\n",
    "print(\"The class hierarchy for built-in exceptions is:\")\n",
    "inspect.getclasstree(inspect.getmro(Exception))\n",
    "def classtree(cls, indent=0):\n",
    "    print('.' * indent, cls.__name__)\n",
    "    for subcls in cls.__subclasses__():\n",
    "        classtree(subcls, indent + 3)\n",
    "classtree(Exception)"
   ]
  },
  {
   "cell_type": "markdown",
   "id": "fc1dbd93-3ef9-416c-b4ea-ca3aeb25a9dd",
   "metadata": {},
   "source": [
    "## Q3. What errors are defined in the ArithmeticError class? Explain any two with an example."
   ]
  },
  {
   "cell_type": "markdown",
   "id": "8c68161e-1afb-44eb-8484-4a9cac77f0f1",
   "metadata": {},
   "source": [
    "## Answer"
   ]
  },
  {
   "cell_type": "markdown",
   "id": "aacae2fd-71cf-49ff-ad1d-85be98e87acf",
   "metadata": {},
   "source": [
    "## The ArithmeticError exception class serves as a base class for those built-in exceptions that are raised due to various arithmetic errors like OverflowError, ZeroDivisionError, FloatingPointError."
   ]
  },
  {
   "cell_type": "markdown",
   "id": "ca577ce6-796c-4e12-ad93-656601de8a8c",
   "metadata": {},
   "source": [
    "## Example"
   ]
  },
  {
   "cell_type": "code",
   "execution_count": 8,
   "id": "b92c8df2-2f3f-43ff-8832-1e4bf8ebc897",
   "metadata": {},
   "outputs": [
    {
     "name": "stdout",
     "output_type": "stream",
     "text": [
      "division by zero\n"
     ]
    }
   ],
   "source": [
    "## ZeroDivisionError\n",
    "try:\n",
    "    a=10\n",
    "    10/0\n",
    "except ZeroDivisionError as e:\n",
    "    print(e)"
   ]
  },
  {
   "cell_type": "code",
   "execution_count": 10,
   "id": "57a93880-8228-40ba-99a0-29cf4ff6b4d3",
   "metadata": {},
   "outputs": [
    {
     "name": "stdout",
     "output_type": "stream",
     "text": [
      "Simple program for showig overflow error\n",
      "\n",
      "\n",
      "The exponential value is\n",
      "After overflow math range error\n"
     ]
    }
   ],
   "source": [
    "## OverflowError  \n",
    "print(\"Simple program for showig overflow error\")\n",
    "print(\"\\n\")\n",
    "import math\n",
    "try:\n",
    "    print(\"The exponential value is\")\n",
    "    print(math.exp(1000))\n",
    "    \n",
    "except OverflowError as oe:\n",
    "    print(\"After overflow\" ,oe)"
   ]
  },
  {
   "cell_type": "markdown",
   "id": "48b1f015-8666-4698-8282-967d18ab1701",
   "metadata": {},
   "source": [
    "## Q4. Why LookupError class is used? Explain with an example KeyError and IndexError.\n"
   ]
  },
  {
   "cell_type": "markdown",
   "id": "c9e1a65a-1f24-4c8e-afd4-cee0a8ef6db8",
   "metadata": {},
   "source": [
    "## Answer"
   ]
  },
  {
   "cell_type": "markdown",
   "id": "a007ed6f-6c7e-4043-acf8-77785d404c37",
   "metadata": {},
   "source": [
    "## Python's built-in exception documentation defines LookupError as: The base class for the exceptions that are raised when a key or index used on a mapping or sequence is invalid: IndexError, KeyError. This can be raised directly by codecs. lookup().4 Mar 2018"
   ]
  },
  {
   "cell_type": "markdown",
   "id": "6844cd42-ed55-43cf-aa77-6e8b002ebe72",
   "metadata": {},
   "source": [
    "## Example"
   ]
  },
  {
   "cell_type": "code",
   "execution_count": 11,
   "id": "44f68f2e-03ff-4efe-80f2-f46b28b14cba",
   "metadata": {},
   "outputs": [
    {
     "name": "stdout",
     "output_type": "stream",
     "text": [
      "'key10'\n"
     ]
    }
   ],
   "source": [
    "## key error\n",
    "try:\n",
    "    d= {1:[1,2,3,4], \"key\":\"sudh\"}\n",
    "    d[\"key10\"]\n",
    "except KeyError as e:\n",
    "    print(e)"
   ]
  },
  {
   "cell_type": "code",
   "execution_count": 12,
   "id": "3a7ec061-a521-4d11-9c48-7e233d1eee22",
   "metadata": {},
   "outputs": [
    {
     "name": "stdout",
     "output_type": "stream",
     "text": [
      "list index out of range\n"
     ]
    }
   ],
   "source": [
    "## index error\n",
    "try:\n",
    "    l=[1,2,3,4]\n",
    "    l[10]\n",
    "except IndexError as e:\n",
    "    print(e)"
   ]
  },
  {
   "cell_type": "markdown",
   "id": "f4faf690-e5ae-42ab-a19e-12fd3ac860c9",
   "metadata": {},
   "source": [
    "## Q5. Explain ImportError. What is ModuleNotFoundError?"
   ]
  },
  {
   "cell_type": "markdown",
   "id": "d56eb139-f149-4828-a892-ef4d7c9b4685",
   "metadata": {},
   "source": [
    "## Answer"
   ]
  },
  {
   "cell_type": "markdown",
   "id": "df3f70ab-2f93-4a80-9da1-86779bc86857",
   "metadata": {},
   "source": [
    "##  importError :An ImportError is a type of error that occurs when Python is unable to find or import a module. This error can occur for a variety of reasons, such as a missing or incorrect module name, a missing or incorrect path to the module, or a missing dependency."
   ]
  },
  {
   "cell_type": "markdown",
   "id": "82438e43-3e0b-44b9-bf55-4f52301acc06",
   "metadata": {},
   "source": [
    "##  ModuleNotFoundError: ModuleNotFoundError is a Python error that occurs when you try to import a module that is not installed or not found in the current Python path. This error usually occurs when you are working with external packages or libraries that are not included in the default Python installation."
   ]
  },
  {
   "cell_type": "markdown",
   "id": "381ddb2a-71d5-475c-9d6d-3134e028ab21",
   "metadata": {},
   "source": [
    "## Q6. List down some best practices for exception handling in python. "
   ]
  },
  {
   "cell_type": "markdown",
   "id": "28d200f6-091d-446f-bf5f-e2f5b8056031",
   "metadata": {},
   "source": [
    "## Answer"
   ]
  },
  {
   "cell_type": "code",
   "execution_count": 13,
   "id": "219a406b-2fc1-4da9-ad65-34c690b2c93b",
   "metadata": {},
   "outputs": [
    {
     "name": "stdout",
     "output_type": "stream",
     "text": [
      "this is my zero devision error i am handling division by zero\n"
     ]
    }
   ],
   "source": [
    "try:\n",
    "    10/0\n",
    "except ZeroDivisionError as e:\n",
    "    print(\"this is my zero devision error i am handling\", e)"
   ]
  },
  {
   "cell_type": "code",
   "execution_count": 14,
   "id": "59f9dc4c-f9b3-4a6a-8c5c-71eed7681f19",
   "metadata": {},
   "outputs": [],
   "source": [
    "# always try to log\n",
    "import logging\n",
    "logging.basicConfig(filename=\"error1.log\", level=logging.ERROR)\n",
    "try:\n",
    "    57/0\n",
    "except ZeroDivisionError as e:\n",
    "    logging.error(\"this is my zero devision error i am handling{}\".format(e))"
   ]
  },
  {
   "cell_type": "code",
   "execution_count": 15,
   "id": "92d902c9-9a03-4bb7-92c1-5297175b5a41",
   "metadata": {},
   "outputs": [],
   "source": [
    "# cleanup all the resources\n",
    "try:\n",
    "    with open(\"test*.txt\", \"w\") as f:\n",
    "        f.write(\"this is my msg to file\")\n",
    "except FileNotFoundError as e:\n",
    "    logging.error(\"this is my file not found {}\".format(e))\n",
    "finally:\n",
    "    f.close()"
   ]
  },
  {
   "cell_type": "code",
   "execution_count": 16,
   "id": "a170d555-2eec-4a61-b2cd-099c3657a6f1",
   "metadata": {},
   "outputs": [],
   "source": [
    "## always avoid to write a multiple exception handling\n",
    "import logging\n",
    "logging.basicConfig(filename=\"error1.log\", level=logging.ERROR)\n",
    "try:\n",
    "    10/0\n",
    "except ZeroDivisionError as e:\n",
    "    logging.error(\"this is my zero devision error i am handling.{}\".format(e))\n",
    "except FileNotFoundError as e:\n",
    "    logging.error(\"this is my file not found{}\".format(e))\n",
    "        \n",
    "except AttributeError as e:\n",
    "    logging.error(\"this is my attribute error{}\".format(e))\n",
    "    \n",
    "\n",
    "    \n",
    "                "
   ]
  },
  {
   "cell_type": "code",
   "execution_count": null,
   "id": "5fb4a965-1879-4bb1-bfee-e9c720063252",
   "metadata": {},
   "outputs": [],
   "source": []
  }
 ],
 "metadata": {
  "kernelspec": {
   "display_name": "Python 3 (ipykernel)",
   "language": "python",
   "name": "python3"
  },
  "language_info": {
   "codemirror_mode": {
    "name": "ipython",
    "version": 3
   },
   "file_extension": ".py",
   "mimetype": "text/x-python",
   "name": "python",
   "nbconvert_exporter": "python",
   "pygments_lexer": "ipython3",
   "version": "3.10.8"
  }
 },
 "nbformat": 4,
 "nbformat_minor": 5
}
