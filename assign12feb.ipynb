{
 "cells": [
  {
   "cell_type": "markdown",
   "id": "a77c74df-9691-43ac-974d-aac1b4f249b9",
   "metadata": {},
   "source": [
    "## Q1. What is an Exception in python? Write the difference between Exceptions and Syntax errors."
   ]
  },
  {
   "cell_type": "markdown",
   "id": "9e8aeca7-2806-4b0c-a7a6-cf4d80a91cd1",
   "metadata": {},
   "source": [
    "## Answer"
   ]
  },
  {
   "cell_type": "markdown",
   "id": "bc6aae49-7a83-452b-a061-cd32e9cb97c6",
   "metadata": {},
   "source": [
    "## Exceptions: Even if a statement or expression is syntactically correct, it may cause an error when an attempt is made to execute it. Errors detected during execution are called exceptions and are not unconditionally fatal."
   ]
  },
  {
   "cell_type": "markdown",
   "id": "38d4b49e-0811-4311-99b0-ec9a49a84ff5",
   "metadata": {},
   "source": [
    "## Difference: An error is an issue in a program that prevents the program from completing its task. In comparison, an exception is a condition that interrupts the normal flow of the program. Both errors and exceptions are a type of runtime error, which means they occur during the execution of a program."
   ]
  },
  {
   "cell_type": "markdown",
   "id": "c7bd7347-ce45-4fb1-804f-df1e311a5a0d",
   "metadata": {},
   "source": [
    "## Q2. What happens when an exception is not handled? Explain with an example.\n",
    "\n"
   ]
  },
  {
   "cell_type": "markdown",
   "id": "e6446555-b585-465a-9c90-86e365ad0da5",
   "metadata": {},
   "source": [
    "## Answer"
   ]
  },
  {
   "cell_type": "markdown",
   "id": "2fcab865-70b9-447a-ab5a-12e910deeaf7",
   "metadata": {},
   "source": [
    "## If the exception is not handled by an except clause, the exception is re-raised after the finally clause has been executed.\n"
   ]
  },
  {
   "cell_type": "markdown",
   "id": "31687931-96ac-4fea-98ed-868f3841e9e5",
   "metadata": {},
   "source": [
    "## Try with Else Clause: In Python, you can also use the else clause on the try-except block which must be present after all the except clauses. The code enters the else block only if the try clause does not raise an exception.\n"
   ]
  },
  {
   "cell_type": "markdown",
   "id": "7f3c5490-c884-42ce-9749-da643466fed8",
   "metadata": {},
   "source": [
    "## Example\n"
   ]
  },
  {
   "cell_type": "code",
   "execution_count": 30,
   "id": "b5551805-a9db-41ad-adec-774fb8fdda9e",
   "metadata": {},
   "outputs": [
    {
     "name": "stdout",
     "output_type": "stream",
     "text": [
      "this block will execute once try will execute itself without an exception\n"
     ]
    }
   ],
   "source": [
    "try:\n",
    "    f=open(\"test.txt\",'w')\n",
    "    f.write(\"this is my content\")\n",
    "\n",
    "except Exception as e:\n",
    "    print(\"this is some issue with my code\", e)\n",
    "    \n",
    "else:   \n",
    "    f.close()\n",
    "    print(\"this block will execute once try will execute itself without an exception\")"
   ]
  },
  {
   "cell_type": "code",
   "execution_count": 31,
   "id": "6e507925-41cf-4e08-bb1a-bdb212f7c769",
   "metadata": {},
   "outputs": [
    {
     "name": "stdout",
     "output_type": "stream",
     "text": [
      "this is some issue with my code not writable\n",
      "i will execute always\n"
     ]
    }
   ],
   "source": [
    "try:\n",
    "    f=open(\"test.txt\",'r')\n",
    "    f.write(\"this is my content\")\n",
    "\n",
    "except Exception as e:\n",
    "    print(\"this is some issue with my code\", e)\n",
    "    \n",
    "else:   \n",
    "    f.close()\n",
    "    print(\"this block will execute once try will execute itself without an exception\")\n",
    "\n",
    "finally:\n",
    "    print(\"i will execute always\")\n",
    "    "
   ]
  },
  {
   "cell_type": "markdown",
   "id": "40502b71-33bc-4a51-bcc9-366a637c6515",
   "metadata": {},
   "source": [
    "## Q3. Which Python statements are used to catch and handle exceptions? Explain with an example."
   ]
  },
  {
   "cell_type": "markdown",
   "id": "0427f1bf-3eb4-46d3-82f6-c4f0ec0f3eb6",
   "metadata": {
    "tags": []
   },
   "source": [
    "## try and except block:\n",
    "## The try and except block in Python is used to catch and handle exceptions. Python executes code following the try statement as a “normal” part of the program."
   ]
  },
  {
   "cell_type": "markdown",
   "id": "58dcfe50-ae8e-4df7-aa9f-3bfe71c204f4",
   "metadata": {},
   "source": [
    "## Example"
   ]
  },
  {
   "cell_type": "code",
   "execution_count": 32,
   "id": "75a8413b-78e3-43e5-bf6a-d8f606692540",
   "metadata": {},
   "outputs": [
    {
     "name": "stdout",
     "output_type": "stream",
     "text": [
      "this block will execute once try will execute itself without an exception\n"
     ]
    }
   ],
   "source": [
    "try:\n",
    "    f=open(\"test1.txt\",'w')\n",
    "    f.write(\"this is my example\")\n",
    "\n",
    "except Exception as e:\n",
    "    print(\"this is some issue with my code\", e)\n",
    "    \n",
    "else:   \n",
    "    f.close()\n",
    "    print(\"this block will execute once try will execute itself without an exception\")"
   ]
  },
  {
   "cell_type": "markdown",
   "id": "3b4f8386-c04b-4c5e-b64b-b7f919caf14d",
   "metadata": {},
   "source": [
    "## Q4. Explain with an example:\n",
    "## a. try and else\n",
    "## b. finally\n",
    "## c. raise "
   ]
  },
  {
   "cell_type": "markdown",
   "id": "26b56ee8-ffdc-471b-b26b-4a3bacd3456a",
   "metadata": {},
   "source": [
    "## Try and else:\n",
    "## The try block lets you test a block of code for errors. The except block lets you handle the error. The else block lets you execute code when there is no error."
   ]
  },
  {
   "cell_type": "code",
   "execution_count": 33,
   "id": "02054373-5032-4ebc-ae71-a3e2ec7f9927",
   "metadata": {},
   "outputs": [
    {
     "name": "stdout",
     "output_type": "stream",
     "text": [
      "this block will execute once try will execute itself without an exception\n"
     ]
    }
   ],
   "source": [
    "try:\n",
    "    f=open(\"test2.txt\",'w')\n",
    "    f.write(\"this is my example of try and else\")\n",
    "\n",
    "except Exception as e:\n",
    "    print(\"this is some issue with my code\", e)\n",
    "    \n",
    "else:   \n",
    "    f.close()\n",
    "    print(\"this block will execute once try will execute itself without an exception\")"
   ]
  },
  {
   "cell_type": "markdown",
   "id": "05ac39c3-05a7-446d-b38f-ce28935fc886",
   "metadata": {},
   "source": [
    "## finally in python:\n",
    "## It defines a block of code to run when the try... except...else block is final. The finally block will be executed no matter if the try block raises an error or not. This can be useful to close objects and clean up resources."
   ]
  },
  {
   "cell_type": "code",
   "execution_count": 34,
   "id": "d5f5f1e6-d78f-410f-8983-7e6a17b3ccde",
   "metadata": {},
   "outputs": [
    {
     "name": "stdout",
     "output_type": "stream",
     "text": [
      "this is some issue with my code not writable\n",
      "i will execute always\n"
     ]
    }
   ],
   "source": [
    "try:\n",
    "    f=open(\"test2.txt\",'r')\n",
    "    f.write(\"this is my example of try and else\")\n",
    "\n",
    "except Exception as e:\n",
    "    print(\"this is some issue with my code\", e)\n",
    "    \n",
    "else:   \n",
    "    f.close()\n",
    "    print(\"this block will execute once try will execute itself without an exception\")\n",
    "\n",
    "finally:\n",
    "    print(\"i will execute always\")\n",
    "    "
   ]
  },
  {
   "cell_type": "code",
   "execution_count": 35,
   "id": "3caf1db9-0596-4030-ae6c-efdae95fe910",
   "metadata": {},
   "outputs": [
    {
     "name": "stdout",
     "output_type": "stream",
     "text": [
      "this is some issue with my code [Errno 2] No such file or directory: 'test3.txt'\n",
      "i will execute always\n"
     ]
    }
   ],
   "source": [
    "## another example with an error\n",
    "try:    \n",
    "    f=open(\"test3.txt\",'r')\n",
    "    f.write(\"this is my example of try and else\")\n",
    "\n",
    "except Exception as e:\n",
    "    print(\"this is some issue with my code\", e)\n",
    "    \n",
    "else:   \n",
    "    f.close()\n",
    "    print(\"this block will execute once try will execute itself without an exception\")\n",
    "\n",
    "finally:\n",
    "    print(\"i will execute always\")\n",
    "    "
   ]
  },
  {
   "cell_type": "markdown",
   "id": "b4da01a3-9adb-4c68-a2da-5eb022de9c74",
   "metadata": {},
   "source": [
    "## raise:\n",
    "## Python raise Keyword is used to raise exceptions or errors. The raise keyword raises an error and stops the control flow of the program. "
   ]
  },
  {
   "cell_type": "code",
   "execution_count": 36,
   "id": "26b43b34-cf66-4a6f-a18a-ceee08ae5f16",
   "metadata": {},
   "outputs": [],
   "source": [
    "class validateage(Exception):\n",
    "    def __init__(self, msg):\n",
    "        self.msg=msg    \n",
    "    "
   ]
  },
  {
   "cell_type": "code",
   "execution_count": 37,
   "id": "7a216066-1832-4ad8-bab2-fc49a19da38e",
   "metadata": {},
   "outputs": [],
   "source": [
    "def validate_age(age):\n",
    "    if age <0 :\n",
    "        raise validateage(\"age should not be lesser then zero \")\n",
    "    elif age>200:\n",
    "    \n",
    "        raise validateage(\"age is too high\")\n",
    "            \n",
    "    else:\n",
    "        print(\"age is valid\")"
   ]
  },
  {
   "cell_type": "code",
   "execution_count": 38,
   "id": "b59c6926-f4cd-468d-b40a-b84d6f57067e",
   "metadata": {},
   "outputs": [
    {
     "name": "stdin",
     "output_type": "stream",
     "text": [
      "enter your age 24\n"
     ]
    },
    {
     "name": "stdout",
     "output_type": "stream",
     "text": [
      "age is valid\n"
     ]
    }
   ],
   "source": [
    "try:\n",
    "    age = int(input(\"enter your age\"))\n",
    "    validate_age(age)\n",
    "except validateage as e:\n",
    "    print(e)"
   ]
  },
  {
   "cell_type": "markdown",
   "id": "43c29cc7-8b49-41b5-a661-b9af95438786",
   "metadata": {},
   "source": [
    "## Q5. What are Custom Exceptions in python? Why do we need Custom Exceptions? Explain with an example."
   ]
  },
  {
   "cell_type": "markdown",
   "id": "63c28704-0d9e-40b2-aa92-4597b2c417ec",
   "metadata": {},
   "source": [
    "## Answer"
   ]
  },
  {
   "cell_type": "markdown",
   "id": "5692e7c2-a2f0-4dd4-b6f7-bb2cb33fa227",
   "metadata": {},
   "source": [
    "## In Python, we can define custom exceptions by creating a new class that is derived from the built-in Exception class.\n",
    "## Having custom exceptions: Can make your code much more readable and robust, and reduce the amount of code you write later to try and figure out what exactly went wrong."
   ]
  },
  {
   "cell_type": "code",
   "execution_count": 39,
   "id": "6fba3416-5a53-41d1-9eb1-8911e0abcbe4",
   "metadata": {},
   "outputs": [],
   "source": [
    "class Error(Exception):\n",
    "    pass\n",
    "class tempException(Error):\n",
    "    pass"
   ]
  },
  {
   "cell_type": "code",
   "execution_count": 43,
   "id": "af15cfa3-8578-45c1-8d24-f6c8a04f08d8",
   "metadata": {},
   "outputs": [
    {
     "name": "stdin",
     "output_type": "stream",
     "text": [
      "Enter the year of temp 26\n"
     ]
    },
    {
     "name": "stdout",
     "output_type": "stream",
     "text": [
      "The farenheit temperature is valid.\n"
     ]
    }
   ],
   "source": [
    "temp=int(input(\"Enter the year of temp\"))\n",
    "f=int((9/5)*temp+32)\n",
    "try:\n",
    "    if f>=32 & f<=212:\n",
    "        print(\"The farenheit temperature is valid.\")\n",
    "    else:\n",
    "        raise tempException\n",
    "except tempException:\n",
    "    print(\"The farenheit temperature is not within the range.\")"
   ]
  },
  {
   "cell_type": "markdown",
   "id": "03e666a1-eb80-47ec-8138-ce787f76315b",
   "metadata": {},
   "source": [
    "## Q6. Create a custom exception class. Use this class to handle an exception."
   ]
  },
  {
   "cell_type": "markdown",
   "id": "850f332f-2b31-4905-9b8d-01248e8a26f5",
   "metadata": {},
   "source": [
    "## Answer"
   ]
  },
  {
   "cell_type": "code",
   "execution_count": 41,
   "id": "2b88540c-972d-4dd3-863f-abc6e68a7703",
   "metadata": {},
   "outputs": [],
   "source": [
    "class Error(Exception):\n",
    "    pass\n",
    "class dobException(Error):\n",
    "    pass"
   ]
  },
  {
   "cell_type": "code",
   "execution_count": 42,
   "id": "6e56f9a6-44f6-4d48-b58c-4feeb0720208",
   "metadata": {},
   "outputs": [
    {
     "name": "stdin",
     "output_type": "stream",
     "text": [
      "Enter the year of birth 1998\n"
     ]
    },
    {
     "name": "stdout",
     "output_type": "stream",
     "text": [
      "The age is valid. You can apply for the exam\n"
     ]
    }
   ],
   "source": [
    "year=int(input(\"Enter the year of birth\"))\n",
    "age= 2023-year\n",
    "try:\n",
    "    if age>20 & age<=30:\n",
    "        print(\"The age is valid. You can apply for the exam\")\n",
    "    else:\n",
    "        raise dobException\n",
    "except dobException:\n",
    "    print(\"The age is not within the range. You can not apply for the exam\")"
   ]
  },
  {
   "cell_type": "code",
   "execution_count": null,
   "id": "db734eb8-28e7-47e8-a4a9-d37017054421",
   "metadata": {},
   "outputs": [],
   "source": []
  }
 ],
 "metadata": {
  "kernelspec": {
   "display_name": "Python 3 (ipykernel)",
   "language": "python",
   "name": "python3"
  },
  "language_info": {
   "codemirror_mode": {
    "name": "ipython",
    "version": 3
   },
   "file_extension": ".py",
   "mimetype": "text/x-python",
   "name": "python",
   "nbconvert_exporter": "python",
   "pygments_lexer": "ipython3",
   "version": "3.10.8"
  }
 },
 "nbformat": 4,
 "nbformat_minor": 5
}
