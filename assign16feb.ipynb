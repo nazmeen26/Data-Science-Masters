{
 "cells": [
  {
   "cell_type": "markdown",
   "id": "64e53e95-a190-4da5-89d2-6764d56cd573",
   "metadata": {},
   "source": [
    "## Q1. What is a database? Differentiate between SQL and NoSQL databases."
   ]
  },
  {
   "cell_type": "markdown",
   "id": "e3600dd3-2d24-4843-83ad-594bfafc4120",
   "metadata": {},
   "source": [
    "# Answer"
   ]
  },
  {
   "cell_type": "markdown",
   "id": "fa78c265-c5d8-4b25-8e54-625e750fcac0",
   "metadata": {
    "jp-MarkdownHeadingCollapsed": true,
    "tags": []
   },
   "source": [
    "## Definition\n",
    "## Python supports various databases like SQLite, MySQL, Oracle, Sybase, PostgreSQL, etc. Python also supports Data Definition Language (DDL), Data Manipulation Language (DML) and Data Query Statements. The Python standard for database interfaces is the Python DB-API.\n",
    "\n",
    "\n",
    "\n",
    "## SQL Database Definition\n",
    "## SQL database or relational database is a collection of highly structured tables, wherein each row reflects a data entity, and every column defines a specific information field. Relational databases are built using the structured query language (SQL) to create, store, update, and retrieve data."
   ]
  },
  {
   "cell_type": "markdown",
   "id": "5864dc50-5f5c-40a8-9c7b-a269975a1e6b",
   "metadata": {},
   "source": [
    "## Difference between SQL and NoSQL : SQL databases are vertically scalable, while NoSQL databases are horizontally scalable. SQL databases are table-based, while NoSQL databases are document, key-value, graph, or wide-column stores. SQL databases are better for multi-row transactions, while NoSQL is better for unstructured data like documents or JSON."
   ]
  },
  {
   "cell_type": "markdown",
   "id": "f243ffa6-c080-4eba-be06-fa0c5e9f56e4",
   "metadata": {
    "tags": []
   },
   "source": [
    "## Q2. What is DDL? Explain why CREATE, DROP, ALTER, and TRUNCATE are used with an example."
   ]
  },
  {
   "cell_type": "markdown",
   "id": "1769222a-265e-4d79-9da8-f2c0e923b123",
   "metadata": {},
   "source": [
    "## Answer"
   ]
  },
  {
   "cell_type": "markdown",
   "id": "513ea3e9-0c6d-4223-89de-d1b716d3781c",
   "metadata": {},
   "source": [
    "## Data Definition Language(DDL) is a subset of SQL and a part of DBMS(Database Management System). DDL consist of Commands to commands like CREATE, ALTER, TRUNCATE and DROP. These commands are used to create or modify the tables in SQL."
   ]
  },
  {
   "cell_type": "markdown",
   "id": "cf00383d-830c-46cf-b2af-483b74b4b75f",
   "metadata": {},
   "source": [
    "## CREATE :\n",
    "## This command is used to create a new table in SQL. The user has to give information like table name, column names, and their datatypes.\n",
    "\n",
    "CREATE TABLE table_name\n",
    "\n",
    "(\n",
    " column_1 datatype,\n",
    "column_2 datatype,\n",
    "column_3 datatype,\n",
    "....\n",
    ");"
   ]
  },
  {
   "cell_type": "markdown",
   "id": "f6c72a7b-d70f-42b4-a22d-ef81d9647848",
   "metadata": {},
   "source": [
    "\n",
    "## Examples –\n",
    "## CREATE\n",
    "## We need to create a table for storing Student information of a particular College. Create syntax would be as below.\n",
    "\n",
    "CREATE TABLE Student_info\n",
    "(\n",
    "College_Id number(2),\n",
    "College_name varchar(30),\n",
    "Branch varchar(10)\n",
    ");"
   ]
  },
  {
   "cell_type": "markdown",
   "id": "fb10f7d2-47e9-4e64-bad0-4127cb615878",
   "metadata": {},
   "source": [
    "## ALTER :\n",
    "## This command is used to add, delete or change columns in the existing table. The user needs to know the existing table name and can do add, delete or modify tasks easily.\n",
    "\n",
    "\n",
    "## Example –\n",
    "## In our Student_info table, we want to add a new column for CGPA. The syntax would be as below as follows.\n",
    "\n",
    "ALTER TABLE Student_info\n",
    "ADD CGPA number;"
   ]
  },
  {
   "cell_type": "markdown",
   "id": "292139fd-db2b-4ae0-8a48-1c8aa5b42c27",
   "metadata": {},
   "source": [
    "## TRUNCATE :\n",
    "## This command is used to remove all rows from the table, but the structure of the table still exists.\n",
    "\n",
    "## Example –\n",
    "## The College Authority wants to remove the details of all students for new batches but wants to keep the table structure. The command they can use is as follows.\n",
    "\n",
    "TRUNCATE TABLE Student_info;"
   ]
  },
  {
   "cell_type": "markdown",
   "id": "08f1fd6f-fccd-4919-82f4-b93aa922f126",
   "metadata": {},
   "source": [
    "## DROP :\n",
    "## This command is used to remove an existing table along with its structure from the Database.\n",
    "\n",
    "\n",
    "## Example –\n",
    "## If the College Authority wants to change their Database by deleting the Student_info Table. \n",
    "\n",
    "DROP TABLE Student_info;"
   ]
  },
  {
   "cell_type": "markdown",
   "id": "428299b6-4f72-4583-905c-35b484f2d65a",
   "metadata": {},
   "source": [
    "## Q3. What is DML? Explain INSERT, UPDATE, and DELETE with an example"
   ]
  },
  {
   "cell_type": "markdown",
   "id": "6660971b-649d-41f9-9abc-c0090632d474",
   "metadata": {},
   "source": [
    "## Answer"
   ]
  },
  {
   "cell_type": "markdown",
   "id": "8c75bdf0-e1ed-4e2c-86e4-f343f014927a",
   "metadata": {},
   "source": [
    "## Data Manipulation Language or DML is a subset of operations used to insert, delete, and update data in a database. A DML is often a sublanguage of a more extensive language like SQL; DML comprises some of the operators in the language.\n"
   ]
  },
  {
   "cell_type": "markdown",
   "id": "6a92ae0c-1b6b-42d1-97b2-79a48ea46576",
   "metadata": {},
   "source": [
    "## In the Statement field, enter the SQL statement to insert, update, or delete the records.\n",
    "\n",
    "## example\n",
    "\n",
    "## Use an INSERT statement to create new records in a table:\n",
    "INSERT INTO table_name (column1, column2, column3, ...)\n",
    "VALUES (value1, value2, value3, ...)\n",
    "\n",
    "## Use an UPDATE statement to modify a record:\n",
    "UPDATE table_name\n",
    "SET column1 = value1, column2 = value2, ...\n",
    "WHERE condition\n",
    "\n",
    "\n",
    "## Use a DELETE statement to remove a record:\n",
    "DELETE FROM table_name WHERE condition\n",
    "Example: DELETE FROM Persons WHERE LastName='Smith'\n"
   ]
  },
  {
   "cell_type": "markdown",
   "id": "f4d93bf4-a6fb-4287-a51d-e9f0dbc42c64",
   "metadata": {},
   "source": [
    "## Q4. What is DQL? Explain SELECT with an example."
   ]
  },
  {
   "cell_type": "markdown",
   "id": "402bdc8d-3477-4104-b1a4-ba12f370b792",
   "metadata": {},
   "source": [
    "## Answer"
   ]
  },
  {
   "cell_type": "markdown",
   "id": "970701f5-1227-49e4-825c-625112b37648",
   "metadata": {},
   "source": [
    "## Query languages, often known as DQLs or Data Query Languages, are computer languages that are used to make various queries in information systems and databases. The Structured Query Language (SQL) is a well-known example. DQL statements are used to query the data contained in schema objects."
   ]
  },
  {
   "cell_type": "markdown",
   "id": "83a60150-be52-4259-b00f-794fbe37967d",
   "metadata": {},
   "source": [
    "## Examples: Given a table T, the query SELECT * FROM T will result in all the elements of all the rows of the table being shown. With the same table, the query SELECT C1 FROM T will result in the elements from the column C1 of all the rows of the table being shown."
   ]
  },
  {
   "cell_type": "code",
   "execution_count": null,
   "id": "b14232da-1e79-4316-9f6e-b615be147717",
   "metadata": {},
   "outputs": [],
   "source": [
    "SELECT College_name FROM Student_info;"
   ]
  },
  {
   "cell_type": "markdown",
   "id": "97d179eb-c9a9-43c4-870e-970c448bcca3",
   "metadata": {},
   "source": [
    "## Q5. Explain Primary Key and Foreign Key."
   ]
  },
  {
   "cell_type": "markdown",
   "id": "d638ae97-0016-415c-b857-785c5b2373e9",
   "metadata": {},
   "source": [
    "## Answer"
   ]
  },
  {
   "cell_type": "markdown",
   "id": "87b1d0d1-b317-4a98-92ae-ef88f88b1b31",
   "metadata": {},
   "source": [
    "## Primary keys serve as unique identifiers for each row in a database table. Foreign keys link data in one table to the data in another table. A foreign key column in a table points to a column with unique values in another table (often the primary key column) to create a way of cross-referencing the two tables."
   ]
  },
  {
   "cell_type": "markdown",
   "id": "64edf542-be9d-4473-987c-1e195ebf59a4",
   "metadata": {},
   "source": [
    "## The PRIMARY KEY constraint uniquely identifies each record in a table. Primary keys must contain UNIQUE values, and cannot contain NULL values. A table can have only ONE primary key; and in the table, this primary key can consist of single or multiple columns."
   ]
  },
  {
   "cell_type": "markdown",
   "id": "c4958cd2-9ec2-499a-a7e9-537dd05763f3",
   "metadata": {},
   "source": [
    "## A foreign key column in a table points to a column with unique values in another table (often the primary key column) to create a way of cross-referencing the two tables."
   ]
  },
  {
   "cell_type": "markdown",
   "id": "dd169b9e-8955-42ee-abe4-fb42ff6cfd27",
   "metadata": {},
   "source": [
    "## Q6. Write a python code to connect MySQL to python. Explain the cursor() and execute() method."
   ]
  },
  {
   "cell_type": "markdown",
   "id": "6ffe295c-b476-49fd-b619-35496e9e674d",
   "metadata": {},
   "source": [
    "## Answer"
   ]
  },
  {
   "cell_type": "markdown",
   "id": "756ca41d-be7e-48d9-b4c6-d45f5396987e",
   "metadata": {},
   "source": [
    "import mysql.connector\n",
    "\n",
    "mydb = mysql.connector.connect(\n",
    "  host=\"localhost\",\n",
    "  user=\"abc\",\n",
    "  password=\"password\"\n",
    ")\n",
    "\n",
    "print(mydb)"
   ]
  },
  {
   "cell_type": "markdown",
   "id": "9cbf740c-cf41-4036-b94b-2e5373b27235",
   "metadata": {},
   "source": [
    "## A cursor encapsulates a SQL query and returning results. You only need an explicit cursor if you want more information or control over execution. Using Connection. execute() or Connection.\n"
   ]
  },
  {
   "cell_type": "markdown",
   "id": "eafa6c2f-ac09-45e1-8775-c54de08a39e2",
   "metadata": {},
   "source": [
    "## Q7. Give the order of execution of SQL clauses in an SQL query."
   ]
  },
  {
   "cell_type": "markdown",
   "id": "dc69e2ba-a548-41e5-901d-8cdb33472cd3",
   "metadata": {},
   "source": [
    "## Answer"
   ]
  },
  {
   "cell_type": "markdown",
   "id": "c0af617c-b7ee-4581-8e50-b1ef16382317",
   "metadata": {},
   "source": [
    "## The correct order of execution in SQL is FROM, WHERE, GROUP BY, HAVING, SELECT, DISTINCT, ORDER BY and LIMIT."
   ]
  },
  {
   "cell_type": "code",
   "execution_count": null,
   "id": "d6de738f-5ca6-45d7-9f6c-4150fd9e6100",
   "metadata": {},
   "outputs": [],
   "source": []
  },
  {
   "cell_type": "code",
   "execution_count": null,
   "id": "b13ac801-4fb2-4b42-975c-6bd64d0b6ba1",
   "metadata": {},
   "outputs": [],
   "source": []
  },
  {
   "cell_type": "code",
   "execution_count": null,
   "id": "51121e09-8fac-4a69-96f7-34a13f130c71",
   "metadata": {},
   "outputs": [],
   "source": []
  }
 ],
 "metadata": {
  "kernelspec": {
   "display_name": "Python 3 (ipykernel)",
   "language": "python",
   "name": "python3"
  },
  "language_info": {
   "codemirror_mode": {
    "name": "ipython",
    "version": 3
   },
   "file_extension": ".py",
   "mimetype": "text/x-python",
   "name": "python",
   "nbconvert_exporter": "python",
   "pygments_lexer": "ipython3",
   "version": "3.10.8"
  }
 },
 "nbformat": 4,
 "nbformat_minor": 5
}
