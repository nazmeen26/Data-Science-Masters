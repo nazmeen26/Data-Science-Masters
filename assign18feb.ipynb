{
 "cells": [
  {
   "cell_type": "markdown",
   "id": "c9c58180-e9de-4cb6-b4ca-90b6c0f48b26",
   "metadata": {},
   "source": [
    "## Q1. What is an API? Give an example, where an API is used in real life."
   ]
  },
  {
   "cell_type": "markdown",
   "id": "c5f0772f-0e10-4e00-833f-638b4c9438e3",
   "metadata": {},
   "source": [
    "## Answer"
   ]
  },
  {
   "cell_type": "markdown",
   "id": "45f99e9b-1db4-45e5-89ee-f7ac5bc05e77",
   "metadata": {},
   "source": [
    "## API stands for Application Programming Interface. In the context of APIs, the word Application refers to any software with a distinct function. Interface can be thought of as a contract of service between two applications."
   ]
  },
  {
   "cell_type": "markdown",
   "id": "6d29acf6-319f-41d1-a993-b2b8086a0f7d",
   "metadata": {},
   "source": [
    "## Public API examples include social media bots, third-party login, e-commerce transactions, and weather apps. Private API examples include streaming services, ensuring media compatibility on various devices, and financial apps that connect different aspects of managing finances in a bank."
   ]
  },
  {
   "cell_type": "markdown",
   "id": "8a6ef888-8026-45ef-be6b-a9b0821e7c09",
   "metadata": {},
   "source": [
    "## Q2. Give advantages and disadvantages of using API."
   ]
  },
  {
   "cell_type": "markdown",
   "id": "cd7cd4fa-b693-495b-a9e3-ae140e6aea4f",
   "metadata": {},
   "source": [
    "## Answer"
   ]
  },
  {
   "cell_type": "markdown",
   "id": "c3a1dda7-1d82-45e8-80d5-ef264dd4a8d3",
   "metadata": {},
   "source": [
    "## Advantages:\n",
    "\n",
    "## Increased Interoperability: API solutions enable different software systems to communicate with each other, regardless of their programming language or platform. This enhances the interoperability between systems, allowing for the exchange of data and functionality.\n",
    "## Improved Efficiency: API driven infrastructures enable developers to reuse code and functionality from existing software systems, saving time and reducing the amount of code that needs to be written from scratch.\n",
    "## Better User Experience: APIs can enable third-party developers to create applications that integrate with existing software systems, providing a better user experience and increased functionality.\n",
    "## Increased Flexibility: APIs provide developers with greater flexibility, enabling them to choose the best programming languages and frameworks for their needs.\n",
    "## New Revenue Streams: APIs can enable companies to create new revenue streams by providing third-party developers with access to their software systems."
   ]
  },
  {
   "cell_type": "markdown",
   "id": "734931c1-3b2f-40d5-9939-8402a1e76b97",
   "metadata": {},
   "source": [
    "## Disadvantages:\n",
    "## Security Concerns: API infrastructures can be vulnerable to security breaches, such as SQL injection attacks and cross-site scripting (XSS) attacks, making it crucial to implement security measures to protect against these threats.\n",
    "## Complexity: APIs can be complex, requiring a significant amount of development effort to implement and maintain.\n",
    "## Compatibility Issues: APIs can have compatibility issues between different versions of the same software system or between different systems, which can lead to errors and system failures.\n",
    "## Dependency on Third-Party Developers: APIs rely on third-party developers to create applications that integrate with the software system. This can create dependencies that are outside of the control of the company that owns the software system.\n",
    "## Governance and Management: APIs require proper governance and management to ensure they are being used correctly and consistently across different applications and systems."
   ]
  },
  {
   "cell_type": "markdown",
   "id": "9aafdcd5-53cf-46d6-bb43-a81f1b13a874",
   "metadata": {},
   "source": [
    "## Q3. What is a Web API? Differentiate between API and Web API."
   ]
  },
  {
   "cell_type": "markdown",
   "id": "050e6ebb-a4f7-4f65-b156-2458d7629b10",
   "metadata": {},
   "source": [
    "## Answer"
   ]
  },
  {
   "cell_type": "markdown",
   "id": "ce10aed1-7bd6-4855-bbb1-b7057dc19ec4",
   "metadata": {},
   "source": [
    "## API stands for Application Programming Interface. A Web API is an application programming interface for the Web. A Browser API can extend the functionality of a web browser."
   ]
  },
  {
   "cell_type": "markdown",
   "id": "28484a7e-1be0-41db-bad6-3ee984e4f75e",
   "metadata": {},
   "source": [
    "## API is an interface that exposes an application's data to outside software, whereas web applications are one type of API with stricter requirements. These requirements include network communication, SOAP as the primary protocol, and less accessibility for the public."
   ]
  },
  {
   "cell_type": "markdown",
   "id": "50bddc6e-6e47-420d-b28a-5e4aebe56427",
   "metadata": {},
   "source": [
    "## REST APIs are the most widely used for data integration, facilitating efficient data transfer. Meanwhile, Web APIs are utilized to access data on remote servers more efficiently. Overall, understanding the distinctions between REST APIs and Web APIs is crucial for selecting the appropriate API for a given application."
   ]
  },
  {
   "cell_type": "markdown",
   "id": "afa4fcfd-67b9-4363-abb2-15edcd635744",
   "metadata": {},
   "source": [
    "## Q4. Explain REST and SOAP Architecture. Mention shortcomings of SOAP."
   ]
  },
  {
   "cell_type": "markdown",
   "id": "8fdac366-ceb3-4f24-a5f9-9b31c953e3d2",
   "metadata": {},
   "source": [
    "## A REST API is an application programming interface (API) that uses a representational state transfer (REST) architectural style. The REST architectural style uses HTTP to request access and use data. This allows for interaction with RESTful web services.\n",
    "\n",
    "## The SOAP web services architecture is based on interactions between three components: a service provider, a service requester, and an optional service registry. A SOAP message is encoded as an XML document, consisting of an Envelope element, which contains an optional Header element, and a mandatory Body element."
   ]
  },
  {
   "cell_type": "markdown",
   "id": "17268a90-0d03-4426-b7ee-b596c3829902",
   "metadata": {},
   "source": [
    "## SOAP messages are larger, which makes communication slower. REST has faster performance due to smaller messages and caching support. SOAP is difficult to scale. The server maintains state by storing all previous messages exchanged with a client.\n"
   ]
  },
  {
   "cell_type": "markdown",
   "id": "a0e4e9dc-7d57-438f-b96a-ad9bd15ca8cc",
   "metadata": {},
   "source": [
    "## Q5. Differentiate between REST and SOAP."
   ]
  },
  {
   "cell_type": "markdown",
   "id": "b21b4e2a-87bb-490f-8b5c-e340ef7fad99",
   "metadata": {},
   "source": [
    "## Answer"
   ]
  },
  {
   "cell_type": "markdown",
   "id": "8e4d7918-6ea4-4cc4-a67f-6aabc1b91049",
   "metadata": {},
   "source": [
    "## SOAP and REST are two different approaches to API design. The SOAP approach is highly structured and uses XML data format. REST is more flexible and allows applications to exchange data in multiple formats."
   ]
  },
  {
   "cell_type": "markdown",
   "id": "0a28bd4d-f6d9-470c-a062-6695cdd073d0",
   "metadata": {},
   "source": [
    "## The main difference is that SOAP is a structured protocol, while REST is more flexible and less defined. REST and SOAP are two different ways to connect applications with server-side data. Both of the API formats use data that both humans and machines can read, and both often use HTTP protocols."
   ]
  },
  {
   "cell_type": "code",
   "execution_count": null,
   "id": "16ab2402-0e89-4ee1-b890-3adb87dc6214",
   "metadata": {},
   "outputs": [],
   "source": []
  }
 ],
 "metadata": {
  "kernelspec": {
   "display_name": "Python 3 (ipykernel)",
   "language": "python",
   "name": "python3"
  },
  "language_info": {
   "codemirror_mode": {
    "name": "ipython",
    "version": 3
   },
   "file_extension": ".py",
   "mimetype": "text/x-python",
   "name": "python",
   "nbconvert_exporter": "python",
   "pygments_lexer": "ipython3",
   "version": "3.10.8"
  }
 },
 "nbformat": 4,
 "nbformat_minor": 5
}
