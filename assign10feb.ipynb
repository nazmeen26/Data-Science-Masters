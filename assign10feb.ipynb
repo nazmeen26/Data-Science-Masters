{
 "cells": [
  {
   "cell_type": "markdown",
   "id": "c8bf4d29-a1c8-4891-b61a-97250aec48a5",
   "metadata": {},
   "source": [
    "## Q1. Which function is used to open a file? What are the different modes of opening a file? Explain each mode of file opening."
   ]
  },
  {
   "cell_type": "markdown",
   "id": "0e33359d-95fe-427c-a8e9-78905c5820ba",
   "metadata": {},
   "source": [
    "## Answer"
   ]
  },
  {
   "cell_type": "markdown",
   "id": "5a2d8ad1-210e-4b9c-9b1a-fd0497c4a2c3",
   "metadata": {},
   "source": [
    "## open() function\n",
    "## The open() function opens a file, and returns it as a file object."
   ]
  },
  {
   "cell_type": "markdown",
   "id": "a2ec8ee3-848a-4505-8bf2-aefca8a4d910",
   "metadata": {},
   "source": [
    "## Modes of opening a file:"
   ]
  },
  {
   "cell_type": "markdown",
   "id": "e22b290b-d27b-4f15-82cf-e951a3d58e6d",
   "metadata": {},
   "source": [
    "## 'r' :      open for reading (default)\n",
    "## 'w' :     open for writing, truncating the file first\n",
    "## 'x' :      create a new file and open it for writing\n",
    "## 'a' :      open for writing, appending to the end of the file if it exists\n",
    "## 'b' :      binary mode\n",
    "## 't' :      text mode (default)\n",
    "## '+' :      open a disk file for updating (reading and writing)"
   ]
  },
  {
   "cell_type": "markdown",
   "id": "7f906753-51e1-48ed-9752-a1e27004cab2",
   "metadata": {},
   "source": [
    "## Q2. Why close() function is used? Why is it important to close a file?"
   ]
  },
  {
   "cell_type": "markdown",
   "id": "2293596c-8490-4f41-afc9-846470b1417f",
   "metadata": {},
   "source": [
    "## Answer"
   ]
  },
  {
   "cell_type": "markdown",
   "id": "251522c8-b339-4e71-8d2e-437fcba232d4",
   "metadata": {},
   "source": [
    "## Closing a file in Python is just as important as opening it. When a file is closed, Python frees up the system resources that were used during the file operation. If a file is not properly closed, it can lead to memory leaks, which can slow down your program or even cause it to crash."
   ]
  },
  {
   "cell_type": "markdown",
   "id": "76cbe670-8ae5-4743-ae47-1e87fdb63b13",
   "metadata": {},
   "source": [
    "## Q3. Write a python program to create a text file. Write ‘I want to become a Data Scientist’ in that file. Then close the file. Open this file and read the content of the file.  "
   ]
  },
  {
   "cell_type": "code",
   "execution_count": 7,
   "id": "79c6c8ec-825e-4638-9d01-322bc12a2913",
   "metadata": {},
   "outputs": [],
   "source": [
    "f= open(\"file.txt\", 'w')"
   ]
  },
  {
   "cell_type": "code",
   "execution_count": 8,
   "id": "17e26b70-a9ae-4226-9719-2ffefde8f382",
   "metadata": {},
   "outputs": [
    {
     "data": {
      "text/plain": [
       "37"
      ]
     },
     "execution_count": 8,
     "metadata": {},
     "output_type": "execute_result"
    }
   ],
   "source": [
    "f.write(\" 'I want to become a Data Scientist' \")"
   ]
  },
  {
   "cell_type": "code",
   "execution_count": 9,
   "id": "bcaa1566-8e8e-4841-b75a-d8d6e08d1f84",
   "metadata": {},
   "outputs": [],
   "source": [
    "f.close()"
   ]
  },
  {
   "cell_type": "code",
   "execution_count": 12,
   "id": "0cea0201-1a12-4338-a6d2-a147fe60b3d1",
   "metadata": {},
   "outputs": [],
   "source": [
    "## refresh and open the file.txt you will get the content."
   ]
  },
  {
   "cell_type": "code",
   "execution_count": 13,
   "id": "508a696a-a67f-438f-8b60-abd117eaff64",
   "metadata": {},
   "outputs": [],
   "source": [
    "content= open(\"file.txt\", 'r')"
   ]
  },
  {
   "cell_type": "code",
   "execution_count": 14,
   "id": "ba816a6a-21db-476b-a9dc-ce8d94c8677d",
   "metadata": {},
   "outputs": [
    {
     "data": {
      "text/plain": [
       "\" 'I want to become a Data Scientist' \""
      ]
     },
     "execution_count": 14,
     "metadata": {},
     "output_type": "execute_result"
    }
   ],
   "source": [
    "content.read()"
   ]
  },
  {
   "cell_type": "markdown",
   "id": "7f4d4c70-f94e-48a1-a8c0-4edd9e57ec01",
   "metadata": {},
   "source": [
    "## Q4. Explain the following with python code: read(), readline() and readlines() ."
   ]
  },
  {
   "cell_type": "markdown",
   "id": "3571c644-a6be-486e-8728-ec8a7cbb1ecd",
   "metadata": {},
   "source": [
    "## Answer"
   ]
  },
  {
   "cell_type": "markdown",
   "id": "0fe5a8bb-533c-4d40-99eb-833527fcd38e",
   "metadata": {},
   "source": [
    "## read() : This funtion reads the entire file and returns a string.\n",
    "## readline() : readline() method will return a line from the file when called.Readlines() is a function that is used in Python to read a particular file line by line in a single go.\n",
    "## readlines(): The readlines() method returns a list containing each line in the file as a list item.\n"
   ]
  },
  {
   "cell_type": "code",
   "execution_count": null,
   "id": "c9963c55-57dd-43de-9886-ee934d0a28c2",
   "metadata": {},
   "outputs": [],
   "source": [
    "## read() example \n"
   ]
  },
  {
   "cell_type": "code",
   "execution_count": 41,
   "id": "d986a3de-6788-4b96-968c-c03a688b2457",
   "metadata": {},
   "outputs": [],
   "source": [
    "f1= open(\"file1.txt\", 'w')"
   ]
  },
  {
   "cell_type": "code",
   "execution_count": 42,
   "id": "2e4b335f-4d95-4319-9780-cf271bbe3a27",
   "metadata": {},
   "outputs": [
    {
     "data": {
      "text/plain": [
       "38"
      ]
     },
     "execution_count": 42,
     "metadata": {},
     "output_type": "execute_result"
    }
   ],
   "source": [
    "f1.write(\" 'This is my 1st example of read()'\\n \")\n",
    "f1.write(\" 'This is my 2nd example of read()' \\n \")\n",
    "f1.write(\" 'This is my 3rd example of read()' \\n \")"
   ]
  },
  {
   "cell_type": "code",
   "execution_count": 35,
   "id": "b4680e2d-e9ae-433a-b0fd-e76840472b18",
   "metadata": {},
   "outputs": [],
   "source": [
    "f1.close()"
   ]
  },
  {
   "cell_type": "code",
   "execution_count": 45,
   "id": "8c6a3a0e-c161-4556-b3f7-26cc9ba38e19",
   "metadata": {},
   "outputs": [],
   "source": [
    "file1=open(\"file1.txt\", 'r')"
   ]
  },
  {
   "cell_type": "code",
   "execution_count": 37,
   "id": "6efdf904-0f98-4d76-b90b-c3c533e891fe",
   "metadata": {},
   "outputs": [
    {
     "data": {
      "text/plain": [
       "\" 'This is my 1st example of read()'\\n  'This is my 2nd example of read()' \\n  'This is my 3rd example of read()' \\n \""
      ]
     },
     "execution_count": 37,
     "metadata": {},
     "output_type": "execute_result"
    }
   ],
   "source": [
    "file1.read()"
   ]
  },
  {
   "cell_type": "code",
   "execution_count": 38,
   "id": "8e523b9b-737d-497d-9796-fba7196913ae",
   "metadata": {},
   "outputs": [],
   "source": [
    "## readline() example "
   ]
  },
  {
   "cell_type": "code",
   "execution_count": 53,
   "id": "e151e9b8-d435-496e-8a30-6dd232d02efd",
   "metadata": {},
   "outputs": [],
   "source": [
    "f2= open(\"file2.txt\", 'w')"
   ]
  },
  {
   "cell_type": "code",
   "execution_count": 54,
   "id": "ce19daaf-fc55-40b6-a3c5-580b0708a258",
   "metadata": {},
   "outputs": [
    {
     "data": {
      "text/plain": [
       "38"
      ]
     },
     "execution_count": 54,
     "metadata": {},
     "output_type": "execute_result"
    }
   ],
   "source": [
    "f2.write(\" 'This is my 1st example of read()'\\n \")\n",
    "f2.write(\" 'This is my 2nd example of read()' \\n \")\n",
    "f2.write(\" 'This is my 3rd example of read()' \\n \")"
   ]
  },
  {
   "cell_type": "code",
   "execution_count": 57,
   "id": "117faa40-2857-4218-a48b-c194a4bd5230",
   "metadata": {},
   "outputs": [],
   "source": [
    "f2.close()"
   ]
  },
  {
   "cell_type": "code",
   "execution_count": 58,
   "id": "03576f9b-9879-4ff9-8286-743431d89c29",
   "metadata": {},
   "outputs": [],
   "source": [
    "file2= open(\"file2.txt\", 'r')"
   ]
  },
  {
   "cell_type": "code",
   "execution_count": 61,
   "id": "e6be32dc-10b3-4a73-b953-22a13d437473",
   "metadata": {},
   "outputs": [
    {
     "data": {
      "text/plain": [
       "\"  'Th\""
      ]
     },
     "execution_count": 61,
     "metadata": {},
     "output_type": "execute_result"
    }
   ],
   "source": [
    "file2.readline(5)"
   ]
  },
  {
   "cell_type": "code",
   "execution_count": 62,
   "id": "b7ab436f-66f9-43cc-b1bd-8f0abe0a4924",
   "metadata": {},
   "outputs": [
    {
     "data": {
      "text/plain": [
       "\"is is my 2nd example of read()' \\n\""
      ]
     },
     "execution_count": 62,
     "metadata": {},
     "output_type": "execute_result"
    }
   ],
   "source": [
    "file2.readline()"
   ]
  },
  {
   "cell_type": "code",
   "execution_count": 63,
   "id": "85ac91fe-cb21-438c-8bd0-56f8620aa189",
   "metadata": {},
   "outputs": [],
   "source": [
    "## readlines example"
   ]
  },
  {
   "cell_type": "code",
   "execution_count": 64,
   "id": "71d20dba-d716-4b8b-a6f9-83984d9742be",
   "metadata": {},
   "outputs": [
    {
     "data": {
      "text/plain": [
       "[\"  'This is my 3rd example of read()' \\n\"]"
      ]
     },
     "execution_count": 64,
     "metadata": {},
     "output_type": "execute_result"
    }
   ],
   "source": [
    "file2.readlines(2)"
   ]
  },
  {
   "cell_type": "markdown",
   "id": "3c9da634-19cd-457e-9214-f3e2af795e40",
   "metadata": {},
   "source": [
    "## Q5. Explain why with statement is used with open(). What is the advantage of using with statement and open() together?"
   ]
  },
  {
   "cell_type": "markdown",
   "id": "d9bf8ec9-e921-4eda-94d1-1b1f0d9a2f73",
   "metadata": {},
   "source": [
    "## The with statement works with the open() function to open a file. Unlike open() where you have to close the file with the close() method, the with statement closes the file for you without you telling it to. This is because the with statement calls 2 built-in methods behind the scene – __enter()__ and __exit()__ .\n"
   ]
  },
  {
   "cell_type": "markdown",
   "id": "ac2c87d1-3443-493f-88f4-a7120c2e4655",
   "metadata": {},
   "source": [
    "## Example"
   ]
  },
  {
   "cell_type": "code",
   "execution_count": 69,
   "id": "395677a9-01dd-43d3-b4fa-e63ab397776c",
   "metadata": {},
   "outputs": [],
   "source": [
    "with open(\"hello.txt\", \"w\") as my_file:\n",
    "    my_file.write(\"Hello world \\n\")\n",
    "    my_file.write(\"I hope you're doing well today \\n\")\n",
    "    my_file.write(\"This is a text file \\n\")\n",
    "    my_file.write(\"Have a nice time \\n\")\n",
    "\n"
   ]
  },
  {
   "cell_type": "markdown",
   "id": "f7fd6340-390e-490e-8608-0eb37a00dc36",
   "metadata": {},
   "source": [
    "## Q6. Explain the write() and writelines() functions. Give a suitable example.\n"
   ]
  },
  {
   "cell_type": "markdown",
   "id": "23384b11-7429-4208-9290-1929b1726cf5",
   "metadata": {},
   "source": [
    "## Answer"
   ]
  },
  {
   "cell_type": "markdown",
   "id": "64d76c08-3663-4309-aba4-62c6c881e44d",
   "metadata": {},
   "source": [
    "## The write() method is a popular method for writing data to a text file in Python. It accepts a single string argument and writes it to the specified file. The basic steps to use the write() method are: Open the file using the open() function and specify the mode as 'w' or 'a'."
   ]
  },
  {
   "cell_type": "code",
   "execution_count": 70,
   "id": "c417c2c2-dd6b-40c2-9b94-1b53fb7775b0",
   "metadata": {},
   "outputs": [],
   "source": [
    "## example\n",
    "\n",
    "with open(\"hello1.txt\", \"w\") as my_file:\n",
    "    my_file.write(\"Hello world \\n\")\n",
    "    my_file.write(\"I hope you're doing well today \\n\")\n",
    "    my_file.write(\"This is a text file \\n\")\n",
    "    my_file.write(\"Have a nice time \\n\")\n",
    "\n"
   ]
  },
  {
   "cell_type": "markdown",
   "id": "16057865-2722-45be-aca8-783d4a490224",
   "metadata": {},
   "source": [
    "## The writelines() method writes the items of a list to the file. Where the texts will be inserted depends on the file mode and stream position. \"a\" : The texts will be inserted at the current file stream position, default at the end of the file."
   ]
  },
  {
   "cell_type": "code",
   "execution_count": 75,
   "id": "b6b6ffb6-ad56-42a2-9a59-577f8b80f72f",
   "metadata": {},
   "outputs": [],
   "source": [
    "## example\n",
    "\n",
    "with open(\"hello2.txt\", \"a\") as my_file1:\n",
    "    my_file1.writelines([\"Hello world \\n\", \"I hope you're doing well today \\n\", \"This is a text file \\n\",\"Have a nice time \\n\"])\n",
    "\n"
   ]
  },
  {
   "cell_type": "code",
   "execution_count": null,
   "id": "10ae8fa3-3bc4-4d34-8905-5c2a0c9f75dc",
   "metadata": {},
   "outputs": [],
   "source": []
  }
 ],
 "metadata": {
  "kernelspec": {
   "display_name": "Python 3 (ipykernel)",
   "language": "python",
   "name": "python3"
  },
  "language_info": {
   "codemirror_mode": {
    "name": "ipython",
    "version": 3
   },
   "file_extension": ".py",
   "mimetype": "text/x-python",
   "name": "python",
   "nbconvert_exporter": "python",
   "pygments_lexer": "ipython3",
   "version": "3.10.8"
  }
 },
 "nbformat": 4,
 "nbformat_minor": 5
}
