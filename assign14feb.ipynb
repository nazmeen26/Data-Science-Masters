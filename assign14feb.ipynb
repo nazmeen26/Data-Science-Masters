{
 "cells": [
  {
   "cell_type": "markdown",
   "id": "c39d997c-9e68-4b99-b57b-4e1cd800aeed",
   "metadata": {},
   "source": [
    "## Q1. What is multithreading in python? Why is it used? Name the module used to handle threads in python.\n"
   ]
  },
  {
   "cell_type": "markdown",
   "id": "205be453-192e-4793-89e9-0ef14b09c57a",
   "metadata": {},
   "source": [
    "## Answer"
   ]
  },
  {
   "cell_type": "markdown",
   "id": "97e3f734-49e5-411e-81a3-6092caf20aa6",
   "metadata": {},
   "source": [
    "## Python multithreading enables efficient utilization of the resources as the threads share the data space and memory. Multithreading in Python allows the concurrent and parallel occurrence of various tasks. It causes a reduction in time consumption or response time, thereby increasing the performance.\n"
   ]
  },
  {
   "cell_type": "markdown",
   "id": "897ad4c4-6ffb-4a22-ab49-9f4956883ff6",
   "metadata": {},
   "source": [
    "## The threading module\n",
    "## The threading module is a high-level implementation of multithreading used to deploy an application in Python. To use multithreading, we need to import the threading module in Python Program.\n"
   ]
  },
  {
   "cell_type": "markdown",
   "id": "3c15076c-6e3a-4b52-9380-3bf1d07cbd6d",
   "metadata": {},
   "source": [
    "## Q2. Why threading module used? Write the use of the following functions.\n",
    "## 1. activeCount()\n",
    "## 2. currentThread()\n",
    "## 3. enumerate()"
   ]
  },
  {
   "cell_type": "markdown",
   "id": "5aa6776f-0c7a-4a11-addd-adce3883f0b0",
   "metadata": {},
   "source": [
    "## Answer"
   ]
  },
  {
   "cell_type": "markdown",
   "id": "605b1268-8762-4e2b-9f51-daf9b047629e",
   "metadata": {},
   "source": [
    "## Threading allows you to have different parts of your process run concurrently (Source: RealPython). These different parts are usually individual and have a separate unit of execution belonging to the same process. The process is nothing but a running program that has individual units that can be run concurrently.\n"
   ]
  },
  {
   "cell_type": "markdown",
   "id": "6ab8fb5e-9a6a-4902-849c-3ec8139dc204",
   "metadata": {},
   "source": [
    "## 1. activeCount(): activeCount() Method. The threading. activeCount() is an inbuilt method of the threading module, it is used to return the number of Thread objects that are active at any instant."
   ]
  },
  {
   "cell_type": "markdown",
   "id": "84f4cfd8-7cf1-41dc-b9c9-697a5ee98c2f",
   "metadata": {},
   "source": [
    "## 2. currentThread() Method. The threading. currentThread() is an inbuilt method of the threading module, it is used to return the current Thread object, which corresponds to the caller's thread of control."
   ]
  },
  {
   "cell_type": "markdown",
   "id": "9c5ac9d2-6afe-4c37-a535-f2e6650f1221",
   "metadata": {},
   "source": [
    "## 3. enumerate(): enumerate() returns a list of all Thread objects currently alive. The list includes daemonic threads, dummy thread objects created by currentThread(), and the main thread. It excludes terminated threads and threads that have not yet been started.\n"
   ]
  },
  {
   "cell_type": "markdown",
   "id": "70d56f93-cb46-4bad-ac08-6676885b20df",
   "metadata": {},
   "source": [
    "## Q3. Explain the following functions:\n",
    "\n",
    "## 1. run()\n",
    "## 2. start()\n",
    "## 3. join()\n",
    "## 4. isAlive()"
   ]
  },
  {
   "cell_type": "markdown",
   "id": "1e838d7c-c566-43e8-838a-392d256ba8bb",
   "metadata": {},
   "source": [
    "## Answer"
   ]
  },
  {
   "cell_type": "markdown",
   "id": "cd708090-0273-410b-a96c-3f6f47ed7973",
   "metadata": {},
   "source": [
    "## 1. run() :The standard run() method invokes the callable object passed to the object's constructor as the target argument, if any, with positional and keyword arguments taken from the args and kwargs arguments, respectively."
   ]
  },
  {
   "cell_type": "markdown",
   "id": "a6bec327-a5ce-428a-bd48-97211a210793",
   "metadata": {},
   "source": [
    "## 2. start() : Once a thread object is created, its activity must be started by calling the thread's start() method. This invokes the run() method in a separate thread of control. Once the thread's activity is started, the thread is considered 'alive'."
   ]
  },
  {
   "cell_type": "markdown",
   "id": "a4189b07-a1bd-4180-91f2-f3b2424d37d8",
   "metadata": {},
   "source": [
    "## 3. join() : The Thread. join() method is an inbuilt method of the Thread class of the threading module. Whenever this method is called for any Thread object, it blocks the calling thread till the time the thread whose join() method is called terminates, either normally or through an unhandled exception."
   ]
  },
  {
   "cell_type": "markdown",
   "id": "4cda97d7-2cb7-4750-8b5c-e570fa1c35a0",
   "metadata": {},
   "source": [
    "## 4. isAlive() : The is_alive() method tests whether the thread is alive. Other threads can call a thread's join() method. This blocks the calling thread until the thread whose join() method is called is terminated.\n"
   ]
  },
  {
   "cell_type": "markdown",
   "id": "3e4c90b4-e199-4f50-bb8a-b825d707e202",
   "metadata": {},
   "source": [
    "## Q4.  Write a python program to create two threads. Thread one must print the list of squares and thread two must print the list of cubes."
   ]
  },
  {
   "cell_type": "markdown",
   "id": "1b309d62-f4f0-4837-85b1-7b307aa91ea2",
   "metadata": {},
   "source": [
    "## Answer"
   ]
  },
  {
   "cell_type": "code",
   "execution_count": 114,
   "id": "ec321d12-a1a4-4536-b487-929e116d3bd7",
   "metadata": {},
   "outputs": [],
   "source": [
    "import threading"
   ]
  },
  {
   "cell_type": "code",
   "execution_count": 115,
   "id": "cf1cc37f-ab9c-4386-9bf6-f5c8386fd8e1",
   "metadata": {},
   "outputs": [],
   "source": [
    "import time"
   ]
  },
  {
   "cell_type": "code",
   "execution_count": 116,
   "id": "9743ddcd-68fa-4db6-a0d1-ba7bd154f49a",
   "metadata": {},
   "outputs": [],
   "source": [
    "\n",
    "def test1(x):\n",
    "    print(\"the square of %d is %d \" %(x,x*x))\n",
    " "
   ]
  },
  {
   "cell_type": "code",
   "execution_count": 117,
   "id": "00c02345-0c73-41db-bf32-25aebc5fb3ff",
   "metadata": {},
   "outputs": [],
   "source": [
    "thread1 = [threading.Thread(target=test1, args=(i,)) for i in range(10) ]"
   ]
  },
  {
   "cell_type": "code",
   "execution_count": 118,
   "id": "e342767d-9cfc-414c-8b3a-a2a48a4e19e1",
   "metadata": {},
   "outputs": [
    {
     "name": "stdout",
     "output_type": "stream",
     "text": [
      "the square of 0 is 0 \n",
      "the square of 1 is 1 \n",
      "the square of 2 is 4 \n",
      "the square of 3 is 9 \n",
      "the square of 4 is 16 \n",
      "the square of 5 is 25 \n",
      "the square of 6 is 36 \n",
      "the square of 7 is 49 \n",
      "the square of 8 is 64 \n",
      "the square of 9 is 81 \n"
     ]
    }
   ],
   "source": [
    "for t in thread1:\n",
    "    t.start()\n",
    "    time.sleep(1)"
   ]
  },
  {
   "cell_type": "code",
   "execution_count": 119,
   "id": "f8e7c35d-ad98-4f07-888b-472d5397d9a4",
   "metadata": {},
   "outputs": [],
   "source": [
    "\n",
    "def test2(y):\n",
    "    print(\"the cube of %d is %d \" %(y,y*y*y))\n",
    "        "
   ]
  },
  {
   "cell_type": "code",
   "execution_count": 120,
   "id": "2977b0bf-0c56-47f8-be15-30e0e5aa684d",
   "metadata": {},
   "outputs": [],
   "source": [
    "thread2 = [threading.Thread(target=test2, args=(i,)) for i in range(10) ]"
   ]
  },
  {
   "cell_type": "code",
   "execution_count": 121,
   "id": "cdf9be0b-7621-4630-8414-74d4365e60bf",
   "metadata": {},
   "outputs": [
    {
     "name": "stdout",
     "output_type": "stream",
     "text": [
      "the cube of 0 is 0 \n",
      "the cube of 1 is 1 \n",
      "the cube of 2 is 8 \n",
      "the cube of 3 is 27 \n",
      "the cube of 4 is 64 \n",
      "the cube of 5 is 125 \n",
      "the cube of 6 is 216 \n",
      "the cube of 7 is 343 \n",
      "the cube of 8 is 512 \n",
      "the cube of 9 is 729 \n"
     ]
    }
   ],
   "source": [
    "for t in thread2:\n",
    "    t.start()\n",
    "    time.sleep(1)"
   ]
  },
  {
   "cell_type": "markdown",
   "id": "5cadb965-642f-4924-a578-27faeacb3c76",
   "metadata": {},
   "source": [
    "## Q5. State advantages and disadvantages of multithreading."
   ]
  },
  {
   "cell_type": "markdown",
   "id": "cf6b0595-bf95-4bd2-9398-66de1e8f1c50",
   "metadata": {},
   "source": [
    "## Answer"
   ]
  },
  {
   "cell_type": "markdown",
   "id": "f50337c2-0697-489e-b699-1b4e87a61a20",
   "metadata": {},
   "source": [
    "## Following are some of the common advantages of multithreading:\n",
    "\n",
    "## 1. Enhanced performance by decreased development time\n",
    "## 2. Simplified and streamlined program coding\n",
    "## 3. Improvised GUI responsiveness\n",
    "## 4. Simultaneous and parallelized occurrence of tasks\n",
    "## 5. Better use of cache storage by utilization of resources\n",
    "## 6. Decreased cost of maintenance\n",
    "## 7. Better use of CPU resource"
   ]
  },
  {
   "cell_type": "markdown",
   "id": "e6fe71de-b7cf-49c7-bd9b-25ecf4d4ced5",
   "metadata": {},
   "source": [
    "## Multithreading does not only provide you with benefits, it has disadvantages:\n",
    "## 1. Complex debugging and testing processes\n",
    "## 2. Overhead switching of context\n",
    "## 3. Increased potential for deadlock occurrence\n",
    "## 4. Increased difficulty level in writing a program\n",
    "## 5. Unpredictable results"
   ]
  },
  {
   "cell_type": "markdown",
   "id": "f2c65b81-d66a-4448-b256-8c29f3c5ce2b",
   "metadata": {},
   "source": [
    "## Q6. Explain deadlocks and race conditions."
   ]
  },
  {
   "cell_type": "markdown",
   "id": "f917d93e-9919-4f62-a577-5007d4257e02",
   "metadata": {},
   "source": [
    "## Answer"
   ]
  },
  {
   "cell_type": "markdown",
   "id": "41bed832-143f-482c-bc2a-fd0e62231a55",
   "metadata": {},
   "source": [
    "## A race condition occurs when two threads use the same variable at a given time. Deadlock exists when two threads seek one lock simultaneously. This situation will stop both threads from processing or executing the functions."
   ]
  },
  {
   "cell_type": "markdown",
   "id": "cd911ec1-b23d-4d64-bf39-63cb66588d91",
   "metadata": {},
   "source": [
    "## deadlocks: Deadlock describes a condition in which two or more threads are blocked (hung) forever because they are waiting for each other. "
   ]
  },
  {
   "cell_type": "markdown",
   "id": "d4604c28-b2bf-44c1-bd8a-7fd438ca3f63",
   "metadata": {},
   "source": [
    "## race conditions: A race condition occurs when two or more threads try to access a shared variable simultaneously, leading to unpredictable outcomes. In this scenario, the first thread reads the value from the shared variable. At the same time, the second thread also reads the value from the same shared variable."
   ]
  },
  {
   "cell_type": "code",
   "execution_count": null,
   "id": "c338f1a2-ab8e-4749-8d58-7f9d49aadd7e",
   "metadata": {},
   "outputs": [],
   "source": []
  },
  {
   "cell_type": "code",
   "execution_count": null,
   "id": "fc76f077-215d-45c4-a0bc-e833709f48eb",
   "metadata": {},
   "outputs": [],
   "source": []
  },
  {
   "cell_type": "code",
   "execution_count": null,
   "id": "8f60d368-93bd-4f32-95d2-8af1e23e1c6a",
   "metadata": {},
   "outputs": [],
   "source": []
  }
 ],
 "metadata": {
  "kernelspec": {
   "display_name": "Python 3 (ipykernel)",
   "language": "python",
   "name": "python3"
  },
  "language_info": {
   "codemirror_mode": {
    "name": "ipython",
    "version": 3
   },
   "file_extension": ".py",
   "mimetype": "text/x-python",
   "name": "python",
   "nbconvert_exporter": "python",
   "pygments_lexer": "ipython3",
   "version": "3.10.8"
  }
 },
 "nbformat": 4,
 "nbformat_minor": 5
}
