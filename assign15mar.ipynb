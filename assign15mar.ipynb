{
 "cells": [
  {
   "cell_type": "markdown",
   "id": "979f55c0-4a0b-4883-b426-280c42c0e431",
   "metadata": {},
   "source": [
    "## Q1 Explain the following with an example:\n",
    "## 1. Artificial Intelligence\n",
    "## 2. Machine Learning\n",
    "## 3. Deep Learning"
   ]
  },
  {
   "cell_type": "markdown",
   "id": "8925db5b-fe35-4f30-83d9-f6317247e471",
   "metadata": {},
   "source": [
    "## 1. Artificial Intelligence: Artificial intelligence (AI) refers to the simulation or approximation of human intelligence in machines. The goals of artificial intelligence include computer-enhanced learning, reasoning, and perception. AI is being used today across different industries from finance to healthcare.\n",
    "\n",
    "## Examples of AI include how Google Photos uses AI to allow users to search for photos of specific individuals in their contact lists or tags. It recognizes the images of various individuals in your photographs and allows you to tag or look for them."
   ]
  },
  {
   "cell_type": "markdown",
   "id": "1dabdd8b-b41d-4a9a-b2e7-0ba2681e1550",
   "metadata": {},
   "source": [
    "## 1. Machine learning :Machine learning is a subfield of artificial intelligence that uses algorithms trained on data sets to create models that enable machines to perform tasks that would otherwise only be possible for humans, such as categorizing images, analyzing data, or predicting price fluctuations."
   ]
  },
  {
   "cell_type": "markdown",
   "id": "cccf7f49-8ee7-4387-afc0-9063ba62c7cf",
   "metadata": {},
   "source": [
    "## 3. Deep learning : Deep learning is a method in artificial intelligence (AI) that teaches computers to process data in a way that is inspired by the human brain. Deep learning models can recognize complex patterns in pictures, text, sounds, and other data to produce accurate insights and predictions.\n",
    "\n",
    "## For example, in an image recognition task, the algorithm might learn to associate certain features in an image (such as the shape of an object or the color of an object) with the correct label (such as \"dog\" or \"cat\")."
   ]
  },
  {
   "cell_type": "markdown",
   "id": "bd76a22d-7e4d-4b22-bc25-2b63dd09053b",
   "metadata": {},
   "source": [
    "## Q2- What is supervised learning List some examples of supervised learning."
   ]
  },
  {
   "cell_type": "markdown",
   "id": "eaefa1f0-4f20-469f-8893-85b636291792",
   "metadata": {},
   "source": [
    "## Supervised learning is a category of machine learning that uses labeled datasets to train algorithms to predict outcomes and recognize patterns. Unlike unsupervised learning, supervised learning algorithms are given labeled training to learn the relationship between the input and the outputs.\n",
    "\n",
    "\n",
    "## Email Filtering: Supervised learning is commonly used in email filtering to classify incoming emails as spam or legitimate. \n",
    "## Credit Scoring. \n",
    "## Voice Recognition.\n",
    "## Regression."
   ]
  },
  {
   "cell_type": "markdown",
   "id": "106ac58b-c6c8-45bb-9948-ba569ae5ad1b",
   "metadata": {},
   "source": [
    "## Q3- What is unsupervised learning? List some examples of unsupervised learning."
   ]
  },
  {
   "cell_type": "markdown",
   "id": "1da487b8-fa2b-4abd-914f-450490907397",
   "metadata": {},
   "source": [
    "## Unsupervised learning in artificial intelligence is a type of machine learning that learns from data without human supervision. Unlike supervised learning, unsupervised machine learning models are given unlabeled data and allowed to discover patterns and insights without any explicit guidance or instruction.\n",
    "\n",
    "## Some of the most common real-world applications of unsupervised learning are: News Sections: Google News uses unsupervised learning to categorize articles on the same story from various online news outlets. For example, the results of a presidential election could be categorized under their label for “US” news."
   ]
  },
  {
   "cell_type": "markdown",
   "id": "ad0c5f16-ee60-40cc-a2ff-599036848909",
   "metadata": {},
   "source": [
    "## Q4- What is the difference between AI, ML, DL, and DS?"
   ]
  },
  {
   "cell_type": "markdown",
   "id": "cda4e4e5-da01-465e-be1a-392cb1a06de3",
   "metadata": {},
   "source": [
    "## In summary, AI is the broader field of developing intelligent machines, ML is a subset of AI that involves training algorithms to learn from data, DL is a subset of ML that uses ANNs to model complex patterns in data, and DS is an interdisciplinary field that involves extracting insights from data."
   ]
  },
  {
   "cell_type": "markdown",
   "id": "5df7575d-cd73-4556-a5cc-17ff3e4c701b",
   "metadata": {},
   "source": [
    "## Q5- What are the main difference between supervised, unsupervised, and semi-supervised learning?"
   ]
  },
  {
   "cell_type": "markdown",
   "id": "d8bb288b-86c5-42a9-9008-e83934b90f12",
   "metadata": {},
   "source": [
    "## Supervised learning is a problem with labeled data, expecting to develop predictive capability. Unsupervised learning is discovering process, diving into unlabeled data to capture hidden information. Semi-supervised learning is a blend of supervised and unsupervised learning.\n",
    "\n",
    "## The biggest difference between supervised and unsupervised machine learning is the type of data used. Supervised learning uses labeled training data, and unsupervised learning does not. More simply, supervised learning models have a baseline understanding of what the correct output values should be.\n",
    "\n",
    "## Unsupervised learning is a good choice when there is no labeled data available, or when the labeled data is not very accurate. Semi-supervised learning is a good choice when there is a small amount of labeled data available, and a large amount of unlabeled data available."
   ]
  },
  {
   "cell_type": "markdown",
   "id": "83765fe0-93bd-4322-a3fa-a3fdcb6204c4",
   "metadata": {},
   "source": [
    "## Q6- What is train, test and validation split? Explain the importance of each term."
   ]
  },
  {
   "cell_type": "markdown",
   "id": "52110dcd-95a4-4338-bcd4-9ee798e64afd",
   "metadata": {},
   "source": [
    "## The train-validation-test split methodology is a tripartite strategy that divides a dataset into three essential subsets: the training set, the validation set, and the test set. Each subset serves a distinct purpose, contributing to the holistic process of building robust and reliable machine learning models.\n",
    "\n",
    "\n",
    "\n",
    "## The training set is used to train the model, while the test set is used to evaluate the final model's performance and generalization capabilities.\n",
    "\n",
    "\n",
    "\n",
    "## Train Test Validation Split helps in understanding the bias trade-off. The training set provides information about the model's bias, capturing inherent patterns, while the validation and testing sets help assess variance, indicating the model's sensitivity to fluctuations in the dataset."
   ]
  },
  {
   "cell_type": "markdown",
   "id": "3b159e48-9a4a-48e4-b0bd-ba0d5965030c",
   "metadata": {},
   "source": [
    "## Q7- How can unsupervised learning be used in anomaly detection?"
   ]
  },
  {
   "cell_type": "markdown",
   "id": "be53d74a-3397-4067-90ea-01cb97d47c8d",
   "metadata": {},
   "source": [
    "## Unsupervised machine learning is one of the main branches of machine learning and it has a multitude of applications. One of the most important is anomaly detection: identifying normal patterns within a data sample and then detecting outliers based on the natural characteristics of the data set itself."
   ]
  },
  {
   "cell_type": "markdown",
   "id": "f4661d16-c2e8-421b-b388-f4afcd1adba0",
   "metadata": {},
   "source": [
    "## Unsupervised Anomaly Detection: This method does require any training data and instead assumes two things about the data ie. Only a small percentage of data is anomalous and Any anomaly is statistically different from the normal samples."
   ]
  },
  {
   "cell_type": "markdown",
   "id": "4a2ee156-d3bc-4bf8-95ed-489968bfe63c",
   "metadata": {},
   "source": [
    "## Q8- List down some commonly used supervised learning algorithms and unsupervised learning algorithms."
   ]
  },
  {
   "cell_type": "markdown",
   "id": "c165c179-4d6c-4355-8b9b-73253925de74",
   "metadata": {},
   "source": [
    "## The most commonly used Supervised Learning algorithms are decision tree, logistic regression, linear regression, support vector machine. The most commonly used Unsupervised Learning algorithms are k-means clustering, hierarchical clustering, and apriori algorithm."
   ]
  },
  {
   "cell_type": "code",
   "execution_count": null,
   "id": "b2a713e3-d225-45df-99ff-3380d79aa2dc",
   "metadata": {},
   "outputs": [],
   "source": []
  }
 ],
 "metadata": {
  "kernelspec": {
   "display_name": "Python 3 (ipykernel)",
   "language": "python",
   "name": "python3"
  },
  "language_info": {
   "codemirror_mode": {
    "name": "ipython",
    "version": 3
   },
   "file_extension": ".py",
   "mimetype": "text/x-python",
   "name": "python",
   "nbconvert_exporter": "python",
   "pygments_lexer": "ipython3",
   "version": "3.10.8"
  }
 },
 "nbformat": 4,
 "nbformat_minor": 5
}
