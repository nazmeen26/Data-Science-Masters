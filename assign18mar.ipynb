{
 "cells": [
  {
   "cell_type": "markdown",
   "id": "eb139f2a-eace-4e4f-afbe-977b98b25e85",
   "metadata": {},
   "source": [
    "## Q1. What is the Filter method in feature selection, and how does it work?"
   ]
  },
  {
   "cell_type": "markdown",
   "id": "69c080db-3fe6-46bf-b991-73e3599816da",
   "metadata": {},
   "source": [
    "## The filter method filters out the irrelevant feature and redundant columns from the model by using different metrics through ranking. The advantage of using filter methods is that it needs low computational time and does not overfit the data."
   ]
  },
  {
   "cell_type": "markdown",
   "id": "02a4bccc-fe12-4207-8b20-e2d4aeaf61dd",
   "metadata": {},
   "source": [
    "## The filter() method creates a new array filled with elements that pass a test provided by a function. The filter() method does not execute the function for empty elements. The filter() method does not change the original array."
   ]
  },
  {
   "cell_type": "markdown",
   "id": "00d119b1-1adf-4502-b4f7-00f5acf40abb",
   "metadata": {},
   "source": [
    "## Q2. How does the Wrapper method differ from the Filter method in feature selection?"
   ]
  },
  {
   "cell_type": "markdown",
   "id": "537c9a82-aa11-48f2-83b8-46dd9cb101c8",
   "metadata": {},
   "source": [
    "## The main differences between the filter and wrapper methods for feature selection are: Filter methods measure the relevance of features by their correlation with dependent variable while wrapper methods measure the usefulness of a subset of feature by actually training a model on it."
   ]
  },
  {
   "cell_type": "markdown",
   "id": "79002c7a-d42b-4753-861c-87feaa309dd5",
   "metadata": {},
   "source": [
    "## Q3. What are some common techniques used in Embedded feature selection methods?"
   ]
  },
  {
   "cell_type": "markdown",
   "id": "a1f9c62a-14b8-48a0-a340-a059ee734aec",
   "metadata": {},
   "source": [
    "## Information Gain. Information gain calculates the reduction in entropy from the transformation of a dataset.\n",
    "## Chi-square Test.\n",
    "## Fisher's Score.\n",
    "## Mean Absolute Difference (MAD)\n",
    "## Forward Feature Selection.\n",
    "## Exhaustive Feature Selection.\n",
    "## Recursive Feature Elimination.\n",
    "## LASSO Regularization (L1)\n"
   ]
  },
  {
   "cell_type": "markdown",
   "id": "31c2b175-6f89-4855-bcd3-ae82236fe2ac",
   "metadata": {},
   "source": [
    "## Q4. What are some drawbacks of using the Filter method for feature selection?"
   ]
  },
  {
   "cell_type": "markdown",
   "id": "dc5c9d58-f460-4f79-a3cb-0676a2f620f7",
   "metadata": {},
   "source": [
    "## The common disadvantage of filter methods is that they ignore the interaction with the classifier and each feature is considered independently thus ignoring feature dependencies In addition, it is not clear how to determine the threshold point for rankings to select only the required features and exclude noise."
   ]
  },
  {
   "cell_type": "markdown",
   "id": "b56eabb5-ce1d-49d3-937a-5b14db41908f",
   "metadata": {},
   "source": [
    "## Q5. In which situations would you prefer using the Filter method over the Wrapper method for feature selection?"
   ]
  },
  {
   "cell_type": "markdown",
   "id": "294bc761-073a-470a-af58-bd9dbfb0f2ce",
   "metadata": {},
   "source": [
    "## For large data you should use the Filter approaches because these approaches are rapid and for small size of data it is better to use Wrapper (KNN, SVM,...) approaches because they are slower than the Filter approaches. or you can combine the two approaches to have better results than the two approaches."
   ]
  },
  {
   "cell_type": "markdown",
   "id": "3c781482-af80-44dc-bf84-5681c03440fa",
   "metadata": {},
   "source": [
    "## Q6. In a telecom company, you are working on a project to develop a predictive model for customer churn. You are unsure of which features to include in the model because the dataset contains several different ones. Describe how you would choose the most pertinent attributes for the model using the Filter Method."
   ]
  },
  {
   "cell_type": "markdown",
   "id": "ca76de5d-0d62-419a-95bb-31e897c4242d",
   "metadata": {},
   "source": [
    "## The imbalanced data classification problem occurring, most of the traditional approaches ineffectively select the important features for the churn prediction. This paper proposes a new filter feature selection approach for customer churn prediction in telecommunications. The main idea of this approach is to calculate the dependency between each input feature and the class. Finally, the comparative experiments were carried out, and the results show that the new proposed feature selection approach is very effective for the churn prediction.\n"
   ]
  },
  {
   "cell_type": "markdown",
   "id": "e20fdbef-8dad-446f-bd11-d24c36ea1d4c",
   "metadata": {},
   "source": [
    "## Q7. You are working on a project to predict the outcome of a soccer match. You have a large dataset with many features, including player statistics and team rankings. Explain how you would use the Embedded method to select the most relevant features for the model."
   ]
  },
  {
   "cell_type": "markdown",
   "id": "693e5962-08ca-4e19-a8a2-7ecedb2c1445",
   "metadata": {},
   "source": [
    "## In an embedded method, feature selection is integrated or built into the classifier algorithm. During the training step, the classifier adjusts its internal parameters and determines the appropriate weights/importance given for each feature to produce the best classification accuracy.\n",
    "- Train a model with all the available features.\n",
    "- Analyze the feature importance scores obtained from the model.\n",
    "- Remove the features with low importance scores and retrain the model.\n"
   ]
  },
  {
   "cell_type": "markdown",
   "id": "662250e8-6cd4-4d6b-8c3b-89d7d9a9e7dd",
   "metadata": {},
   "source": [
    "## Q8. You are working on a project to predict the price of a house based on its features, such as size, location, and age. You have a limited number of features, and you want to ensure that you select the most important ones for the model. Explain how you would use the Wrapper method to select the best set of features for the predictor."
   ]
  },
  {
   "cell_type": "markdown",
   "id": "a9afb38c-afa3-4823-bf05-ede367f4bdd1",
   "metadata": {},
   "source": [
    "##  To build a model to predict the sale price of a house. Several different prediction models can be used, including multiple linear regression, KNN regressor, etc.\n",
    "- Select a subset of features and train the model on this subset.\n",
    "- Evaluate the performance of the model using cross-validation or other evaluation techniques."
   ]
  },
  {
   "cell_type": "code",
   "execution_count": null,
   "id": "409f52cf-cb9b-4489-8b06-7059455e1241",
   "metadata": {},
   "outputs": [],
   "source": []
  }
 ],
 "metadata": {
  "kernelspec": {
   "display_name": "Python 3 (ipykernel)",
   "language": "python",
   "name": "python3"
  },
  "language_info": {
   "codemirror_mode": {
    "name": "ipython",
    "version": 3
   },
   "file_extension": ".py",
   "mimetype": "text/x-python",
   "name": "python",
   "nbconvert_exporter": "python",
   "pygments_lexer": "ipython3",
   "version": "3.10.8"
  }
 },
 "nbformat": 4,
 "nbformat_minor": 5
}
