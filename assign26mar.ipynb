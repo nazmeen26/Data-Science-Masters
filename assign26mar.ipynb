{
 "cells": [
  {
   "cell_type": "markdown",
   "id": "42360b56-3814-4164-8900-cc745fe4c5c3",
   "metadata": {},
   "source": [
    "## Q1. Explain the difference between simple linear regression and multiple linear regression. Provide an example of each."
   ]
  },
  {
   "cell_type": "markdown",
   "id": "eaff4f3a-2f4b-4977-be12-eb4aa113e56c",
   "metadata": {},
   "source": [
    "## Simple linear regression is used to estimate the relationship between two quantitative variables. You can use simple linear regression when you want to know: How strong the relationship is between two variables (e.g., the relationship between rainfall and soil erosion).\n",
    "\n",
    "## Multiple regression works by considering the values of the available multiple independent variables and predicting the value of one dependent variable. Example: A researcher decides to study students' performance from a school over a period of time.\n",
    "\n",
    "## Difference: Simple linear regression has only one x and one y variable. Multiple linear regression has one y and two or more x variables."
   ]
  },
  {
   "cell_type": "markdown",
   "id": "7b79b5cd-23f3-4bcb-a630-75b7e29591e3",
   "metadata": {},
   "source": [
    "## Q2. Discuss the assumptions of linear regression. How can you check whether these assumptions hold in a given dataset?"
   ]
  },
  {
   "cell_type": "markdown",
   "id": "b617f5f4-64a9-4125-ac50-51052494ba97",
   "metadata": {},
   "source": [
    "## There are primarily five assumptions of linear regression. They are:\n",
    "\n",
    "- There is a linear relationship between the predictors (x) and the outcome (y)\n",
    "- Predictors (x) are independent and observed with negligible error\n",
    "- Residual Errors have a mean value of zero\n",
    "- Residual Errors have constant variance\n",
    "- Residual Errors are independent from each other and predictors (x)"
   ]
  },
  {
   "cell_type": "markdown",
   "id": "43545f0b-e208-4d6e-a9f1-bbd327355c00",
   "metadata": {},
   "source": [
    "## We can check this assumption using the Scale-Location plot. In this plot we can see the fitted values vs the square root of the standardized residuals. Ideally, we would want to see the residual points equally spread around the red line, which would indicate constant variance."
   ]
  },
  {
   "cell_type": "markdown",
   "id": "ced87d94-6303-4282-9d46-f8afd2173bca",
   "metadata": {},
   "source": [
    "## Q3. How do you interpret the slope and intercept in a linear regression model? Provide an example using a real-world scenario."
   ]
  },
  {
   "cell_type": "markdown",
   "id": "22301688-86c5-4c5b-8256-e120f1383751",
   "metadata": {},
   "source": [
    "## Example 4. Data was collected to determine the length a golf ball will travel when hit by a golf club with a certain speed. The speed, s, is measured in miles per hour and the length the ball travels, d, is measured in yards. The following formula gives the\n",
    "- relationship d= 3.18+57.66s\n",
    "- Interpret the slope: If the speed of the club hitting the ball increases by 1 mph, then the model predicts that the length the ball travels increases by 57.66 yards.\n",
    "- Interpret the intercept: If the ball is hit with a speed of 0 mph, then the model predicts that the length the ball travels will be 3.18 yards. "
   ]
  },
  {
   "cell_type": "markdown",
   "id": "6d48ce22-fa49-46de-8487-3b0b92dd8267",
   "metadata": {},
   "source": [
    "## Q4. Explain the concept of gradient descent. How is it used in machine learning?"
   ]
  },
  {
   "cell_type": "markdown",
   "id": "1f932d87-9cc7-47d9-be26-d11ffec5f75f",
   "metadata": {},
   "source": [
    "## Gradient descent is an optimization algorithm that's used when training a machine learning model. It's based on a convex function and tweaks its parameters iteratively to minimize a given function to its local minimum."
   ]
  },
  {
   "cell_type": "markdown",
   "id": "ce92e29f-cd50-4c55-a40d-376465f5ebfb",
   "metadata": {},
   "source": [
    "##  Gradient descent in machine learning is simply used to find the values of a function's parameters (coefficients) that minimize a cost function as far as possible."
   ]
  },
  {
   "cell_type": "markdown",
   "id": "7d9a800f-241f-4653-b7ad-8186dbfadae3",
   "metadata": {},
   "source": [
    "## Q5. Describe the multiple linear regression model. How does it differ from simple linear regression?"
   ]
  },
  {
   "cell_type": "markdown",
   "id": "f078778c-dca5-429a-bb36-d25b1f5e6784",
   "metadata": {},
   "source": [
    "## Multiple regression is a broader class of regressions that encompasses linear and nonlinear regressions with multiple explanatory variables."
   ]
  },
  {
   "cell_type": "markdown",
   "id": "a2634485-4e22-4d6b-a271-1355a8f19085",
   "metadata": {},
   "source": [
    "## Simple linear regression has only one x and one y variable. Multiple linear regression has one y and two or more x variables. linear regress only has one independent variable impacting the slope of the relationship, multiple regression incorporates multiple independent variables."
   ]
  },
  {
   "cell_type": "markdown",
   "id": "3eca2e18-0cb0-42e3-ac38-5f9517ab73a8",
   "metadata": {},
   "source": [
    "## Q6. Explain the concept of multicollinearity in multiple linear regression. How can you detect and address this issue?"
   ]
  },
  {
   "cell_type": "markdown",
   "id": "9b73d833-5dc7-4998-b83f-37e26db00ca4",
   "metadata": {},
   "source": [
    "## Multicollinearity is a statistical phenomenon that occurs when two or more independent variables in a regression model are highly correlated with each other. In other words, multicollinearity indicates a strong linear relationship among the predictor variables."
   ]
  },
  {
   "cell_type": "markdown",
   "id": "dfc559d2-b9e2-4db5-8495-d507e39d0bb0",
   "metadata": {},
   "source": [
    "## A very simple test known as the VIF test is used to assess multicollinearity in our regression model. The variance inflation factor (VIF) identifies the strength of correlation among the predictors."
   ]
  },
  {
   "cell_type": "markdown",
   "id": "d0f2c222-66fb-415b-a27d-1e6903d60c23",
   "metadata": {},
   "source": [
    "## Q7. Describe the polynomial regression model. How is it different from linear regression?"
   ]
  },
  {
   "cell_type": "markdown",
   "id": "e9b75411-c1fc-42fb-a57f-4ee4ca54bd9c",
   "metadata": {},
   "source": [
    "## A polynomial regression model is a machine learning model that can capture non-linear relationships between variables by fitting a non-linear regression line, which may not be possible with simple linear regression."
   ]
  },
  {
   "cell_type": "markdown",
   "id": "afff8cd1-d73b-4614-8656-1887521573c5",
   "metadata": {},
   "source": [
    "## While Linear Regression captures linear relationships, Polynomial Regression can handle more complex patterns. Both methods use the Mean Squared Error (MSE) as the loss function and R-squared (R²) as the validation metric."
   ]
  },
  {
   "cell_type": "markdown",
   "id": "ea603121-1076-4997-b418-3b92bf79acb8",
   "metadata": {},
   "source": [
    "## Q8. What are the advantages and disadvantages of polynomial regression compared to linear regression? In what situations would you prefer to use polynomial regression?"
   ]
  },
  {
   "cell_type": "markdown",
   "id": "a5ba7ef6-4cc6-4e03-8775-c2d204eeec42",
   "metadata": {},
   "source": [
    "## Advantages:\n",
    "- 1) Polynomial regression is independent of the size of the data set.\n",
    "- 2) Non-linear problems are solved with good accuracy.\n",
    "- 3) It gives the best approximation of the correspondence between the output and explanatory (independent) variables. \n",
    "- 4) A large number of functions can be fit under it."
   ]
  },
  {
   "cell_type": "markdown",
   "id": "f1ad2c9e-57b0-4fcd-b1ff-6c080010f14e",
   "metadata": {},
   "source": [
    "## Disadvantages: Polynomial regression has several disadvantages. \n",
    "- One major drawback is that it can be problematic when the independent variables are contaminated with measurement error, leading to more severe implications than in linear models."
   ]
  },
  {
   "cell_type": "markdown",
   "id": "e29afca8-d326-49be-b33c-e6aa51b29560",
   "metadata": {},
   "source": [
    "## Use polynomial regression when your data points clearly show that the relationship between the independent and dependent variables is non-linear, meaning a straight line cannot accurately predict the outcomes. It's particularly useful in cases where the data shows a curvilinear pattern."
   ]
  },
  {
   "cell_type": "code",
   "execution_count": null,
   "id": "5d429f9c-b15e-4d23-8eee-f1ca8150fc6e",
   "metadata": {},
   "outputs": [],
   "source": []
  }
 ],
 "metadata": {
  "kernelspec": {
   "display_name": "Python 3 (ipykernel)",
   "language": "python",
   "name": "python3"
  },
  "language_info": {
   "codemirror_mode": {
    "name": "ipython",
    "version": 3
   },
   "file_extension": ".py",
   "mimetype": "text/x-python",
   "name": "python",
   "nbconvert_exporter": "python",
   "pygments_lexer": "ipython3",
   "version": "3.10.8"
  }
 },
 "nbformat": 4,
 "nbformat_minor": 5
}
