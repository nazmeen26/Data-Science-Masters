{
 "cells": [
  {
   "cell_type": "markdown",
   "id": "319b39a9-b38a-4876-828a-5dc2a05eb71c",
   "metadata": {},
   "source": [
    "## Q1. What is multiprocessing in python? Why is it useful? "
   ]
  },
  {
   "cell_type": "markdown",
   "id": "e3291cfa-05f4-4773-a0a0-58061627364d",
   "metadata": {},
   "source": [
    "## Answer"
   ]
  },
  {
   "cell_type": "markdown",
   "id": "fff24d56-e377-4b5b-90d4-d78631b7eddf",
   "metadata": {},
   "source": [
    "## The multiprocessing package offers both local and remote concurrency, effectively side-stepping the Global Interpreter Lock by using subprocesses instead of threads. Due to this, the multiprocessing module allows the programmer to fully leverage multiple processors on a given machine. It runs on both POSIX and Windows."
   ]
  },
  {
   "cell_type": "markdown",
   "id": "a7a4b08d-3d2f-413e-a634-8ff1833f584e",
   "metadata": {},
   "source": [
    "## Q2. What are the differences between multiprocessing and multithreading?"
   ]
  },
  {
   "cell_type": "markdown",
   "id": "73505c25-f8b6-4d2d-8e98-1620a151a6dc",
   "metadata": {},
   "source": [
    "## Answer"
   ]
  },
  {
   "cell_type": "markdown",
   "id": "f915c84c-0a5e-4ba5-ba61-c0d33a415909",
   "metadata": {},
   "source": [
    "## Multithreading refers to the ability of a processor to execute multiple threads concurrently, where each thread runs a process. Multiprocessing refers to the ability of a system to run multiple processors in parallel, where each processor can run one or more threads."
   ]
  },
  {
   "cell_type": "markdown",
   "id": "e1e19a3e-87fd-4998-abe8-9684740efd27",
   "metadata": {},
   "source": [
    "## Q3. Write a python code to create a process using the multiprocessing module."
   ]
  },
  {
   "cell_type": "markdown",
   "id": "d14210bd-8b17-43ff-ac43-eb650bcc928c",
   "metadata": {},
   "source": [
    "## Answer"
   ]
  },
  {
   "cell_type": "code",
   "execution_count": 3,
   "id": "9c72932b-fed5-42d4-b380-548bad256266",
   "metadata": {},
   "outputs": [
    {
     "name": "stdout",
     "output_type": "stream",
     "text": [
      "[4, 16, 9, 25, 36, 49, 25, 25, 49, 64]\n"
     ]
    }
   ],
   "source": [
    "import multiprocessing\n",
    "\n",
    "def square(index , value ):\n",
    "    value[index] = value[index] **2\n",
    "    \n",
    "if __name__ == '__main__':\n",
    "    arr = multiprocessing.Array('i', [2,4,3,5,6,7,5,5,7,8])\n",
    "    process = []\n",
    "    for i in range(10) : \n",
    "        m = multiprocessing.Process(target=square , args = (i ,arr ))\n",
    "        process.append(m)\n",
    "        m.start()\n",
    "    for m in process:\n",
    "        m.join()\n",
    "    print(list(arr))\n"
   ]
  },
  {
   "cell_type": "markdown",
   "id": "a92574c2-759a-4531-a7b6-ee03970e2a5a",
   "metadata": {},
   "source": [
    "## Q4. What is a multiprocessing pool in python? Why is it used?"
   ]
  },
  {
   "cell_type": "markdown",
   "id": "084cfdd4-6b42-49ce-89b8-59d3bfa1f7f1",
   "metadata": {},
   "source": [
    "## Answer"
   ]
  },
  {
   "cell_type": "markdown",
   "id": "ccda0e13-4864-42fd-a7d7-41bb83c4c882",
   "metadata": {},
   "source": [
    "## Python Multiprocessing: The Pool and Process class\n",
    "## The pool distributes the tasks to the available processors using a FIFO scheduling. It works like a map-reduce architecture. It maps the input to the different processors and collects the output from all the processors."
   ]
  },
  {
   "cell_type": "markdown",
   "id": "7a25e67c-c6f7-4e6a-ac49-9eae863f2224",
   "metadata": {},
   "source": [
    "## The pool allows you to do multiple jobs per process, which may make it easier to parallelize your program. If you have a million tasks to execute in parallel, you can create a Pool with a number of processes as many as CPU cores and then pass the list of the million tasks to the pool."
   ]
  },
  {
   "cell_type": "markdown",
   "id": "ae2f6c1f-f85a-4c45-b04e-919f02fb323e",
   "metadata": {},
   "source": [
    "## Q5. How can we create a pool of worker processes in python using the multiprocessing module?"
   ]
  },
  {
   "cell_type": "markdown",
   "id": "fd9dceb3-789e-48bb-877a-988f6b83042c",
   "metadata": {},
   "source": [
    "## Answer"
   ]
  },
  {
   "cell_type": "markdown",
   "id": "477e614d-d8d0-412f-a509-d59c5378875f",
   "metadata": {},
   "source": [
    "## Let us try to understand above code step by step:\n",
    "## We create a Pool object using: p = multiprocessing.Pool() ...\n",
    "## Now, in order to perform some task, we have to map it to some function. ...\n",
    "## Once all the worker processes finish their task, a list is returned with the final result.\n"
   ]
  },
  {
   "cell_type": "code",
   "execution_count": 4,
   "id": "2fcaeed5-6623-4fdc-a64a-c2b87a28701b",
   "metadata": {},
   "outputs": [
    {
     "name": "stdout",
     "output_type": "stream",
     "text": [
      "[0, 1, 4, 9, 16, 25, 36, 49, 64, 81]\n",
      "0\n",
      "1\n",
      "4\n",
      "9\n",
      "16\n",
      "25\n",
      "36\n",
      "49\n",
      "64\n",
      "81\n",
      "400\n",
      "361\n",
      "[363, 362, 364, 361]\n",
      "We lacked patience and got a multiprocessing.TimeoutError\n",
      "For the moment, the pool remains available for more work\n",
      "Now the pool is closed and no longer available\n"
     ]
    }
   ],
   "source": [
    "from multiprocessing import Pool, TimeoutError\n",
    "import time\n",
    "import os\n",
    "\n",
    "def f(x):\n",
    "    return x*x\n",
    "\n",
    "if __name__ == '__main__':\n",
    "    # start 4 worker processes\n",
    "    with Pool(processes=4) as pool:\n",
    "\n",
    "        # print \"[0, 1, 4,..., 81]\"\n",
    "        print(pool.map(f, range(10)))\n",
    "\n",
    "        # print same numbers in arbitrary order\n",
    "        for i in pool.imap_unordered(f, range(10)):\n",
    "            print(i)\n",
    "\n",
    "        # evaluate \"f(20)\" asynchronously\n",
    "        res = pool.apply_async(f, (20,))      # runs in *only* one process\n",
    "        print(res.get(timeout=1))             # prints \"400\"\n",
    "\n",
    "        # evaluate \"os.getpid()\" asynchronously\n",
    "        res = pool.apply_async(os.getpid, ()) # runs in *only* one process\n",
    "        print(res.get(timeout=1))             # prints the PID of that process\n",
    "\n",
    "        # launching multiple evaluations asynchronously *may* use more processes\n",
    "        multiple_results = [pool.apply_async(os.getpid, ()) for i in range(4)]\n",
    "        print([res.get(timeout=1) for res in multiple_results])\n",
    "\n",
    "        # make a single worker sleep for 10 seconds\n",
    "        res = pool.apply_async(time.sleep, (10,))\n",
    "        try:\n",
    "            print(res.get(timeout=1))\n",
    "        except TimeoutError:\n",
    "            print(\"We lacked patience and got a multiprocessing.TimeoutError\")\n",
    "\n",
    "        print(\"For the moment, the pool remains available for more work\")\n",
    "\n",
    "    # exiting the 'with'-block has stopped the pool\n",
    "    print(\"Now the pool is closed and no longer available\")"
   ]
  },
  {
   "cell_type": "code",
   "execution_count": 5,
   "id": "a3706b4c-0c6e-4363-8d80-c063fbb4c3fd",
   "metadata": {},
   "outputs": [
    {
     "name": "stdout",
     "output_type": "stream",
     "text": [
      " Process A waiting 5 seconds Process B waiting 2 seconds\n",
      "\n",
      " Process B Finished.\n",
      " Process C waiting 1 seconds\n",
      " Process C Finished.\n",
      " Process D waiting 3 seconds\n",
      " Process A Finished.\n",
      " Process D Finished.\n"
     ]
    }
   ],
   "source": [
    "from multiprocessing import Pool\n",
    "\n",
    "import time\n",
    "\n",
    "work = ([\"A\", 5], [\"B\", 2], [\"C\", 1], [\"D\", 3])\n",
    "\n",
    "\n",
    "def work_log(work_data):\n",
    "    print(\" Process %s waiting %s seconds\" % (work_data[0], work_data[1]))\n",
    "    time.sleep(int(work_data[1]))\n",
    "    print(\" Process %s Finished.\" % work_data[0])\n",
    "\n",
    "\n",
    "def pool_handler():\n",
    "    p = Pool(2)\n",
    "    p.map(work_log, work)\n",
    "\n",
    "\n",
    "if __name__ == '__main__':\n",
    "    pool_handler()"
   ]
  },
  {
   "cell_type": "markdown",
   "id": "a16f9b65-c270-4c00-97da-bc0452c38061",
   "metadata": {},
   "source": [
    "## Q6. Write a python program to create 4 processes, each process should print a different number using the multiprocessing module in python."
   ]
  },
  {
   "cell_type": "markdown",
   "id": "77f56123-4489-4fad-8c7f-dbbf224e54d3",
   "metadata": {},
   "source": [
    "## Answer"
   ]
  },
  {
   "cell_type": "code",
   "execution_count": 7,
   "id": "110b336d-f56b-4a66-8fd9-333f31f8f170",
   "metadata": {},
   "outputs": [
    {
     "name": "stdout",
     "output_type": "stream",
     "text": [
      "Square: 100\n",
      "Cube: 1000\n",
      "division by 10: 1.0\n",
      "remainder : 2\n",
      "Done!\n"
     ]
    }
   ],
   "source": [
    "\n",
    "\n",
    "# importing the multiprocessing module \n",
    "\n",
    "import multiprocessing \n",
    "\n",
    "  \n",
    "\n",
    "def print_cube(num): \n",
    "\n",
    "    \"\"\" \n",
    "\n",
    "    function to print cube of given num \n",
    "\n",
    "    \"\"\"\n",
    "\n",
    "    print(\"Cube: {}\".format(num * num * num)) \n",
    "\n",
    "  \n",
    "\n",
    "def print_square(num): \n",
    "\n",
    "    \"\"\" \n",
    "\n",
    "    function to print square of given num \n",
    "\n",
    "    \"\"\"\n",
    "\n",
    "    print(\"Square: {}\".format(num * num)) \n",
    "\n",
    "  \n",
    "def print_division(num): \n",
    "\n",
    "    \"\"\" \n",
    "\n",
    "    function to print division by 10 of given num \n",
    "\n",
    "    \"\"\"\n",
    "\n",
    "    print(\"division by 10: {}\".format(num/10)) \n",
    "\n",
    "    \n",
    "def print_remainder(num): \n",
    "\n",
    "    \"\"\" \n",
    "\n",
    "    function to print remainder of given num \n",
    "\n",
    "    \"\"\"\n",
    "\n",
    "    print(\"remainder : {}\".format(num%4)) \n",
    "\n",
    "    \n",
    "if __name__ == \"__main__\": \n",
    "\n",
    "    # creating processes \n",
    "\n",
    "    p1 = multiprocessing.Process(target=print_square, args=(10, )) \n",
    "\n",
    "    p2 = multiprocessing.Process(target=print_cube, args=(10, )) \n",
    "\n",
    "    p3 = multiprocessing.Process(target=print_division, args=(10, )) \n",
    "\n",
    "    p4 = multiprocessing.Process(target=print_remainder, args=(10, )) \n",
    "\n",
    "    # starting process 1 \n",
    "\n",
    "    p1.start() \n",
    "\n",
    "    # starting process 2 \n",
    "\n",
    "    p2.start() \n",
    "\n",
    "    # starting process 3 \n",
    "\n",
    "    p3.start() \n",
    "    \n",
    "    # starting process 4\n",
    "\n",
    "    p4.start() \n",
    "    \n",
    "    # wait until process 1 is finished \n",
    "\n",
    "    p1.join() \n",
    "\n",
    "    # wait until process 2 is finished \n",
    "\n",
    "    p2.join() \n",
    "\n",
    "    # wait until process 3 is finished \n",
    "\n",
    "    p3.join() \n",
    " \n",
    "     # wait until process 4 is finished \n",
    "\n",
    "    p4.join() \n",
    "\n",
    "    # both processes finished \n",
    "\n",
    "    print(\"Done!\") "
   ]
  },
  {
   "cell_type": "code",
   "execution_count": null,
   "id": "8b0e40f0-f75e-4329-ac9e-2198eb4a820a",
   "metadata": {},
   "outputs": [],
   "source": []
  },
  {
   "cell_type": "code",
   "execution_count": null,
   "id": "e42315f1-2a7c-41ac-889a-d6838f140ee4",
   "metadata": {},
   "outputs": [],
   "source": []
  },
  {
   "cell_type": "code",
   "execution_count": null,
   "id": "40bcf36b-4f02-420f-b888-27bdd9309d33",
   "metadata": {},
   "outputs": [],
   "source": []
  }
 ],
 "metadata": {
  "kernelspec": {
   "display_name": "Python 3 (ipykernel)",
   "language": "python",
   "name": "python3"
  },
  "language_info": {
   "codemirror_mode": {
    "name": "ipython",
    "version": 3
   },
   "file_extension": ".py",
   "mimetype": "text/x-python",
   "name": "python",
   "nbconvert_exporter": "python",
   "pygments_lexer": "ipython3",
   "version": "3.10.8"
  }
 },
 "nbformat": 4,
 "nbformat_minor": 5
}
