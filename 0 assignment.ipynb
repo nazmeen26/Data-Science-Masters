{
 "cells": [
  {
   "cell_type": "code",
   "execution_count": 2,
   "id": "893b9829-5ba3-4e8b-908c-6095d41995dd",
   "metadata": {},
   "outputs": [],
   "source": [
    "# Q.1 Who developed Python Programming language?"
   ]
  },
  {
   "cell_type": "markdown",
   "id": "a10501da-7a28-4b55-a0e7-f23ae82ecf14",
   "metadata": {},
   "source": [
    "# Answer"
   ]
  },
  {
   "cell_type": "markdown",
   "id": "c13c68e8-c2a1-45a8-aa60-d59a457f999c",
   "metadata": {},
   "source": [
    "## Guido van Rossom"
   ]
  },
  {
   "cell_type": "code",
   "execution_count": 3,
   "id": "7a44b9fc-61ca-461f-8b0d-775b6548d791",
   "metadata": {},
   "outputs": [],
   "source": [
    "# Q.2 Which type of Programing does Python support?"
   ]
  },
  {
   "cell_type": "markdown",
   "id": "df3af925-a245-45c0-aeb2-f5eba47dcd9a",
   "metadata": {},
   "source": [
    "# Answer"
   ]
  },
  {
   "cell_type": "markdown",
   "id": "fff9fcd4-ba6b-4b53-b090-0f459eada3d2",
   "metadata": {},
   "source": [
    "## Python is an interpreted Programming language, supportig object_oriented, structured,and functional programming."
   ]
  },
  {
   "cell_type": "code",
   "execution_count": 6,
   "id": "5741022d-607f-4b28-a8be-ad80335c9d4e",
   "metadata": {},
   "outputs": [],
   "source": [
    "# Q.3 Is Python case sensitive when dealing with identifiers?"
   ]
  },
  {
   "cell_type": "markdown",
   "id": "9629f475-d90e-4a6f-9c45-7e07ba8db0f8",
   "metadata": {},
   "source": [
    "# Answer"
   ]
  },
  {
   "cell_type": "markdown",
   "id": "16b12761-394a-4a83-9b2c-e12c2a70caa6",
   "metadata": {},
   "source": [
    "## Yes, Python is a case_sensitive language, i.e., it treats uppercase and lowercase characters differently."
   ]
  },
  {
   "cell_type": "code",
   "execution_count": 8,
   "id": "578b9717-cf36-4127-b74f-a07926d6072d",
   "metadata": {},
   "outputs": [],
   "source": [
    "# Q.4 What is the correct extension of the Python file?"
   ]
  },
  {
   "cell_type": "markdown",
   "id": "3c8e44ec-c551-45de-ad0e-e39d88a608d7",
   "metadata": {},
   "source": [
    "# Answer"
   ]
  },
  {
   "cell_type": "markdown",
   "id": "098a2881-f2a3-4177-8adc-e15a8b7b3f92",
   "metadata": {},
   "source": [
    "## The extensions for Python files are- .py, .pyi, .pyc, .pyd, .pyo, .pyw, and .pyz ."
   ]
  },
  {
   "cell_type": "code",
   "execution_count": 9,
   "id": "e0628a9b-203b-4ba1-8be7-df6433b8e820",
   "metadata": {},
   "outputs": [],
   "source": [
    "# Q.5 Is Python code compiled or interpreted?"
   ]
  },
  {
   "cell_type": "markdown",
   "id": "8e66e938-c280-4f9a-a5e3-32fbed03b1eb",
   "metadata": {},
   "source": [
    "# Answer"
   ]
  },
  {
   "cell_type": "markdown",
   "id": "6cf63aae-74df-48e1-83e0-f06e17ff8e2c",
   "metadata": {},
   "source": [
    "## Python is an interpreted language, which means the source code of a Python program is converted into bytecode that is then executed by the Python virtual machine."
   ]
  },
  {
   "cell_type": "code",
   "execution_count": 10,
   "id": "b2462e37-e4a8-43f7-b328-7e4fb0e497a9",
   "metadata": {},
   "outputs": [],
   "source": [
    "# Q.6 Name the few blocks of code used to define in Python language?"
   ]
  },
  {
   "cell_type": "markdown",
   "id": "bfcba915-8d96-4db3-818b-f40a01df1059",
   "metadata": {},
   "source": [
    "# Answer"
   ]
  },
  {
   "cell_type": "markdown",
   "id": "fcd1f3ef-7fc4-4361-b71e-286dc4ba6cb4",
   "metadata": {},
   "source": [
    "## The following are blocks: a module, a function body, and a class definition. Each command typed interactively is a block. A script file is a code block."
   ]
  },
  {
   "cell_type": "code",
   "execution_count": 11,
   "id": "b1b0a9ba-b630-4b36-8e6a-5c22a22fc187",
   "metadata": {},
   "outputs": [],
   "source": [
    "# Q.7 State a character used to give single-line comments in python?"
   ]
  },
  {
   "cell_type": "markdown",
   "id": "bbcd0406-e019-47d1-a8e3-08ef6a4273fe",
   "metadata": {},
   "source": [
    "# Answer"
   ]
  },
  {
   "cell_type": "markdown",
   "id": "2fe7394f-dc66-4320-9679-d541a6597276",
   "metadata": {},
   "source": [
    "## We can write a single-line comment by adding a single # character before any statement or line of code."
   ]
  },
  {
   "cell_type": "code",
   "execution_count": 13,
   "id": "c68bb255-3745-428a-a78a-698e95e59294",
   "metadata": {},
   "outputs": [],
   "source": [
    "# Q.8 Mention functions which can help us to find the version of Python that we are currently working on?"
   ]
  },
  {
   "cell_type": "markdown",
   "id": "eaf31bbe-01b2-4890-91c5-d0ced03b61fb",
   "metadata": {},
   "source": [
    "# Answer"
   ]
  },
  {
   "cell_type": "markdown",
   "id": "4430cab6-8b2d-4b72-92a6-32796959b9bd",
   "metadata": {},
   "source": [
    "## The function sys.version can help us to find the version of python that we are currently working on. "
   ]
  },
  {
   "cell_type": "code",
   "execution_count": 14,
   "id": "d9e13a95-783c-4c12-adcd-91a977710ecf",
   "metadata": {},
   "outputs": [],
   "source": [
    "# Q.9 Python supports the creation of anonymous functions at runtime, using a construct called_________"
   ]
  },
  {
   "cell_type": "markdown",
   "id": "1c0c7750-571a-4abb-a40f-7877860c6dac",
   "metadata": {},
   "source": [
    "# Answer"
   ]
  },
  {
   "cell_type": "markdown",
   "id": "33d9101a-17b9-43e5-9af9-b20bf371fe7a",
   "metadata": {},
   "source": [
    " ## Python supports the creation of anonymous functions at runtime, using a construct called lambda."
   ]
  },
  {
   "cell_type": "code",
   "execution_count": 15,
   "id": "ff03ee94-b58d-4e01-b71f-950380bbf955",
   "metadata": {},
   "outputs": [],
   "source": [
    "# Q.10 What does pip stand for python?"
   ]
  },
  {
   "cell_type": "markdown",
   "id": "ff8e2c95-29b2-495d-a4f6-75613e62164b",
   "metadata": {},
   "source": [
    "# Answer"
   ]
  },
  {
   "cell_type": "markdown",
   "id": "01b437cc-6344-4413-bdca-82a821a7e460",
   "metadata": {},
   "source": [
    "## \"pip install packages\""
   ]
  },
  {
   "cell_type": "code",
   "execution_count": 1,
   "id": "96adb6fe-9d68-4df1-b39f-e252dbda6261",
   "metadata": {},
   "outputs": [],
   "source": [
    "# Q.11 Mention a few built-in functions in Python?"
   ]
  },
  {
   "cell_type": "markdown",
   "id": "ac3d3521-3230-42ec-a611-4ad2dbc7f0fd",
   "metadata": {},
   "source": [
    "# Answer"
   ]
  },
  {
   "cell_type": "markdown",
   "id": "9f38b518-e198-46f4-a012-c90807bb33e4",
   "metadata": {},
   "source": [
    "## 1. print() function \n",
    "## 2. type() function \n",
    "## 3. input() function \n",
    "## 4. abs() function\n",
    "## 5. pow() function\n",
    "## 6. dir() function \n",
    "## 7. sorted() function\n",
    "## 8. max() function\n",
    "## 9. bool() function\n",
    "## 10. chr() function \n",
    "## 11. complex() function\n",
    "## 12. float() function \n",
    "## 13. format() function \n",
    "## 14. list() function \n",
    "## 15. int() function "
   ]
  },
  {
   "cell_type": "code",
   "execution_count": 4,
   "id": "3c4e57b6-f485-498d-976d-9a01a91ce0f3",
   "metadata": {},
   "outputs": [],
   "source": [
    "# Q.12 What is the maximum possible lenght of an identifier in Python?"
   ]
  },
  {
   "cell_type": "markdown",
   "id": "1d0ab900-700f-42ba-a803-726110feadf7",
   "metadata": {},
   "source": [
    "# Answer"
   ]
  },
  {
   "cell_type": "markdown",
   "id": "9b468c46-1b5c-4763-9680-53a6a84a2666",
   "metadata": {},
   "source": [
    "# An identifier can have a maximum lenght of 79 characters in Python."
   ]
  },
  {
   "cell_type": "code",
   "execution_count": 6,
   "id": "472e7b94-38d7-405f-864b-25faf5365497",
   "metadata": {},
   "outputs": [],
   "source": [
    "# Q.13 What are the benefits of using Python?"
   ]
  },
  {
   "cell_type": "markdown",
   "id": "99148932-8e12-44df-bd22-1078f845afb9",
   "metadata": {},
   "source": [
    "# Answer"
   ]
  },
  {
   "cell_type": "markdown",
   "id": "12b7f11e-d737-4080-8ce2-f3d1148bcafe",
   "metadata": {},
   "source": [
    "## Python programming is a general purpose skill used in almost all fields, \n",
    "## including:\n",
    "## 1. Data science\n",
    "## 2. Scientific and mathematical computing \n",
    "## 3. Web development\n",
    "## 4. Finance and trading\n",
    "## 5. System automation and administration\n",
    "## 6. Computer graphics\n",
    "## 7. Security and penetration testing\n",
    "## 8. Basic game development,etc.\n",
    "## Thus, learning Python, have more job opportunities."
   ]
  },
  {
   "cell_type": "code",
   "execution_count": 7,
   "id": "1248c526-245b-4355-ac48-d6a6045c18c6",
   "metadata": {},
   "outputs": [],
   "source": [
    "# Q.14 How is memory managed in Python?"
   ]
  },
  {
   "cell_type": "markdown",
   "id": "b9e608b4-daea-4845-957f-b571412d61f7",
   "metadata": {},
   "source": [
    "# Answer"
   ]
  },
  {
   "cell_type": "markdown",
   "id": "f761384a-83c0-4e50-9eb3-030d4b008805",
   "metadata": {},
   "source": [
    "## Memory management in Python involves a private heap containing all Python objects and data structures. The management of this private heap is ensured internally by the Python memory manager."
   ]
  },
  {
   "cell_type": "code",
   "execution_count": 9,
   "id": "434d3650-d203-44c2-a86d-d70e6343a98f",
   "metadata": {},
   "outputs": [],
   "source": [
    "# Q.15 How to install Python on Windows and set path variables?"
   ]
  },
  {
   "cell_type": "markdown",
   "id": "5d5cd967-2c06-4e57-803b-f3d45e84781c",
   "metadata": {},
   "source": [
    "# Answer"
   ]
  },
  {
   "cell_type": "markdown",
   "id": "41e3ad8f-58c4-49a4-9a39-174e2b97b2fb",
   "metadata": {},
   "source": [
    "## Python installation throught Anaconda\n",
    "\n",
    "## Step #1. Download Anaconda\n",
    "## Step #2: Download the Python 3 version for Windows\n",
    "## Step #3: Double-click on the executable file\n",
    "## Step #4: Click Next\n",
    "## Step #5: Click I agree to the terms and conditions\n",
    "## Step #6: Select Who You Want To Give Anaconda To\n",
    "## Step #7: Select the installation location\n",
    "## Step #8: Select the environment variables\n",
    "## Step #9: Click Next and then “Finish”\n",
    "## Step #10: See if Python Is Installed\n",
    "## Bonus Step: Add Anaconda to Path\n",
    "\n",
    "## You’ have left the Add Anaconda to my PATH environment variable unchecked and want to add it to your PATH? Here is what you need to do. By adding Anaconda to your Path, it’ll become possible to use Anaconda from your Command Prompt (or PowerShell, Cmdr, etc.). \n",
    "\n",
    "## Open a Command Prompt.\n",
    "## Check if you already have Anaconda added to your path.\n",
    "## If you don't know where your conda and/or python is, open an Anaconda Prompt and type in the following commands. \n",
    "## Add conda and python to your PATH. \n",
    "## Open a new Command Prompt. "
   ]
  },
  {
   "cell_type": "code",
   "execution_count": 3,
   "id": "518f9722-d134-4503-a2a4-b844345cf33c",
   "metadata": {},
   "outputs": [],
   "source": [
    "# Q.16 Is indentation required in Python? "
   ]
  },
  {
   "cell_type": "markdown",
   "id": "860dd657-d28f-4ec6-a29e-cae4fc683192",
   "metadata": {},
   "source": [
    "# Answer"
   ]
  },
  {
   "cell_type": "markdown",
   "id": "a25c1cb9-ee15-4ba4-b775-1924652554f5",
   "metadata": {},
   "source": [
    "## Indentation is mandatory in Python to define the blocks of statements. It is preferred to use whitespaces instead of tabs to indent in python. Python uses four spaces as default indentation spaces."
   ]
  },
  {
   "cell_type": "code",
   "execution_count": null,
   "id": "29404656-a9d7-4e70-92c6-742c063e1dfa",
   "metadata": {},
   "outputs": [],
   "source": []
  },
  {
   "cell_type": "code",
   "execution_count": null,
   "id": "17d8e648-8f4c-4d22-90ec-ae2e2f0825c7",
   "metadata": {},
   "outputs": [],
   "source": []
  },
  {
   "cell_type": "code",
   "execution_count": null,
   "id": "a41f1c78-ce69-42da-9f0e-1491b35c5f1d",
   "metadata": {},
   "outputs": [],
   "source": []
  },
  {
   "cell_type": "code",
   "execution_count": null,
   "id": "ceb2894b-8623-4139-b387-53b738783079",
   "metadata": {},
   "outputs": [],
   "source": []
  },
  {
   "cell_type": "code",
   "execution_count": null,
   "id": "586617cf-a7e3-433a-805c-f31bd03b9a9b",
   "metadata": {},
   "outputs": [],
   "source": []
  },
  {
   "cell_type": "code",
   "execution_count": null,
   "id": "705f7d8c-e4b0-46c4-976e-d4bf21f639aa",
   "metadata": {},
   "outputs": [],
   "source": []
  },
  {
   "cell_type": "code",
   "execution_count": null,
   "id": "8483a6c0-0799-49ae-a04c-4e2343c891da",
   "metadata": {},
   "outputs": [],
   "source": []
  },
  {
   "cell_type": "code",
   "execution_count": null,
   "id": "3dbb2779-2e4c-4d98-9d0e-7ed2e425a6ed",
   "metadata": {},
   "outputs": [],
   "source": []
  }
 ],
 "metadata": {
  "kernelspec": {
   "display_name": "Python 3 (ipykernel)",
   "language": "python",
   "name": "python3"
  },
  "language_info": {
   "codemirror_mode": {
    "name": "ipython",
    "version": 3
   },
   "file_extension": ".py",
   "mimetype": "text/x-python",
   "name": "python",
   "nbconvert_exporter": "python",
   "pygments_lexer": "ipython3",
   "version": "3.10.8"
  }
 },
 "nbformat": 4,
 "nbformat_minor": 5
}
