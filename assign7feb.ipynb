{
 "cells": [
  {
   "cell_type": "markdown",
   "id": "744c6894-f61d-47d2-abeb-3a7750c6636f",
   "metadata": {},
   "source": [
    "Assignment 07_feb"
   ]
  },
  {
   "cell_type": "markdown",
   "id": "d7309466-f76b-4c7a-b762-2f02571e1a61",
   "metadata": {},
   "source": [
    "## Q1. You are writing code for a company. The requirement of the company is that you create a python function that will check whether the password entered by the user is correct or not. The function should take the password as input and return the string “Valid Password” if the entered password follows the below-given password guidelines else it should return “Invalid Password”.\n",
    "## Note: 1. The Password should contain at least two uppercase letters and at least two lowercase letters.\n",
    "2. The Password should contain at least a number and three special characters.\n",
    "3. The length of the password should be 10 characters long."
   ]
  },
  {
   "cell_type": "code",
   "execution_count": 22,
   "id": "6163b49b-e798-4d3d-9d59-5cab8e681438",
   "metadata": {},
   "outputs": [],
   "source": [
    "def password_check(password):\n",
    "    if len(password) !=10:\n",
    "        return \"Invalid password\"\n",
    "    upper_case = 0\n",
    "    lower_case = 0\n",
    "    for car in password:\n",
    "        if car.isupper():\n",
    "            upper_case = upper_case + 1\n",
    "        elif car.islower():\n",
    "            lower_case = lower_case + 1\n",
    "            \n",
    "    if upper_case <2 or lower_case<2:\n",
    "        return \"Invalid Password\"\n",
    "    \n",
    "    \n",
    "    num = 0\n",
    "    sp_case = 0\n",
    "    for char in password:\n",
    "        if char.isdigits():\n",
    "            num = num+ 1\n",
    "        elif char.isalnum():\n",
    "            sp_case =sp_case +1\n",
    "            \n",
    "    if  num<2 or sp_case<3:\n",
    "        return \"Invalid Password\"\n",
    "    return \"Valid Password\""
   ]
  },
  {
   "cell_type": "code",
   "execution_count": 23,
   "id": "f14de80e-7062-463a-b66f-aac7db361ea5",
   "metadata": {},
   "outputs": [
    {
     "name": "stdout",
     "output_type": "stream",
     "text": [
      "Invalid password\n"
     ]
    }
   ],
   "source": [
    "print(password_check(\"abC1#@$%^\"))"
   ]
  },
  {
   "cell_type": "code",
   "execution_count": 24,
   "id": "de224824-5877-4e6f-aa79-900d99827515",
   "metadata": {},
   "outputs": [
    {
     "name": "stdout",
     "output_type": "stream",
     "text": [
      "Invalid password\n"
     ]
    }
   ],
   "source": [
    "print(password_check(\"ABC444$$abdc\"))"
   ]
  },
  {
   "cell_type": "code",
   "execution_count": 25,
   "id": "9456eeb0-9ef9-4856-8e39-58f92cc8f2c1",
   "metadata": {},
   "outputs": [
    {
     "name": "stdout",
     "output_type": "stream",
     "text": [
      "Invalid password\n"
     ]
    }
   ],
   "source": [
    "print(password_check(\"AbCdEfGh1\"))"
   ]
  },
  {
   "cell_type": "markdown",
   "id": "f5a5e17e-0b50-4e61-b15b-46de29fa981b",
   "metadata": {},
   "source": [
    "## Q2. Solve the below-given questions using at least one of the following:\n",
    "1. Lambda function\n",
    "2. Filter function\n",
    "3. Zap function\n",
    "4. List Comprehension\n",
    "\n",
    "- B Check if the string starts with a particular letter.\n",
    "- B Check if the string is numeric.\n",
    "- B Sort a list of tuples having fruit names and their quantity. [(\"mango\",99),(\"orange\",80), (\"grapes\", 1000)]\n",
    "- B Find the squares of numbers from 1 to 10.\n",
    "- B Find the cube root of numbers from 1 to 10.\n",
    "- B Check if a given number is even.\n",
    "- B Filter odd numbers from the given list.\n",
    "[1,2,3,4,5,6,7,8,9,10]\n",
    "- B Sort a list of integers into positive and negative integers lists.\n",
    "[1,2,3,4,5,6,-1,-2,-3,-4,-5,0]"
   ]
  },
  {
   "cell_type": "code",
   "execution_count": 26,
   "id": "84a5dd04-044e-4e6e-8081-f5664f8217af",
   "metadata": {},
   "outputs": [
    {
     "name": "stdout",
     "output_type": "stream",
     "text": [
      "True\n"
     ]
    }
   ],
   "source": [
    "string = \"Hello, World!\"\n",
    "starts_with = lambda x: x.startswith(\"H\")\n",
    "print(starts_with(string))\n"
   ]
  },
  {
   "cell_type": "code",
   "execution_count": 27,
   "id": "029a8d05-dde5-465b-ae6a-8c17636ae58e",
   "metadata": {},
   "outputs": [
    {
     "name": "stdout",
     "output_type": "stream",
     "text": [
      "False\n"
     ]
    }
   ],
   "source": [
    "string = \"Hello, World!\"\n",
    "starts_with = lambda x: x.isnumeric()\n",
    "print(starts_with(string))\n"
   ]
  },
  {
   "cell_type": "code",
   "execution_count": 28,
   "id": "a22f4c28-f223-47b8-a1ae-e86ba54657dc",
   "metadata": {},
   "outputs": [
    {
     "name": "stdout",
     "output_type": "stream",
     "text": [
      "[('orange', 80), ('mango', 99), ('grapes', 1000)]\n"
     ]
    }
   ],
   "source": [
    "fruits = [(\"mango\", 99), (\"orange\", 80), (\"grapes\", 1000)]\n",
    "sorted_fruits = sorted(fruits, key=lambda x: x[1])\n",
    "print(sorted_fruits)  "
   ]
  },
  {
   "cell_type": "code",
   "execution_count": 29,
   "id": "d3246423-aa25-49eb-9156-8287f6b68726",
   "metadata": {},
   "outputs": [
    {
     "name": "stdout",
     "output_type": "stream",
     "text": [
      "[1, 4, 9, 16, 25, 36, 49, 64, 81, 100]\n"
     ]
    }
   ],
   "source": [
    "numbers = [1, 2, 3, 4, 5, 6, 7, 8, 9, 10]\n",
    "squared_numbers = list(map(lambda x: x**2, numbers))\n",
    "print(squared_numbers)"
   ]
  },
  {
   "cell_type": "code",
   "execution_count": 30,
   "id": "3ab26e44-a54b-49cb-be48-9abd550d55a8",
   "metadata": {},
   "outputs": [
    {
     "name": "stdout",
     "output_type": "stream",
     "text": [
      "[1.0, 1.26, 1.44, 1.59, 1.71, 1.82, 1.91, 2.0, 2.08, 2.15]\n"
     ]
    }
   ],
   "source": [
    "import math\n",
    "numbers = [1, 2, 3, 4, 5, 6, 7, 8, 9, 10]\n",
    "cuberoot_numbers = list(map(lambda x: round(math.pow(x, 1/3), 2), numbers))\n",
    "print(cuberoot_numbers)"
   ]
  },
  {
   "cell_type": "code",
   "execution_count": 32,
   "id": "a886c782-3555-43e4-97c2-d46848b30817",
   "metadata": {},
   "outputs": [
    {
     "name": "stdout",
     "output_type": "stream",
     "text": [
      "True\n"
     ]
    }
   ],
   "source": [
    "number = 4\n",
    "is_even = lambda x: x % 2 == 0\n",
    "print(is_even(number)) "
   ]
  },
  {
   "cell_type": "code",
   "execution_count": 33,
   "id": "764162a9-a5d6-4535-8af4-8f23595c457e",
   "metadata": {},
   "outputs": [
    {
     "name": "stdout",
     "output_type": "stream",
     "text": [
      "[1, 3, 5, 7, 9]\n"
     ]
    }
   ],
   "source": [
    "numbers = [1, 2, 3, 4, 5, 6, 7, 8, 9, 10]\n",
    "odd_numbers = list(filter(lambda x: x % 2 != 0, numbers))\n",
    "print(odd_numbers) "
   ]
  },
  {
   "cell_type": "code",
   "execution_count": 34,
   "id": "2d5a53f2-3d74-4266-a805-b325b7a37669",
   "metadata": {},
   "outputs": [
    {
     "name": "stdout",
     "output_type": "stream",
     "text": [
      "[1, 2, 3, 4, 5, 6]\n",
      "[-1, -2, -3, -4, -5]\n"
     ]
    }
   ],
   "source": [
    "numbers = [1, 2, 3, 4, 5, 6, -1, -2, -3, -4, -5, 0]\n",
    "positive_numbers = list(filter(lambda x: x > 0, numbers))\n",
    "negative_numbers = list(filter(lambda x: x < 0, numbers))\n",
    "print(positive_numbers)  \n",
    "print(negative_numbers) "
   ]
  },
  {
   "cell_type": "code",
   "execution_count": null,
   "id": "857094b4-5684-42f0-96bd-b83ca4082cda",
   "metadata": {},
   "outputs": [],
   "source": []
  },
  {
   "cell_type": "code",
   "execution_count": null,
   "id": "c83115e3-a50a-4f4c-85f8-98460b2cb6d3",
   "metadata": {},
   "outputs": [],
   "source": []
  }
 ],
 "metadata": {
  "kernelspec": {
   "display_name": "Python 3 (ipykernel)",
   "language": "python",
   "name": "python3"
  },
  "language_info": {
   "codemirror_mode": {
    "name": "ipython",
    "version": 3
   },
   "file_extension": ".py",
   "mimetype": "text/x-python",
   "name": "python",
   "nbconvert_exporter": "python",
   "pygments_lexer": "ipython3",
   "version": "3.10.8"
  }
 },
 "nbformat": 4,
 "nbformat_minor": 5
}
