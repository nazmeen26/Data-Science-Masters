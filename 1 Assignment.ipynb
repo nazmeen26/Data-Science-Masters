{
 "cells": [
  {
   "cell_type": "code",
   "execution_count": 15,
   "id": "90de8959-9a5e-41e5-b2ac-afcad376c895",
   "metadata": {},
   "outputs": [
    {
     "name": "stdin",
     "output_type": "stream",
     "text": [
      "Enter the percentage 70\n"
     ]
    },
    {
     "name": "stdout",
     "output_type": "stream",
     "text": [
      "You have C Grade\n"
     ]
    }
   ],
   "source": [
    "## Q.1 Write a program to accept percentage from the user and display the grade\n",
    "marks=int(input(\"Enter the percentage\"))\n",
    "if marks>90:\n",
    "          print(\"Congratulations you have A Grade\")\n",
    "elif marks>80 and marks<=90:\n",
    "          print(\"You have B Grade\")\n",
    "elif marks>=60 and marks<=80:\n",
    "          print(\"You have C Grade\")\n",
    "elif marks<60:\n",
    "          print(\"You have D Grade\")"
   ]
  },
  {
   "cell_type": "code",
   "execution_count": 8,
   "id": "2f38e525-860e-455d-ab92-3fef3383dfdb",
   "metadata": {},
   "outputs": [
    {
     "name": "stdin",
     "output_type": "stream",
     "text": [
      "Enter the cost_price 120000\n"
     ]
    },
    {
     "name": "stdout",
     "output_type": "stream",
     "text": [
      "Road tax to be paid 18000.0\n"
     ]
    }
   ],
   "source": [
    "## Q.2 Write a programe to accept the cost price of a bike and displaythe road tax to be paid\n",
    "Bike_cost=int(input(\"Enter the cost_price\"))\n",
    "if Bike_cost>100000:\n",
    "    print(\"Road tax to be paid {}\".format(Bike_cost*15/100))\n",
    "elif Bike_cost>50000 and Bike_cost<=100000:\n",
    "    print(\"Road tax to be paid {}\".format(Bike_cost*10/100))       \n",
    "elif Bike_cost<50000:\n",
    "    print(\"Road tax to be paid {}\".format(Bike_cost*5/100))"
   ]
  },
  {
   "cell_type": "code",
   "execution_count": 14,
   "id": "f8ba92b8-7bb3-4cc2-9cc4-8e7cb0547c7b",
   "metadata": {},
   "outputs": [
    {
     "name": "stdin",
     "output_type": "stream",
     "text": [
      " Enter the city Jaipur\n"
     ]
    },
    {
     "name": "stdout",
     "output_type": "stream",
     "text": [
      "Monument of this city is Jal Mahal\n"
     ]
    }
   ],
   "source": [
    "## Q.3 Accept any city from the user and display monuments of that city\n",
    "City=str(input(\" Enter the city\"))\n",
    "if City=='Delhi':\n",
    "    print(\"Monument of this city is Red Fort\")\n",
    "elif City=='Agra':\n",
    "    print(\"Monument of this city is Taj Mahal\")\n",
    "elif City=='Jaipur':\n",
    "    print(\"Monument of this city is Jal Mahal\")"
   ]
  },
  {
   "cell_type": "code",
   "execution_count": 36,
   "id": "3f81b151-d27e-4a02-9987-5d8cf87ed3d8",
   "metadata": {},
   "outputs": [
    {
     "name": "stdout",
     "output_type": "stream",
     "text": [
      " The no. of times 3 divides the Number is 4\n"
     ]
    }
   ],
   "source": [
    "## Q.4 Check how many times a given number can be divisible by 3 before it is less than or equal to 10\n",
    "Number=270\n",
    "Count=0\n",
    "while Number>=10:\n",
    "    Number=Number/3\n",
    "    Count=Count+1\n",
    "print(f\" The no. of times 3 divides the Number is {Count}\")"
   ]
  },
  {
   "cell_type": "code",
   "execution_count": null,
   "id": "a5ac677b-534f-41e8-8453-e62339e2f2ea",
   "metadata": {},
   "outputs": [],
   "source": [
    "## Q.5 Why and when to use while loop in python give a detailed description with example."
   ]
  },
  {
   "cell_type": "markdown",
   "id": "1059af71-689d-480c-a68c-328982e29869",
   "metadata": {},
   "source": [
    "# Answer"
   ]
  },
  {
   "cell_type": "markdown",
   "id": "bf83ab99-bd53-42b1-86ba-3899aac4dca3",
   "metadata": {},
   "source": [
    "## In Python while loop is used to run a block code until a certain condition is met. Here, A while loop evaluates the condition. If the condition evaluates to True, the code inside the while loop is executed."
   ]
  },
  {
   "cell_type": "markdown",
   "id": "6b95ec61-2c03-4bfa-a852-caea0a5ef321",
   "metadata": {},
   "source": [
    "# Example"
   ]
  },
  {
   "cell_type": "code",
   "execution_count": 36,
   "id": "3e0ce3ff-a938-4719-8102-e570d8565e0d",
   "metadata": {},
   "outputs": [
    {
     "name": "stdout",
     "output_type": "stream",
     "text": [
      "11 12 13 14 15 16 17 18 19 20 21 22 23 24 25 \n",
      "\n",
      "i exceeded the number 25\n"
     ]
    }
   ],
   "source": [
    "i=11\n",
    "while i<=25:\n",
    "    print(i,end=\" \")     \n",
    "    i=i+1\n",
    "else:\n",
    "    print(\"\\n\")\n",
    "    print(\"i exceeded the number 25\")"
   ]
  },
  {
   "cell_type": "code",
   "execution_count": 25,
   "id": "540cf27e-ce90-42a9-809d-2c9e5608f915",
   "metadata": {},
   "outputs": [
    {
     "name": "stdout",
     "output_type": "stream",
     "text": [
      "*****\n",
      "*****\n",
      "*****\n",
      "*****\n",
      "*****\n"
     ]
    }
   ],
   "source": [
    "## Q.6 Use nested while loop to print 3 different pattern.\n",
    "i=1\n",
    "while i<=5:\n",
    "    j=1\n",
    "    while j<=5:\n",
    "        print(\"*\",end=\"\")\n",
    "        j=j+1\n",
    "    print() \n",
    "    i=i+1"
   ]
  },
  {
   "cell_type": "code",
   "execution_count": 26,
   "id": "47bd157f-3964-43f7-9e8b-b5bbabf077e9",
   "metadata": {},
   "outputs": [
    {
     "name": "stdout",
     "output_type": "stream",
     "text": [
      "*\n",
      "**\n",
      "***\n",
      "****\n",
      "*****\n"
     ]
    }
   ],
   "source": [
    "i=1\n",
    "while i<=5:\n",
    "    j=1\n",
    "    while j<=i:\n",
    "        print(\"*\",end=\"\")\n",
    "        j=j+1\n",
    "    print() \n",
    "    i=i+1"
   ]
  },
  {
   "cell_type": "code",
   "execution_count": 27,
   "id": "d6c309f0-581c-45c9-a8fb-593a76824a26",
   "metadata": {},
   "outputs": [
    {
     "name": "stdout",
     "output_type": "stream",
     "text": [
      "*****\n",
      "****\n",
      "***\n",
      "**\n",
      "*\n"
     ]
    }
   ],
   "source": [
    "i=1\n",
    "while i<=5:\n",
    "    j=1\n",
    "    while j<=6-i:\n",
    "        print(\"*\",end=\"\")\n",
    "        j=j+1\n",
    "    print() \n",
    "    i=i+1"
   ]
  },
  {
   "cell_type": "code",
   "execution_count": 28,
   "id": "5a417ac9-3dc2-4622-9cd1-77bf113ee0e9",
   "metadata": {},
   "outputs": [
    {
     "name": "stdout",
     "output_type": "stream",
     "text": [
      "10\n",
      "9\n",
      "8\n",
      "7\n",
      "6\n",
      "5\n",
      "4\n",
      "3\n",
      "2\n",
      "1\n"
     ]
    }
   ],
   "source": [
    "## Q.7 Reverse a while loop to display numbers from 10 to 1.\n",
    "i=10\n",
    "while i!=0:\n",
    "    print(i)     \n",
    "    i=i-1"
   ]
  },
  {
   "cell_type": "code",
   "execution_count": 29,
   "id": "cf2f1ce8-8fa9-4cbf-ab22-94347ea720c4",
   "metadata": {},
   "outputs": [
    {
     "name": "stdout",
     "output_type": "stream",
     "text": [
      "10\n",
      "9\n",
      "8\n",
      "7\n",
      "6\n",
      "5\n",
      "4\n",
      "3\n",
      "2\n",
      "1\n"
     ]
    }
   ],
   "source": [
    "## Q.8 Reverse a while loop to display numbers from 10 to 1.\n",
    "i=10\n",
    "while i!=0:\n",
    "    print(i)     \n",
    "    i=i-1"
   ]
  },
  {
   "cell_type": "code",
   "execution_count": null,
   "id": "2ce48a0e-1edb-4cff-88c3-21df763adc21",
   "metadata": {},
   "outputs": [],
   "source": []
  },
  {
   "cell_type": "code",
   "execution_count": null,
   "id": "8a2547f4-59a3-494b-b394-7e9cddcff61d",
   "metadata": {},
   "outputs": [],
   "source": []
  },
  {
   "cell_type": "code",
   "execution_count": null,
   "id": "c724cec2-0772-4203-803a-ae30a91518b2",
   "metadata": {},
   "outputs": [],
   "source": []
  },
  {
   "cell_type": "code",
   "execution_count": null,
   "id": "40be7261-742a-4a56-9f86-f0d1d099d3f5",
   "metadata": {},
   "outputs": [],
   "source": []
  },
  {
   "cell_type": "code",
   "execution_count": null,
   "id": "8f9fa72c-a2c7-4b4d-bc32-338abc476d45",
   "metadata": {},
   "outputs": [],
   "source": []
  },
  {
   "cell_type": "code",
   "execution_count": null,
   "id": "16cb6a8f-7293-40bf-9202-6981ce387562",
   "metadata": {},
   "outputs": [],
   "source": []
  },
  {
   "cell_type": "code",
   "execution_count": null,
   "id": "22d4c824-a27a-4433-ba0e-f518b44a9081",
   "metadata": {},
   "outputs": [],
   "source": []
  },
  {
   "cell_type": "code",
   "execution_count": null,
   "id": "7d1959be-0e48-404b-af25-826bc71faa52",
   "metadata": {},
   "outputs": [],
   "source": []
  },
  {
   "cell_type": "code",
   "execution_count": null,
   "id": "6c338c5a-06fe-4877-a8f9-02d54462308e",
   "metadata": {},
   "outputs": [],
   "source": []
  },
  {
   "cell_type": "code",
   "execution_count": null,
   "id": "7ac58bd8-656f-42c9-9532-f311b91ee8ad",
   "metadata": {},
   "outputs": [],
   "source": []
  },
  {
   "cell_type": "code",
   "execution_count": null,
   "id": "ee2191b5-285a-48e5-b396-3fa184c44dea",
   "metadata": {},
   "outputs": [],
   "source": []
  },
  {
   "cell_type": "code",
   "execution_count": null,
   "id": "36cd7b69-59e0-4b36-af89-def8eb5a53c8",
   "metadata": {},
   "outputs": [],
   "source": []
  }
 ],
 "metadata": {
  "kernelspec": {
   "display_name": "Python 3 (ipykernel)",
   "language": "python",
   "name": "python3"
  },
  "language_info": {
   "codemirror_mode": {
    "name": "ipython",
    "version": 3
   },
   "file_extension": ".py",
   "mimetype": "text/x-python",
   "name": "python",
   "nbconvert_exporter": "python",
   "pygments_lexer": "ipython3",
   "version": "3.10.8"
  }
 },
 "nbformat": 4,
 "nbformat_minor": 5
}
