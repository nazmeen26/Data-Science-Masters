{
 "cells": [
  {
   "cell_type": "markdown",
   "id": "6d8dc69c-5c57-4bb1-96c4-65c1ba0a1fdb",
   "metadata": {},
   "source": [
    "## Q1. Which keyword is used to create a function? Create a function to return a list of odd numbers in the range of 1 to 25. "
   ]
  },
  {
   "cell_type": "markdown",
   "id": "b28737ae-32b3-47b5-b0c6-7db8e2fb871a",
   "metadata": {},
   "source": [
    "# Answer"
   ]
  },
  {
   "cell_type": "markdown",
   "id": "14810eb1-c30a-41a1-801e-1e98b054a7eb",
   "metadata": {},
   "source": [
    "## The def keyword is used to create, a function."
   ]
  },
  {
   "cell_type": "code",
   "execution_count": 38,
   "id": "f729648e-24b8-4d2e-8d33-6e82534c983c",
   "metadata": {},
   "outputs": [],
   "source": [
    "r=range(1,26)"
   ]
  },
  {
   "cell_type": "code",
   "execution_count": 39,
   "id": "fe049e59-c38d-43f9-a604-dd9b29e988fa",
   "metadata": {},
   "outputs": [
    {
     "data": {
      "text/plain": [
       "range(1, 26)"
      ]
     },
     "execution_count": 39,
     "metadata": {},
     "output_type": "execute_result"
    }
   ],
   "source": [
    "r"
   ]
  },
  {
   "cell_type": "code",
   "execution_count": 40,
   "id": "c29768fb-bf05-421e-a4a8-621f9214751a",
   "metadata": {},
   "outputs": [
    {
     "name": "stdout",
     "output_type": "stream",
     "text": [
      "1\n",
      "2\n",
      "3\n",
      "4\n",
      "5\n",
      "6\n",
      "7\n",
      "8\n",
      "9\n",
      "10\n",
      "11\n",
      "12\n",
      "13\n",
      "14\n",
      "15\n",
      "16\n",
      "17\n",
      "18\n",
      "19\n",
      "20\n",
      "21\n",
      "22\n",
      "23\n",
      "24\n",
      "25\n"
     ]
    }
   ],
   "source": [
    "for i in r:\n",
    "    print(i)"
   ]
  },
  {
   "cell_type": "code",
   "execution_count": 41,
   "id": "2d99c742-3623-4801-93f9-e59c5d923517",
   "metadata": {},
   "outputs": [],
   "source": [
    "def test1(a):\n",
    "    n = []\n",
    "    for i in a:\n",
    "        if i%2!=0 :\n",
    "            n.append(i)\n",
    "    return n"
   ]
  },
  {
   "cell_type": "code",
   "execution_count": 42,
   "id": "424dfbe0-abdd-4bba-9950-9024ec800e60",
   "metadata": {},
   "outputs": [
    {
     "data": {
      "text/plain": [
       "[1, 3, 5, 7, 9, 11, 13, 15, 17, 19, 21, 23, 25]"
      ]
     },
     "execution_count": 42,
     "metadata": {},
     "output_type": "execute_result"
    }
   ],
   "source": [
    "test1(r)"
   ]
  },
  {
   "cell_type": "markdown",
   "id": "da013303-e3ad-4036-8e37-cecb88ee0a3e",
   "metadata": {},
   "source": [
    "## Q2. Why *args and **kwargs is used in some functions? Create a function each for *args and **kwargs to demonstrate their use."
   ]
  },
  {
   "cell_type": "markdown",
   "id": "3938ce03-2cea-41b0-a5af-0092b3447d2d",
   "metadata": {},
   "source": [
    "# Answer"
   ]
  },
  {
   "cell_type": "markdown",
   "id": "5b2b691d-5a5a-4b3d-bba8-8d78d855e019",
   "metadata": {},
   "source": [
    "## args and kwargs\n",
    "## These make a Python function flexible so it can accept a variable number of arguments and keyword arguments, respectively."
   ]
  },
  {
   "cell_type": "markdown",
   "id": "0490b57a-f807-4656-84ec-09bb348f1a9b",
   "metadata": {},
   "source": [
    "## Example"
   ]
  },
  {
   "cell_type": "code",
   "execution_count": 43,
   "id": "8543b131-6210-4de7-8bce-5db1f2191d2c",
   "metadata": {},
   "outputs": [],
   "source": [
    "def test1(*args):\n",
    "    return args"
   ]
  },
  {
   "cell_type": "code",
   "execution_count": 44,
   "id": "aa0ce008-d2b1-4016-a936-d1b2f62b9e2d",
   "metadata": {},
   "outputs": [
    {
     "data": {
      "text/plain": [
       "(2, 3, 4, 5, 6, 7)"
      ]
     },
     "execution_count": 44,
     "metadata": {},
     "output_type": "execute_result"
    }
   ],
   "source": [
    "test1(2,3,4,5,6,7)"
   ]
  },
  {
   "cell_type": "code",
   "execution_count": 45,
   "id": "2916c812-a391-4ae1-929b-67df5f1c464d",
   "metadata": {},
   "outputs": [],
   "source": [
    "def test2(*args):\n",
    "    l=[]\n",
    "    for i in args:\n",
    "        if type(i)==int:\n",
    "            l.append(i)\n",
    "    return l        "
   ]
  },
  {
   "cell_type": "code",
   "execution_count": 46,
   "id": "7e96938d-d7b4-47ee-b29b-91397cf9ba7c",
   "metadata": {},
   "outputs": [
    {
     "data": {
      "text/plain": [
       "[3, 4, 5, 7, 9, 1]"
      ]
     },
     "execution_count": 46,
     "metadata": {},
     "output_type": "execute_result"
    }
   ],
   "source": [
    "test2(3,4,5,\"apple\",\"grapes\",7,9,1)"
   ]
  },
  {
   "cell_type": "markdown",
   "id": "ad83337a-ddd7-4977-bb31-76b62a692aab",
   "metadata": {},
   "source": [
    "## Q3.  What is an iterator in python? Name the method used to initialise the iterator object and the method used for iteration. Use these methods to print the first five elements of the given list [2, 4, 6, 8, 10, 12, 14, 16, 18, 20]"
   ]
  },
  {
   "cell_type": "markdown",
   "id": "c9a917f0-40e5-4277-a818-dcd5e6dec1fe",
   "metadata": {},
   "source": [
    "## Answer"
   ]
  },
  {
   "cell_type": "markdown",
   "id": "84356185-1d5d-4b4b-9c61-eeacbb5aec5d",
   "metadata": {},
   "source": [
    "## In Python, you can create a class/object as an iterator. In order to create as an iterator, you must implement the methods __iter__() and __next__(). To initialize the class/object in python, _init_() can be used."
   ]
  },
  {
   "cell_type": "code",
   "execution_count": 54,
   "id": "4392db85-dfd5-463d-ba53-8e94a6168cdc",
   "metadata": {},
   "outputs": [],
   "source": [
    "l= [2, 4, 6, 8, 10, 12, 14, 16, 18, 20]"
   ]
  },
  {
   "cell_type": "code",
   "execution_count": 55,
   "id": "f0843aea-5d8a-41a2-a265-1dc8fd0be309",
   "metadata": {},
   "outputs": [],
   "source": [
    "p=iter(l)"
   ]
  },
  {
   "cell_type": "code",
   "execution_count": 56,
   "id": "e3aa5a92-b2de-47f8-94df-93fa34b47440",
   "metadata": {},
   "outputs": [
    {
     "name": "stdout",
     "output_type": "stream",
     "text": [
      "2\n",
      "4\n",
      "6\n",
      "8\n",
      "10\n"
     ]
    }
   ],
   "source": [
    "print(next(p))\n",
    "print(next(p))\n",
    "print(next(p))\n",
    "print(next(p))\n",
    "print(next(p))"
   ]
  },
  {
   "cell_type": "markdown",
   "id": "b29b92c4-09e7-4a20-aa32-ef9a13142fb3",
   "metadata": {},
   "source": [
    "## Q4.  What is a generator function in python? Why yield keyword is used? Give an example of a generator function."
   ]
  },
  {
   "cell_type": "markdown",
   "id": "16d46bd2-0ec8-49a4-b15c-22d2a9d211ff",
   "metadata": {},
   "source": [
    "# Answer"
   ]
  },
  {
   "cell_type": "markdown",
   "id": "f23c8b51-62da-478e-8aa5-c51229ce51f9",
   "metadata": {},
   "source": [
    "## Python generator functions allow you to declare a function that behaves like an iterator, making it a faster, cleaner and easier way to create an iterator. An iterator is an object that can be iterated or looped upon. It is used to abstract a container of data to make it behave like an iterable object"
   ]
  },
  {
   "cell_type": "markdown",
   "id": "0ab780fe-1a2b-4568-9dcd-fe9fb5b59019",
   "metadata": {},
   "source": [
    "## The yield statement returns a generator object to the one who calls the function which contains yield, instead of simply returning a value."
   ]
  },
  {
   "cell_type": "code",
   "execution_count": 58,
   "id": "e286f26d-db56-4f4f-9327-31aa04c80b93",
   "metadata": {},
   "outputs": [],
   "source": [
    "def firstten():\n",
    "    n=1\n",
    "    while n<=10:\n",
    "        sq=n*n\n",
    "        yield sq\n",
    "        n+=1\n",
    "values = firstten()        \n",
    "        "
   ]
  },
  {
   "cell_type": "code",
   "execution_count": 59,
   "id": "e1f07df0-2b18-419c-8fb2-caa791bcbf0b",
   "metadata": {},
   "outputs": [
    {
     "name": "stdout",
     "output_type": "stream",
     "text": [
      "1\n",
      "4\n",
      "9\n",
      "16\n",
      "25\n",
      "36\n",
      "49\n",
      "64\n",
      "81\n",
      "100\n"
     ]
    }
   ],
   "source": [
    "\n",
    "for i in values:\n",
    "    print(i)"
   ]
  },
  {
   "cell_type": "markdown",
   "id": "bdb12ce0-022e-4ad4-bcfd-b98034e5434c",
   "metadata": {},
   "source": [
    "## Q5. Create a generator function for prime numbers less than 1000. Use the next() method to print the first 20 prime numbers."
   ]
  },
  {
   "cell_type": "markdown",
   "id": "9f656325-bbf5-426d-9491-f877bf89f17e",
   "metadata": {},
   "source": [
    "# Answer"
   ]
  },
  {
   "cell_type": "code",
   "execution_count": 24,
   "id": "cc011c82-41cb-4065-a524-30b4e82243b2",
   "metadata": {},
   "outputs": [],
   "source": [
    "def isprime(n):\n",
    "    if n <= 1:\n",
    "        return False\n",
    "    for i in range(2,int(n**0.5)+1):\n",
    "        if n % i == 0:\n",
    "            return False\n",
    "    return True\n",
    "\n",
    "def prime_num_generator():\n",
    "    n=2\n",
    "    while True:\n",
    "        if isprime(n):\n",
    "            yield n\n",
    "        n +=1    \n",
    "    "
   ]
  },
  {
   "cell_type": "code",
   "execution_count": 25,
   "id": "ded072b4-8f5c-44fd-b168-b3e43128439e",
   "metadata": {},
   "outputs": [],
   "source": [
    "primes=prime_num_generator()"
   ]
  },
  {
   "cell_type": "code",
   "execution_count": 26,
   "id": "155cd321-b565-4632-b1b4-441004c48cc2",
   "metadata": {},
   "outputs": [
    {
     "name": "stdin",
     "output_type": "stream",
     "text": [
      "input the prime numbers 20\n"
     ]
    },
    {
     "name": "stdout",
     "output_type": "stream",
     "text": [
      "first 20 prime numbers:\n",
      "2\n",
      "3\n",
      "5\n",
      "7\n",
      "11\n",
      "13\n",
      "17\n",
      "19\n",
      "23\n",
      "29\n",
      "31\n",
      "37\n",
      "41\n",
      "43\n",
      "47\n",
      "53\n",
      "59\n",
      "61\n",
      "67\n",
      "71\n"
     ]
    }
   ],
   "source": [
    "n=int(input(\"input the prime numbers\"))\n",
    "print(\"first\",n,\"prime numbers:\")\n",
    "for _ in range(n):\n",
    "    print(next(primes))"
   ]
  },
  {
   "cell_type": "code",
   "execution_count": null,
   "id": "c763f0ba-d67d-472a-ab3a-a9a0be118662",
   "metadata": {},
   "outputs": [],
   "source": []
  }
 ],
 "metadata": {
  "kernelspec": {
   "display_name": "Python 3 (ipykernel)",
   "language": "python",
   "name": "python3"
  },
  "language_info": {
   "codemirror_mode": {
    "name": "ipython",
    "version": 3
   },
   "file_extension": ".py",
   "mimetype": "text/x-python",
   "name": "python",
   "nbconvert_exporter": "python",
   "pygments_lexer": "ipython3",
   "version": "3.10.8"
  }
 },
 "nbformat": 4,
 "nbformat_minor": 5
}
