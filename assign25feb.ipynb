{
 "cells": [
  {
   "cell_type": "markdown",
   "id": "5b76af77-5c23-4bb7-b09e-c0bb8bd54481",
   "metadata": {},
   "source": [
    "## Consider following code to answer further questions:"
   ]
  },
  {
   "cell_type": "code",
   "execution_count": 24,
   "id": "e5a8dea2-0248-48fc-b236-f5bf22898dad",
   "metadata": {},
   "outputs": [],
   "source": [
    "import pandas as pd\n",
    "course_name = ['Data Science', 'Machine Learning', 'Big Data', 'Data Engineer']\n",
    "duration = [2,3,6,4]\n",
    "df = pd.DataFrame(data = {'course_name' : course_name, 'duration' : duration})"
   ]
  },
  {
   "cell_type": "code",
   "execution_count": 25,
   "id": "b57a0fa3-44a2-4374-9958-1607abcc42eb",
   "metadata": {},
   "outputs": [
    {
     "data": {
      "text/html": [
       "<div>\n",
       "<style scoped>\n",
       "    .dataframe tbody tr th:only-of-type {\n",
       "        vertical-align: middle;\n",
       "    }\n",
       "\n",
       "    .dataframe tbody tr th {\n",
       "        vertical-align: top;\n",
       "    }\n",
       "\n",
       "    .dataframe thead th {\n",
       "        text-align: right;\n",
       "    }\n",
       "</style>\n",
       "<table border=\"1\" class=\"dataframe\">\n",
       "  <thead>\n",
       "    <tr style=\"text-align: right;\">\n",
       "      <th></th>\n",
       "      <th>course_name</th>\n",
       "      <th>duration</th>\n",
       "    </tr>\n",
       "  </thead>\n",
       "  <tbody>\n",
       "    <tr>\n",
       "      <th>0</th>\n",
       "      <td>Data Science</td>\n",
       "      <td>2</td>\n",
       "    </tr>\n",
       "    <tr>\n",
       "      <th>1</th>\n",
       "      <td>Machine Learning</td>\n",
       "      <td>3</td>\n",
       "    </tr>\n",
       "    <tr>\n",
       "      <th>2</th>\n",
       "      <td>Big Data</td>\n",
       "      <td>6</td>\n",
       "    </tr>\n",
       "    <tr>\n",
       "      <th>3</th>\n",
       "      <td>Data Engineer</td>\n",
       "      <td>4</td>\n",
       "    </tr>\n",
       "  </tbody>\n",
       "</table>\n",
       "</div>"
      ],
      "text/plain": [
       "        course_name  duration\n",
       "0      Data Science         2\n",
       "1  Machine Learning         3\n",
       "2          Big Data         6\n",
       "3     Data Engineer         4"
      ]
     },
     "execution_count": 25,
     "metadata": {},
     "output_type": "execute_result"
    }
   ],
   "source": [
    "df"
   ]
  },
  {
   "cell_type": "markdown",
   "id": "e3d4c279-7bc8-4731-8703-65532a8326a6",
   "metadata": {},
   "source": [
    "## Q1. Write a code to print the data present in the second row of the dataframe, df."
   ]
  },
  {
   "cell_type": "code",
   "execution_count": 26,
   "id": "41a2976c-eea7-4720-9982-c18ce76d07ed",
   "metadata": {},
   "outputs": [
    {
     "data": {
      "text/html": [
       "<div>\n",
       "<style scoped>\n",
       "    .dataframe tbody tr th:only-of-type {\n",
       "        vertical-align: middle;\n",
       "    }\n",
       "\n",
       "    .dataframe tbody tr th {\n",
       "        vertical-align: top;\n",
       "    }\n",
       "\n",
       "    .dataframe thead th {\n",
       "        text-align: right;\n",
       "    }\n",
       "</style>\n",
       "<table border=\"1\" class=\"dataframe\">\n",
       "  <thead>\n",
       "    <tr style=\"text-align: right;\">\n",
       "      <th></th>\n",
       "      <th>course_name</th>\n",
       "      <th>duration</th>\n",
       "    </tr>\n",
       "  </thead>\n",
       "  <tbody>\n",
       "    <tr>\n",
       "      <th>2</th>\n",
       "      <td>Big Data</td>\n",
       "      <td>6</td>\n",
       "    </tr>\n",
       "  </tbody>\n",
       "</table>\n",
       "</div>"
      ],
      "text/plain": [
       "  course_name  duration\n",
       "2    Big Data         6"
      ]
     },
     "execution_count": 26,
     "metadata": {},
     "output_type": "execute_result"
    }
   ],
   "source": [
    "df[2:3] "
   ]
  },
  {
   "cell_type": "markdown",
   "id": "92b2753a-96b9-4925-9356-b37c0cf3d52d",
   "metadata": {},
   "source": [
    "## Q2. What is the difference between the functions loc and iloc in pandas.DataFrame?"
   ]
  },
  {
   "cell_type": "markdown",
   "id": "6d9ef3fc-31a4-43fe-a4cc-1dc8d84e948c",
   "metadata": {},
   "source": [
    "## The main difference between pandas loc[] vs iloc[] is loc gets DataFrame rows & columns by labels/names and iloc[] gets by integer Index/position. For loc[], if the label is not present it gives a key error. For iloc[], if the position is not present it gives an index error."
   ]
  },
  {
   "cell_type": "markdown",
   "id": "e8b46a54-bad2-4bed-bc1d-17d69bb8871f",
   "metadata": {},
   "source": [
    "## Q3. Reindex the given dataframe using a variable, reindex = [3,0,1,2] and store it in the variable, new_df then find the output for both new_df.loc[2] and new_df.iloc[2]."
   ]
  },
  {
   "cell_type": "code",
   "execution_count": 27,
   "id": "cfa7c87f-a003-4c67-9026-994d11d06a6f",
   "metadata": {},
   "outputs": [
    {
     "data": {
      "text/html": [
       "<div>\n",
       "<style scoped>\n",
       "    .dataframe tbody tr th:only-of-type {\n",
       "        vertical-align: middle;\n",
       "    }\n",
       "\n",
       "    .dataframe tbody tr th {\n",
       "        vertical-align: top;\n",
       "    }\n",
       "\n",
       "    .dataframe thead th {\n",
       "        text-align: right;\n",
       "    }\n",
       "</style>\n",
       "<table border=\"1\" class=\"dataframe\">\n",
       "  <thead>\n",
       "    <tr style=\"text-align: right;\">\n",
       "      <th></th>\n",
       "      <th>course_name</th>\n",
       "      <th>duration</th>\n",
       "    </tr>\n",
       "  </thead>\n",
       "  <tbody>\n",
       "    <tr>\n",
       "      <th>3</th>\n",
       "      <td>Data Engineer</td>\n",
       "      <td>4</td>\n",
       "    </tr>\n",
       "    <tr>\n",
       "      <th>0</th>\n",
       "      <td>Data Science</td>\n",
       "      <td>2</td>\n",
       "    </tr>\n",
       "    <tr>\n",
       "      <th>1</th>\n",
       "      <td>Machine Learning</td>\n",
       "      <td>3</td>\n",
       "    </tr>\n",
       "    <tr>\n",
       "      <th>2</th>\n",
       "      <td>Big Data</td>\n",
       "      <td>6</td>\n",
       "    </tr>\n",
       "  </tbody>\n",
       "</table>\n",
       "</div>"
      ],
      "text/plain": [
       "        course_name  duration\n",
       "3     Data Engineer         4\n",
       "0      Data Science         2\n",
       "1  Machine Learning         3\n",
       "2          Big Data         6"
      ]
     },
     "execution_count": 27,
     "metadata": {},
     "output_type": "execute_result"
    }
   ],
   "source": [
    "reindex =[3,0,1,2]\n",
    " \n",
    "df.reindex(reindex)"
   ]
  },
  {
   "cell_type": "code",
   "execution_count": 28,
   "id": "e5031ab4-d0c6-4afa-9aa3-2a5c90172506",
   "metadata": {},
   "outputs": [],
   "source": [
    "new_df=(df.reindex(reindex))"
   ]
  },
  {
   "cell_type": "code",
   "execution_count": 29,
   "id": "c48f1d86-e9f0-4a8d-aed0-1b24233b0a43",
   "metadata": {},
   "outputs": [
    {
     "data": {
      "text/html": [
       "<div>\n",
       "<style scoped>\n",
       "    .dataframe tbody tr th:only-of-type {\n",
       "        vertical-align: middle;\n",
       "    }\n",
       "\n",
       "    .dataframe tbody tr th {\n",
       "        vertical-align: top;\n",
       "    }\n",
       "\n",
       "    .dataframe thead th {\n",
       "        text-align: right;\n",
       "    }\n",
       "</style>\n",
       "<table border=\"1\" class=\"dataframe\">\n",
       "  <thead>\n",
       "    <tr style=\"text-align: right;\">\n",
       "      <th></th>\n",
       "      <th>course_name</th>\n",
       "      <th>duration</th>\n",
       "    </tr>\n",
       "  </thead>\n",
       "  <tbody>\n",
       "    <tr>\n",
       "      <th>3</th>\n",
       "      <td>Data Engineer</td>\n",
       "      <td>4</td>\n",
       "    </tr>\n",
       "    <tr>\n",
       "      <th>0</th>\n",
       "      <td>Data Science</td>\n",
       "      <td>2</td>\n",
       "    </tr>\n",
       "    <tr>\n",
       "      <th>1</th>\n",
       "      <td>Machine Learning</td>\n",
       "      <td>3</td>\n",
       "    </tr>\n",
       "    <tr>\n",
       "      <th>2</th>\n",
       "      <td>Big Data</td>\n",
       "      <td>6</td>\n",
       "    </tr>\n",
       "  </tbody>\n",
       "</table>\n",
       "</div>"
      ],
      "text/plain": [
       "        course_name  duration\n",
       "3     Data Engineer         4\n",
       "0      Data Science         2\n",
       "1  Machine Learning         3\n",
       "2          Big Data         6"
      ]
     },
     "execution_count": 29,
     "metadata": {},
     "output_type": "execute_result"
    }
   ],
   "source": [
    "new_df"
   ]
  },
  {
   "cell_type": "code",
   "execution_count": 30,
   "id": "52cdac9e-2895-475d-9005-cab507b9a927",
   "metadata": {},
   "outputs": [
    {
     "data": {
      "text/plain": [
       "course_name    Big Data\n",
       "duration              6\n",
       "Name: 2, dtype: object"
      ]
     },
     "execution_count": 30,
     "metadata": {},
     "output_type": "execute_result"
    }
   ],
   "source": [
    "new_df.loc[2]"
   ]
  },
  {
   "cell_type": "code",
   "execution_count": 31,
   "id": "62a262be-671b-461d-a6af-0f1c6db62179",
   "metadata": {},
   "outputs": [
    {
     "data": {
      "text/plain": [
       "course_name    Machine Learning\n",
       "duration                      3\n",
       "Name: 1, dtype: object"
      ]
     },
     "execution_count": 31,
     "metadata": {},
     "output_type": "execute_result"
    }
   ],
   "source": [
    "new_df.iloc[2]"
   ]
  },
  {
   "cell_type": "markdown",
   "id": "ba0824d1-4379-4c48-a2d6-5ea8b2357473",
   "metadata": {},
   "source": [
    "## yes, both the answers are different. It is because of loc gets DataFrame rows & columns by labels/names and iloc[] gets by integer Index/position"
   ]
  },
  {
   "cell_type": "code",
   "execution_count": 32,
   "id": "cafb1b7f-e620-4556-bd1f-9d5a661309b3",
   "metadata": {},
   "outputs": [],
   "source": [
    "import pandas as pd\n",
    "import numpy as np\n",
    "columns = ['column_1', 'column_2', 'column_3', 'column_4', 'column_5', 'column_6']\n",
    "indices = [1,2,3,4,5,6]\n",
    "#Creating a dataframe:\n",
    "df1 = pd.DataFrame(np.random.rand(6,6), columns = columns, index = indices)"
   ]
  },
  {
   "cell_type": "code",
   "execution_count": 33,
   "id": "5a12a0fc-cc57-42ac-82e7-a690bccf18a3",
   "metadata": {},
   "outputs": [
    {
     "data": {
      "text/html": [
       "<div>\n",
       "<style scoped>\n",
       "    .dataframe tbody tr th:only-of-type {\n",
       "        vertical-align: middle;\n",
       "    }\n",
       "\n",
       "    .dataframe tbody tr th {\n",
       "        vertical-align: top;\n",
       "    }\n",
       "\n",
       "    .dataframe thead th {\n",
       "        text-align: right;\n",
       "    }\n",
       "</style>\n",
       "<table border=\"1\" class=\"dataframe\">\n",
       "  <thead>\n",
       "    <tr style=\"text-align: right;\">\n",
       "      <th></th>\n",
       "      <th>column_1</th>\n",
       "      <th>column_2</th>\n",
       "      <th>column_3</th>\n",
       "      <th>column_4</th>\n",
       "      <th>column_5</th>\n",
       "      <th>column_6</th>\n",
       "    </tr>\n",
       "  </thead>\n",
       "  <tbody>\n",
       "    <tr>\n",
       "      <th>1</th>\n",
       "      <td>0.159595</td>\n",
       "      <td>0.408012</td>\n",
       "      <td>0.562491</td>\n",
       "      <td>0.773979</td>\n",
       "      <td>0.818978</td>\n",
       "      <td>0.998442</td>\n",
       "    </tr>\n",
       "    <tr>\n",
       "      <th>2</th>\n",
       "      <td>0.241083</td>\n",
       "      <td>0.146868</td>\n",
       "      <td>0.332772</td>\n",
       "      <td>0.310057</td>\n",
       "      <td>0.435202</td>\n",
       "      <td>0.877818</td>\n",
       "    </tr>\n",
       "    <tr>\n",
       "      <th>3</th>\n",
       "      <td>0.355583</td>\n",
       "      <td>0.904694</td>\n",
       "      <td>0.521363</td>\n",
       "      <td>0.952772</td>\n",
       "      <td>0.652475</td>\n",
       "      <td>0.647724</td>\n",
       "    </tr>\n",
       "    <tr>\n",
       "      <th>4</th>\n",
       "      <td>0.182007</td>\n",
       "      <td>0.249296</td>\n",
       "      <td>0.671456</td>\n",
       "      <td>0.522899</td>\n",
       "      <td>0.551372</td>\n",
       "      <td>0.755238</td>\n",
       "    </tr>\n",
       "    <tr>\n",
       "      <th>5</th>\n",
       "      <td>0.450943</td>\n",
       "      <td>0.315164</td>\n",
       "      <td>0.929259</td>\n",
       "      <td>0.001549</td>\n",
       "      <td>0.994596</td>\n",
       "      <td>0.891958</td>\n",
       "    </tr>\n",
       "    <tr>\n",
       "      <th>6</th>\n",
       "      <td>0.991481</td>\n",
       "      <td>0.355034</td>\n",
       "      <td>0.521525</td>\n",
       "      <td>0.384405</td>\n",
       "      <td>0.848946</td>\n",
       "      <td>0.473986</td>\n",
       "    </tr>\n",
       "  </tbody>\n",
       "</table>\n",
       "</div>"
      ],
      "text/plain": [
       "   column_1  column_2  column_3  column_4  column_5  column_6\n",
       "1  0.159595  0.408012  0.562491  0.773979  0.818978  0.998442\n",
       "2  0.241083  0.146868  0.332772  0.310057  0.435202  0.877818\n",
       "3  0.355583  0.904694  0.521363  0.952772  0.652475  0.647724\n",
       "4  0.182007  0.249296  0.671456  0.522899  0.551372  0.755238\n",
       "5  0.450943  0.315164  0.929259  0.001549  0.994596  0.891958\n",
       "6  0.991481  0.355034  0.521525  0.384405  0.848946  0.473986"
      ]
     },
     "execution_count": 33,
     "metadata": {},
     "output_type": "execute_result"
    }
   ],
   "source": [
    "df1"
   ]
  },
  {
   "cell_type": "markdown",
   "id": "9348e233-13b7-42ed-bc12-76f5c8a31e7b",
   "metadata": {},
   "source": [
    "## Q4. Write a code to find the following statistical measurements for the above dataframe df1:\n",
    "## (i) mean of each and every column present in the dataframe.\n",
    "## (ii) standard deviation of column, ‘column_2’"
   ]
  },
  {
   "cell_type": "code",
   "execution_count": 34,
   "id": "caf247a6-7df1-4012-a2a3-9ba6188d127b",
   "metadata": {},
   "outputs": [
    {
     "data": {
      "text/html": [
       "<div>\n",
       "<style scoped>\n",
       "    .dataframe tbody tr th:only-of-type {\n",
       "        vertical-align: middle;\n",
       "    }\n",
       "\n",
       "    .dataframe tbody tr th {\n",
       "        vertical-align: top;\n",
       "    }\n",
       "\n",
       "    .dataframe thead th {\n",
       "        text-align: right;\n",
       "    }\n",
       "</style>\n",
       "<table border=\"1\" class=\"dataframe\">\n",
       "  <thead>\n",
       "    <tr style=\"text-align: right;\">\n",
       "      <th></th>\n",
       "      <th>column_1</th>\n",
       "      <th>column_2</th>\n",
       "      <th>column_3</th>\n",
       "      <th>column_4</th>\n",
       "      <th>column_5</th>\n",
       "      <th>column_6</th>\n",
       "    </tr>\n",
       "  </thead>\n",
       "  <tbody>\n",
       "    <tr>\n",
       "      <th>1</th>\n",
       "      <td>0.159595</td>\n",
       "      <td>0.408012</td>\n",
       "      <td>0.562491</td>\n",
       "      <td>0.773979</td>\n",
       "      <td>0.818978</td>\n",
       "      <td>0.998442</td>\n",
       "    </tr>\n",
       "    <tr>\n",
       "      <th>2</th>\n",
       "      <td>0.241083</td>\n",
       "      <td>0.146868</td>\n",
       "      <td>0.332772</td>\n",
       "      <td>0.310057</td>\n",
       "      <td>0.435202</td>\n",
       "      <td>0.877818</td>\n",
       "    </tr>\n",
       "    <tr>\n",
       "      <th>3</th>\n",
       "      <td>0.355583</td>\n",
       "      <td>0.904694</td>\n",
       "      <td>0.521363</td>\n",
       "      <td>0.952772</td>\n",
       "      <td>0.652475</td>\n",
       "      <td>0.647724</td>\n",
       "    </tr>\n",
       "    <tr>\n",
       "      <th>4</th>\n",
       "      <td>0.182007</td>\n",
       "      <td>0.249296</td>\n",
       "      <td>0.671456</td>\n",
       "      <td>0.522899</td>\n",
       "      <td>0.551372</td>\n",
       "      <td>0.755238</td>\n",
       "    </tr>\n",
       "    <tr>\n",
       "      <th>5</th>\n",
       "      <td>0.450943</td>\n",
       "      <td>0.315164</td>\n",
       "      <td>0.929259</td>\n",
       "      <td>0.001549</td>\n",
       "      <td>0.994596</td>\n",
       "      <td>0.891958</td>\n",
       "    </tr>\n",
       "    <tr>\n",
       "      <th>6</th>\n",
       "      <td>0.991481</td>\n",
       "      <td>0.355034</td>\n",
       "      <td>0.521525</td>\n",
       "      <td>0.384405</td>\n",
       "      <td>0.848946</td>\n",
       "      <td>0.473986</td>\n",
       "    </tr>\n",
       "  </tbody>\n",
       "</table>\n",
       "</div>"
      ],
      "text/plain": [
       "   column_1  column_2  column_3  column_4  column_5  column_6\n",
       "1  0.159595  0.408012  0.562491  0.773979  0.818978  0.998442\n",
       "2  0.241083  0.146868  0.332772  0.310057  0.435202  0.877818\n",
       "3  0.355583  0.904694  0.521363  0.952772  0.652475  0.647724\n",
       "4  0.182007  0.249296  0.671456  0.522899  0.551372  0.755238\n",
       "5  0.450943  0.315164  0.929259  0.001549  0.994596  0.891958\n",
       "6  0.991481  0.355034  0.521525  0.384405  0.848946  0.473986"
      ]
     },
     "execution_count": 34,
     "metadata": {},
     "output_type": "execute_result"
    }
   ],
   "source": [
    "df1"
   ]
  },
  {
   "cell_type": "code",
   "execution_count": 35,
   "id": "98255c14-dab8-4e00-855f-d99bb9eb264d",
   "metadata": {},
   "outputs": [],
   "source": [
    "df2 = df1.mean()"
   ]
  },
  {
   "cell_type": "code",
   "execution_count": 36,
   "id": "03ca0425-290f-4965-a5f8-e61141c77da6",
   "metadata": {},
   "outputs": [
    {
     "data": {
      "text/plain": [
       "column_1    0.396782\n",
       "column_2    0.396511\n",
       "column_3    0.589811\n",
       "column_4    0.490943\n",
       "column_5    0.716928\n",
       "column_6    0.774194\n",
       "dtype: float64"
      ]
     },
     "execution_count": 36,
     "metadata": {},
     "output_type": "execute_result"
    }
   ],
   "source": [
    "df2"
   ]
  },
  {
   "cell_type": "code",
   "execution_count": 37,
   "id": "671db8f0-13ac-4638-88b2-3676093d49f1",
   "metadata": {},
   "outputs": [
    {
     "data": {
      "text/plain": [
       "0.2648449307241382"
      ]
     },
     "execution_count": 37,
     "metadata": {},
     "output_type": "execute_result"
    }
   ],
   "source": [
    "df1['column_2'].std()"
   ]
  },
  {
   "cell_type": "markdown",
   "id": "419558f3-70c0-41df-9157-8bcb37ae1409",
   "metadata": {},
   "source": [
    "## Q5. Replace the data present in the second row of column, ‘column_2’ by a string variable then find the mean of column, column_2. If you are getting errors in executing it then explain why.\n",
    "[Hint: To replace the data use df1.loc[] and equate this to string data of your choice.]"
   ]
  },
  {
   "cell_type": "code",
   "execution_count": 38,
   "id": "e4d78ca6-c900-4b31-b2ac-a132647f6b22",
   "metadata": {},
   "outputs": [
    {
     "data": {
      "text/html": [
       "<div>\n",
       "<style scoped>\n",
       "    .dataframe tbody tr th:only-of-type {\n",
       "        vertical-align: middle;\n",
       "    }\n",
       "\n",
       "    .dataframe tbody tr th {\n",
       "        vertical-align: top;\n",
       "    }\n",
       "\n",
       "    .dataframe thead th {\n",
       "        text-align: right;\n",
       "    }\n",
       "</style>\n",
       "<table border=\"1\" class=\"dataframe\">\n",
       "  <thead>\n",
       "    <tr style=\"text-align: right;\">\n",
       "      <th></th>\n",
       "      <th>column_1</th>\n",
       "      <th>column_2</th>\n",
       "      <th>column_3</th>\n",
       "      <th>column_4</th>\n",
       "      <th>column_5</th>\n",
       "      <th>column_6</th>\n",
       "    </tr>\n",
       "  </thead>\n",
       "  <tbody>\n",
       "    <tr>\n",
       "      <th>1</th>\n",
       "      <td>0.159595</td>\n",
       "      <td>0.408012</td>\n",
       "      <td>0.562491</td>\n",
       "      <td>0.773979</td>\n",
       "      <td>0.818978</td>\n",
       "      <td>0.998442</td>\n",
       "    </tr>\n",
       "    <tr>\n",
       "      <th>2</th>\n",
       "      <td>0.241083</td>\n",
       "      <td>0.146868</td>\n",
       "      <td>0.332772</td>\n",
       "      <td>0.310057</td>\n",
       "      <td>0.435202</td>\n",
       "      <td>0.877818</td>\n",
       "    </tr>\n",
       "    <tr>\n",
       "      <th>3</th>\n",
       "      <td>0.355583</td>\n",
       "      <td>0.904694</td>\n",
       "      <td>0.521363</td>\n",
       "      <td>0.952772</td>\n",
       "      <td>0.652475</td>\n",
       "      <td>0.647724</td>\n",
       "    </tr>\n",
       "    <tr>\n",
       "      <th>4</th>\n",
       "      <td>0.182007</td>\n",
       "      <td>0.249296</td>\n",
       "      <td>0.671456</td>\n",
       "      <td>0.522899</td>\n",
       "      <td>0.551372</td>\n",
       "      <td>0.755238</td>\n",
       "    </tr>\n",
       "    <tr>\n",
       "      <th>5</th>\n",
       "      <td>0.450943</td>\n",
       "      <td>0.315164</td>\n",
       "      <td>0.929259</td>\n",
       "      <td>0.001549</td>\n",
       "      <td>0.994596</td>\n",
       "      <td>0.891958</td>\n",
       "    </tr>\n",
       "    <tr>\n",
       "      <th>6</th>\n",
       "      <td>0.991481</td>\n",
       "      <td>0.355034</td>\n",
       "      <td>0.521525</td>\n",
       "      <td>0.384405</td>\n",
       "      <td>0.848946</td>\n",
       "      <td>0.473986</td>\n",
       "    </tr>\n",
       "  </tbody>\n",
       "</table>\n",
       "</div>"
      ],
      "text/plain": [
       "   column_1  column_2  column_3  column_4  column_5  column_6\n",
       "1  0.159595  0.408012  0.562491  0.773979  0.818978  0.998442\n",
       "2  0.241083  0.146868  0.332772  0.310057  0.435202  0.877818\n",
       "3  0.355583  0.904694  0.521363  0.952772  0.652475  0.647724\n",
       "4  0.182007  0.249296  0.671456  0.522899  0.551372  0.755238\n",
       "5  0.450943  0.315164  0.929259  0.001549  0.994596  0.891958\n",
       "6  0.991481  0.355034  0.521525  0.384405  0.848946  0.473986"
      ]
     },
     "execution_count": 38,
     "metadata": {},
     "output_type": "execute_result"
    }
   ],
   "source": [
    "df1"
   ]
  },
  {
   "cell_type": "code",
   "execution_count": 60,
   "id": "65412943-de02-4d96-99c1-c687a73b5902",
   "metadata": {},
   "outputs": [
    {
     "data": {
      "text/plain": [
       "1    0.408012\n",
       "2    0.146868\n",
       "3    0.904694\n",
       "4    0.249296\n",
       "5    0.315164\n",
       "6    0.355034\n",
       "Name: column_2, dtype: float64"
      ]
     },
     "execution_count": 60,
     "metadata": {},
     "output_type": "execute_result"
    }
   ],
   "source": [
    "df1['column_2']"
   ]
  },
  {
   "cell_type": "code",
   "execution_count": 61,
   "id": "1da08189-9702-4a28-bbe7-f64b9d4f5fea",
   "metadata": {},
   "outputs": [],
   "source": [
    "d=df1.loc[2 , \"column_2\"]"
   ]
  },
  {
   "cell_type": "code",
   "execution_count": 62,
   "id": "3db63f13-c618-405c-aa2b-67cb64e85967",
   "metadata": {},
   "outputs": [
    {
     "data": {
      "text/plain": [
       "0.14686799945259432"
      ]
     },
     "execution_count": 62,
     "metadata": {},
     "output_type": "execute_result"
    }
   ],
   "source": [
    "d"
   ]
  },
  {
   "cell_type": "code",
   "execution_count": 63,
   "id": "0a161890-1dd4-404f-8095-12d021ca375b",
   "metadata": {},
   "outputs": [
    {
     "data": {
      "text/plain": [
       "'0.14686799945259432'"
      ]
     },
     "execution_count": 63,
     "metadata": {},
     "output_type": "execute_result"
    }
   ],
   "source": [
    "d.astype(str)"
   ]
  },
  {
   "cell_type": "code",
   "execution_count": 65,
   "id": "0a696a83-ed6b-401e-a3a0-105dc9da9fcd",
   "metadata": {},
   "outputs": [
    {
     "name": "stdout",
     "output_type": "stream",
     "text": [
      "no\n"
     ]
    }
   ],
   "source": [
    "for d in df1[\"column_2\"]:\n",
    "    if d ==str:\n",
    "        d=\"pqr\"\n",
    "        print(d)\n",
    "else:\n",
    "    print(\"no\")\n",
    "## there is no assignment of string in a floating column.        "
   ]
  },
  {
   "cell_type": "code",
   "execution_count": 66,
   "id": "684b615d-6872-4510-83c4-e71001c1dbca",
   "metadata": {},
   "outputs": [
    {
     "data": {
      "text/plain": [
       "0.3965114799979273"
      ]
     },
     "execution_count": 66,
     "metadata": {},
     "output_type": "execute_result"
    }
   ],
   "source": [
    "df1[\"column_2\"].mean()"
   ]
  },
  {
   "cell_type": "markdown",
   "id": "b09a1ff3-c97c-48e2-bfb4-976bde950962",
   "metadata": {},
   "source": [
    "## 'float' object has no attribute 'astype'. We can't  find mean of a column_2 even after change the entire column to string."
   ]
  },
  {
   "cell_type": "markdown",
   "id": "d7988457-6aff-47bb-9ac9-c26b1f10d8a3",
   "metadata": {},
   "source": [
    "## Q6. What do you understand about the windows function in pandas and list the types of windows functions?"
   ]
  },
  {
   "cell_type": "markdown",
   "id": "b26199f0-b389-4fff-99e6-54d4fc95f549",
   "metadata": {},
   "source": [
    "## A window is a value (in terms of rows) that tells us the distance between our current row and the row which is to be used for calculations. Windows function in Pandas can be broadly divided into three categories namely- Aggregate, Ranking, and Value."
   ]
  },
  {
   "cell_type": "markdown",
   "id": "753e5066-ab53-4045-aa4d-0ff45b7a513d",
   "metadata": {},
   "source": [
    "# Window indexer\n",
    "### Rolling window functions.\n",
    "### Weighted window functions.\n",
    "### Expanding window functions.\n",
    "### Exponentially-weighted window functions.\n",
    "### Window indexer."
   ]
  },
  {
   "cell_type": "markdown",
   "id": "de3382cb-ee5d-4ea5-820a-169cab22c42e",
   "metadata": {},
   "source": [
    "## Q7. Write a code to print only the current month and year at the time of answering this question.\n",
    "## [Hint: Use pandas.datetime function]"
   ]
  },
  {
   "cell_type": "code",
   "execution_count": 67,
   "id": "49cf41e4-f26f-4c33-a70a-a0f5f6a10a30",
   "metadata": {},
   "outputs": [],
   "source": [
    " data = pd.date_range(start = '2024-02-01' ,end = '2024-02-29') ## leap year"
   ]
  },
  {
   "cell_type": "code",
   "execution_count": 68,
   "id": "8fd42372-959d-49d9-9d99-d2339d66f014",
   "metadata": {},
   "outputs": [
    {
     "data": {
      "text/plain": [
       "DatetimeIndex(['2024-02-01', '2024-02-02', '2024-02-03', '2024-02-04',\n",
       "               '2024-02-05', '2024-02-06', '2024-02-07', '2024-02-08',\n",
       "               '2024-02-09', '2024-02-10', '2024-02-11', '2024-02-12',\n",
       "               '2024-02-13', '2024-02-14', '2024-02-15', '2024-02-16',\n",
       "               '2024-02-17', '2024-02-18', '2024-02-19', '2024-02-20',\n",
       "               '2024-02-21', '2024-02-22', '2024-02-23', '2024-02-24',\n",
       "               '2024-02-25', '2024-02-26', '2024-02-27', '2024-02-28',\n",
       "               '2024-02-29'],\n",
       "              dtype='datetime64[ns]', freq='D')"
      ]
     },
     "execution_count": 68,
     "metadata": {},
     "output_type": "execute_result"
    }
   ],
   "source": [
    "data"
   ]
  },
  {
   "cell_type": "code",
   "execution_count": 69,
   "id": "73816717-40c0-4817-a58e-0b8807c41fa1",
   "metadata": {},
   "outputs": [],
   "source": [
    "df_date = pd.DataFrame({\"date\" : data})"
   ]
  },
  {
   "cell_type": "code",
   "execution_count": 70,
   "id": "1b72d235-a176-4c65-97ee-8ac74c94de03",
   "metadata": {},
   "outputs": [
    {
     "data": {
      "text/html": [
       "<div>\n",
       "<style scoped>\n",
       "    .dataframe tbody tr th:only-of-type {\n",
       "        vertical-align: middle;\n",
       "    }\n",
       "\n",
       "    .dataframe tbody tr th {\n",
       "        vertical-align: top;\n",
       "    }\n",
       "\n",
       "    .dataframe thead th {\n",
       "        text-align: right;\n",
       "    }\n",
       "</style>\n",
       "<table border=\"1\" class=\"dataframe\">\n",
       "  <thead>\n",
       "    <tr style=\"text-align: right;\">\n",
       "      <th></th>\n",
       "      <th>date</th>\n",
       "    </tr>\n",
       "  </thead>\n",
       "  <tbody>\n",
       "    <tr>\n",
       "      <th>0</th>\n",
       "      <td>2024-02-01</td>\n",
       "    </tr>\n",
       "    <tr>\n",
       "      <th>1</th>\n",
       "      <td>2024-02-02</td>\n",
       "    </tr>\n",
       "    <tr>\n",
       "      <th>2</th>\n",
       "      <td>2024-02-03</td>\n",
       "    </tr>\n",
       "    <tr>\n",
       "      <th>3</th>\n",
       "      <td>2024-02-04</td>\n",
       "    </tr>\n",
       "    <tr>\n",
       "      <th>4</th>\n",
       "      <td>2024-02-05</td>\n",
       "    </tr>\n",
       "    <tr>\n",
       "      <th>5</th>\n",
       "      <td>2024-02-06</td>\n",
       "    </tr>\n",
       "    <tr>\n",
       "      <th>6</th>\n",
       "      <td>2024-02-07</td>\n",
       "    </tr>\n",
       "    <tr>\n",
       "      <th>7</th>\n",
       "      <td>2024-02-08</td>\n",
       "    </tr>\n",
       "    <tr>\n",
       "      <th>8</th>\n",
       "      <td>2024-02-09</td>\n",
       "    </tr>\n",
       "    <tr>\n",
       "      <th>9</th>\n",
       "      <td>2024-02-10</td>\n",
       "    </tr>\n",
       "    <tr>\n",
       "      <th>10</th>\n",
       "      <td>2024-02-11</td>\n",
       "    </tr>\n",
       "    <tr>\n",
       "      <th>11</th>\n",
       "      <td>2024-02-12</td>\n",
       "    </tr>\n",
       "    <tr>\n",
       "      <th>12</th>\n",
       "      <td>2024-02-13</td>\n",
       "    </tr>\n",
       "    <tr>\n",
       "      <th>13</th>\n",
       "      <td>2024-02-14</td>\n",
       "    </tr>\n",
       "    <tr>\n",
       "      <th>14</th>\n",
       "      <td>2024-02-15</td>\n",
       "    </tr>\n",
       "    <tr>\n",
       "      <th>15</th>\n",
       "      <td>2024-02-16</td>\n",
       "    </tr>\n",
       "    <tr>\n",
       "      <th>16</th>\n",
       "      <td>2024-02-17</td>\n",
       "    </tr>\n",
       "    <tr>\n",
       "      <th>17</th>\n",
       "      <td>2024-02-18</td>\n",
       "    </tr>\n",
       "    <tr>\n",
       "      <th>18</th>\n",
       "      <td>2024-02-19</td>\n",
       "    </tr>\n",
       "    <tr>\n",
       "      <th>19</th>\n",
       "      <td>2024-02-20</td>\n",
       "    </tr>\n",
       "    <tr>\n",
       "      <th>20</th>\n",
       "      <td>2024-02-21</td>\n",
       "    </tr>\n",
       "    <tr>\n",
       "      <th>21</th>\n",
       "      <td>2024-02-22</td>\n",
       "    </tr>\n",
       "    <tr>\n",
       "      <th>22</th>\n",
       "      <td>2024-02-23</td>\n",
       "    </tr>\n",
       "    <tr>\n",
       "      <th>23</th>\n",
       "      <td>2024-02-24</td>\n",
       "    </tr>\n",
       "    <tr>\n",
       "      <th>24</th>\n",
       "      <td>2024-02-25</td>\n",
       "    </tr>\n",
       "    <tr>\n",
       "      <th>25</th>\n",
       "      <td>2024-02-26</td>\n",
       "    </tr>\n",
       "    <tr>\n",
       "      <th>26</th>\n",
       "      <td>2024-02-27</td>\n",
       "    </tr>\n",
       "    <tr>\n",
       "      <th>27</th>\n",
       "      <td>2024-02-28</td>\n",
       "    </tr>\n",
       "    <tr>\n",
       "      <th>28</th>\n",
       "      <td>2024-02-29</td>\n",
       "    </tr>\n",
       "  </tbody>\n",
       "</table>\n",
       "</div>"
      ],
      "text/plain": [
       "         date\n",
       "0  2024-02-01\n",
       "1  2024-02-02\n",
       "2  2024-02-03\n",
       "3  2024-02-04\n",
       "4  2024-02-05\n",
       "5  2024-02-06\n",
       "6  2024-02-07\n",
       "7  2024-02-08\n",
       "8  2024-02-09\n",
       "9  2024-02-10\n",
       "10 2024-02-11\n",
       "11 2024-02-12\n",
       "12 2024-02-13\n",
       "13 2024-02-14\n",
       "14 2024-02-15\n",
       "15 2024-02-16\n",
       "16 2024-02-17\n",
       "17 2024-02-18\n",
       "18 2024-02-19\n",
       "19 2024-02-20\n",
       "20 2024-02-21\n",
       "21 2024-02-22\n",
       "22 2024-02-23\n",
       "23 2024-02-24\n",
       "24 2024-02-25\n",
       "25 2024-02-26\n",
       "26 2024-02-27\n",
       "27 2024-02-28\n",
       "28 2024-02-29"
      ]
     },
     "execution_count": 70,
     "metadata": {},
     "output_type": "execute_result"
    }
   ],
   "source": [
    "df_date"
   ]
  },
  {
   "cell_type": "markdown",
   "id": "caa5b8f3-3239-4a1e-b3ce-4f645ddd6fe3",
   "metadata": {},
   "source": [
    "## Q8. Write a Python program that takes in two dates as input (in the format YYYY-MM-DD) and calculates the difference between them in days, hours, and minutes using Pandas time delta. The program should prompt the user to enter the dates and display the result."
   ]
  },
  {
   "cell_type": "code",
   "execution_count": 140,
   "id": "6601fe1d-a297-482d-991c-fe7a9202f3d8",
   "metadata": {},
   "outputs": [
    {
     "name": "stdin",
     "output_type": "stream",
     "text": [
      "Enter beginning date1 to search for time and dates in YYYY-MM-DD format 2024-01-01\n",
      "Enter ending date2 to search for time and dates in YYYY-MM-DD format 2024-02-01\n"
     ]
    }
   ],
   "source": [
    "import pandas as pd\n",
    "import datetime\n",
    "#prompts for input date\n",
    "TestedDateBegin = input('Enter beginning date1 to search for time and dates in YYYY-MM-DD format')\n",
    "year, month, day = map(int, TestedDateBegin.split('-'))\n",
    "date1 = datetime.date(year, month, day)\n",
    "\n",
    "TestedDateBegin = input('Enter ending date2 to search for time and dates in YYYY-MM-DD format')\n",
    "year, month, day = map(int, TestedDateBegin.split('-'))\n",
    "date2 = datetime.date(year, month, day)\n",
    "\n",
    "\n"
   ]
  },
  {
   "cell_type": "code",
   "execution_count": 141,
   "id": "ade83e4d-b6aa-494c-a7ae-f2d518fa726c",
   "metadata": {},
   "outputs": [],
   "source": [
    "data = pd.date_range(start = date1 ,end = date2)"
   ]
  },
  {
   "cell_type": "code",
   "execution_count": 142,
   "id": "ba9a8f85-2b3c-4471-9b83-0cda9f19570a",
   "metadata": {},
   "outputs": [
    {
     "data": {
      "text/plain": [
       "DatetimeIndex(['2024-01-01', '2024-01-02', '2024-01-03', '2024-01-04',\n",
       "               '2024-01-05', '2024-01-06', '2024-01-07', '2024-01-08',\n",
       "               '2024-01-09', '2024-01-10', '2024-01-11', '2024-01-12',\n",
       "               '2024-01-13', '2024-01-14', '2024-01-15', '2024-01-16',\n",
       "               '2024-01-17', '2024-01-18', '2024-01-19', '2024-01-20',\n",
       "               '2024-01-21', '2024-01-22', '2024-01-23', '2024-01-24',\n",
       "               '2024-01-25', '2024-01-26', '2024-01-27', '2024-01-28',\n",
       "               '2024-01-29', '2024-01-30', '2024-01-31', '2024-02-01'],\n",
       "              dtype='datetime64[ns]', freq='D')"
      ]
     },
     "execution_count": 142,
     "metadata": {},
     "output_type": "execute_result"
    }
   ],
   "source": [
    "data"
   ]
  },
  {
   "cell_type": "code",
   "execution_count": 143,
   "id": "708b8fd7-b292-4478-ba81-49d116ea0a72",
   "metadata": {},
   "outputs": [],
   "source": [
    "df_date = pd.DataFrame({\"dates\" : data})"
   ]
  },
  {
   "cell_type": "code",
   "execution_count": 144,
   "id": "c90c59bd-5199-4cdf-b400-35160242518e",
   "metadata": {},
   "outputs": [
    {
     "data": {
      "text/html": [
       "<div>\n",
       "<style scoped>\n",
       "    .dataframe tbody tr th:only-of-type {\n",
       "        vertical-align: middle;\n",
       "    }\n",
       "\n",
       "    .dataframe tbody tr th {\n",
       "        vertical-align: top;\n",
       "    }\n",
       "\n",
       "    .dataframe thead th {\n",
       "        text-align: right;\n",
       "    }\n",
       "</style>\n",
       "<table border=\"1\" class=\"dataframe\">\n",
       "  <thead>\n",
       "    <tr style=\"text-align: right;\">\n",
       "      <th></th>\n",
       "      <th>dates</th>\n",
       "    </tr>\n",
       "  </thead>\n",
       "  <tbody>\n",
       "    <tr>\n",
       "      <th>0</th>\n",
       "      <td>2024-01-01</td>\n",
       "    </tr>\n",
       "    <tr>\n",
       "      <th>1</th>\n",
       "      <td>2024-01-02</td>\n",
       "    </tr>\n",
       "    <tr>\n",
       "      <th>2</th>\n",
       "      <td>2024-01-03</td>\n",
       "    </tr>\n",
       "    <tr>\n",
       "      <th>3</th>\n",
       "      <td>2024-01-04</td>\n",
       "    </tr>\n",
       "    <tr>\n",
       "      <th>4</th>\n",
       "      <td>2024-01-05</td>\n",
       "    </tr>\n",
       "    <tr>\n",
       "      <th>5</th>\n",
       "      <td>2024-01-06</td>\n",
       "    </tr>\n",
       "    <tr>\n",
       "      <th>6</th>\n",
       "      <td>2024-01-07</td>\n",
       "    </tr>\n",
       "    <tr>\n",
       "      <th>7</th>\n",
       "      <td>2024-01-08</td>\n",
       "    </tr>\n",
       "    <tr>\n",
       "      <th>8</th>\n",
       "      <td>2024-01-09</td>\n",
       "    </tr>\n",
       "    <tr>\n",
       "      <th>9</th>\n",
       "      <td>2024-01-10</td>\n",
       "    </tr>\n",
       "    <tr>\n",
       "      <th>10</th>\n",
       "      <td>2024-01-11</td>\n",
       "    </tr>\n",
       "    <tr>\n",
       "      <th>11</th>\n",
       "      <td>2024-01-12</td>\n",
       "    </tr>\n",
       "    <tr>\n",
       "      <th>12</th>\n",
       "      <td>2024-01-13</td>\n",
       "    </tr>\n",
       "    <tr>\n",
       "      <th>13</th>\n",
       "      <td>2024-01-14</td>\n",
       "    </tr>\n",
       "    <tr>\n",
       "      <th>14</th>\n",
       "      <td>2024-01-15</td>\n",
       "    </tr>\n",
       "    <tr>\n",
       "      <th>15</th>\n",
       "      <td>2024-01-16</td>\n",
       "    </tr>\n",
       "    <tr>\n",
       "      <th>16</th>\n",
       "      <td>2024-01-17</td>\n",
       "    </tr>\n",
       "    <tr>\n",
       "      <th>17</th>\n",
       "      <td>2024-01-18</td>\n",
       "    </tr>\n",
       "    <tr>\n",
       "      <th>18</th>\n",
       "      <td>2024-01-19</td>\n",
       "    </tr>\n",
       "    <tr>\n",
       "      <th>19</th>\n",
       "      <td>2024-01-20</td>\n",
       "    </tr>\n",
       "    <tr>\n",
       "      <th>20</th>\n",
       "      <td>2024-01-21</td>\n",
       "    </tr>\n",
       "    <tr>\n",
       "      <th>21</th>\n",
       "      <td>2024-01-22</td>\n",
       "    </tr>\n",
       "    <tr>\n",
       "      <th>22</th>\n",
       "      <td>2024-01-23</td>\n",
       "    </tr>\n",
       "    <tr>\n",
       "      <th>23</th>\n",
       "      <td>2024-01-24</td>\n",
       "    </tr>\n",
       "    <tr>\n",
       "      <th>24</th>\n",
       "      <td>2024-01-25</td>\n",
       "    </tr>\n",
       "    <tr>\n",
       "      <th>25</th>\n",
       "      <td>2024-01-26</td>\n",
       "    </tr>\n",
       "    <tr>\n",
       "      <th>26</th>\n",
       "      <td>2024-01-27</td>\n",
       "    </tr>\n",
       "    <tr>\n",
       "      <th>27</th>\n",
       "      <td>2024-01-28</td>\n",
       "    </tr>\n",
       "    <tr>\n",
       "      <th>28</th>\n",
       "      <td>2024-01-29</td>\n",
       "    </tr>\n",
       "    <tr>\n",
       "      <th>29</th>\n",
       "      <td>2024-01-30</td>\n",
       "    </tr>\n",
       "    <tr>\n",
       "      <th>30</th>\n",
       "      <td>2024-01-31</td>\n",
       "    </tr>\n",
       "    <tr>\n",
       "      <th>31</th>\n",
       "      <td>2024-02-01</td>\n",
       "    </tr>\n",
       "  </tbody>\n",
       "</table>\n",
       "</div>"
      ],
      "text/plain": [
       "        dates\n",
       "0  2024-01-01\n",
       "1  2024-01-02\n",
       "2  2024-01-03\n",
       "3  2024-01-04\n",
       "4  2024-01-05\n",
       "5  2024-01-06\n",
       "6  2024-01-07\n",
       "7  2024-01-08\n",
       "8  2024-01-09\n",
       "9  2024-01-10\n",
       "10 2024-01-11\n",
       "11 2024-01-12\n",
       "12 2024-01-13\n",
       "13 2024-01-14\n",
       "14 2024-01-15\n",
       "15 2024-01-16\n",
       "16 2024-01-17\n",
       "17 2024-01-18\n",
       "18 2024-01-19\n",
       "19 2024-01-20\n",
       "20 2024-01-21\n",
       "21 2024-01-22\n",
       "22 2024-01-23\n",
       "23 2024-01-24\n",
       "24 2024-01-25\n",
       "25 2024-01-26\n",
       "26 2024-01-27\n",
       "27 2024-01-28\n",
       "28 2024-01-29\n",
       "29 2024-01-30\n",
       "30 2024-01-31\n",
       "31 2024-02-01"
      ]
     },
     "execution_count": 144,
     "metadata": {},
     "output_type": "execute_result"
    }
   ],
   "source": [
    "df_date"
   ]
  },
  {
   "cell_type": "code",
   "execution_count": 151,
   "id": "59b70538-4237-4c22-8276-000325ceda40",
   "metadata": {},
   "outputs": [],
   "source": [
    "time1 = pd.Timedelta(days =0 , hours = 6 , minutes = 30)\n",
    "time2 = pd.Timedelta(days =1 , hours = 5 , minutes = 55)"
   ]
  },
  {
   "cell_type": "code",
   "execution_count": 152,
   "id": "8055a315-43a8-41da-91b6-bf48a6e57fbc",
   "metadata": {},
   "outputs": [],
   "source": [
    "d1=pd.to_datetime(df_date['dates'][0])\n",
    "d2=pd.to_datetime(df_date['dates'][5])"
   ]
  },
  {
   "cell_type": "code",
   "execution_count": 153,
   "id": "506a3fba-9e0c-49c8-9bc4-b2f06a409575",
   "metadata": {},
   "outputs": [],
   "source": [
    "p1=d1+time1"
   ]
  },
  {
   "cell_type": "code",
   "execution_count": 154,
   "id": "0884007e-ad8c-4ca4-b527-5d131c2ae161",
   "metadata": {},
   "outputs": [
    {
     "data": {
      "text/plain": [
       "Timestamp('2024-01-01 06:30:00')"
      ]
     },
     "execution_count": 154,
     "metadata": {},
     "output_type": "execute_result"
    }
   ],
   "source": [
    "p1"
   ]
  },
  {
   "cell_type": "code",
   "execution_count": 155,
   "id": "a158de20-aca8-4ffb-b930-11ceb97800da",
   "metadata": {},
   "outputs": [],
   "source": [
    "p2=d2+time2"
   ]
  },
  {
   "cell_type": "code",
   "execution_count": 156,
   "id": "248bb46b-ecc2-45b4-b99e-f4e7579138aa",
   "metadata": {},
   "outputs": [
    {
     "data": {
      "text/plain": [
       "Timestamp('2024-01-07 05:55:00')"
      ]
     },
     "execution_count": 156,
     "metadata": {},
     "output_type": "execute_result"
    }
   ],
   "source": [
    "p2"
   ]
  },
  {
   "cell_type": "code",
   "execution_count": 157,
   "id": "8ce057d5-8218-4487-8f58-aa32878c8346",
   "metadata": {},
   "outputs": [],
   "source": [
    "p=p2-p1"
   ]
  },
  {
   "cell_type": "code",
   "execution_count": 158,
   "id": "5c6ea6ca-b152-455f-b55a-cf02e3b38a4b",
   "metadata": {},
   "outputs": [
    {
     "data": {
      "text/plain": [
       "Timedelta('5 days 23:25:00')"
      ]
     },
     "execution_count": 158,
     "metadata": {},
     "output_type": "execute_result"
    }
   ],
   "source": [
    "p"
   ]
  },
  {
   "cell_type": "markdown",
   "id": "bfa2fb9e-1597-49e1-8e4e-3f920fcfbf1a",
   "metadata": {},
   "source": [
    "## Q9. Write a Python program that reads a CSV file containing categorical data and converts a specified column to a categorical data type. The program should prompt the user to enter the file path, column name, and category order, and then display the sorted data."
   ]
  },
  {
   "cell_type": "code",
   "execution_count": 78,
   "id": "a0b02266-223d-46dd-bc15-6738114901f2",
   "metadata": {},
   "outputs": [],
   "source": [
    "import pandas as pd\n",
    "name = ['kumar', 'mohan', 'rohan', 'sohan']\n",
    "age= [22,23,26,24]\n",
    "df = pd.DataFrame(data = {'name' : name, 'age' : age})"
   ]
  },
  {
   "cell_type": "code",
   "execution_count": 79,
   "id": "249d4ce9-211a-49c1-bd16-fbffaa819e14",
   "metadata": {},
   "outputs": [
    {
     "data": {
      "text/html": [
       "<div>\n",
       "<style scoped>\n",
       "    .dataframe tbody tr th:only-of-type {\n",
       "        vertical-align: middle;\n",
       "    }\n",
       "\n",
       "    .dataframe tbody tr th {\n",
       "        vertical-align: top;\n",
       "    }\n",
       "\n",
       "    .dataframe thead th {\n",
       "        text-align: right;\n",
       "    }\n",
       "</style>\n",
       "<table border=\"1\" class=\"dataframe\">\n",
       "  <thead>\n",
       "    <tr style=\"text-align: right;\">\n",
       "      <th></th>\n",
       "      <th>name</th>\n",
       "      <th>age</th>\n",
       "    </tr>\n",
       "  </thead>\n",
       "  <tbody>\n",
       "    <tr>\n",
       "      <th>0</th>\n",
       "      <td>kumar</td>\n",
       "      <td>22</td>\n",
       "    </tr>\n",
       "    <tr>\n",
       "      <th>1</th>\n",
       "      <td>mohan</td>\n",
       "      <td>23</td>\n",
       "    </tr>\n",
       "    <tr>\n",
       "      <th>2</th>\n",
       "      <td>rohan</td>\n",
       "      <td>26</td>\n",
       "    </tr>\n",
       "    <tr>\n",
       "      <th>3</th>\n",
       "      <td>sohan</td>\n",
       "      <td>24</td>\n",
       "    </tr>\n",
       "  </tbody>\n",
       "</table>\n",
       "</div>"
      ],
      "text/plain": [
       "    name  age\n",
       "0  kumar   22\n",
       "1  mohan   23\n",
       "2  rohan   26\n",
       "3  sohan   24"
      ]
     },
     "execution_count": 79,
     "metadata": {},
     "output_type": "execute_result"
    }
   ],
   "source": [
    "df"
   ]
  },
  {
   "cell_type": "code",
   "execution_count": 80,
   "id": "a2c2c26f-9884-4a51-b04b-0c85275e8b81",
   "metadata": {},
   "outputs": [],
   "source": [
    "df.to_csv(\"Test1.csv\")"
   ]
  },
  {
   "cell_type": "code",
   "execution_count": 81,
   "id": "8220b314-b744-434f-9bf7-6746b5ae8b69",
   "metadata": {},
   "outputs": [
    {
     "name": "stdin",
     "output_type": "stream",
     "text": [
      "Enter filepath name:  Test1.csv\n"
     ]
    }
   ],
   "source": [
    "import csv\n",
    "import pandas as pd\n",
    "filepath=input(\"Enter filepath name: \")\n",
    "df=pd.read_csv(filepath)\n"
   ]
  },
  {
   "cell_type": "code",
   "execution_count": 82,
   "id": "bf2200f5-7c0e-43f5-a084-0f1f3776e53a",
   "metadata": {},
   "outputs": [
    {
     "data": {
      "text/html": [
       "<div>\n",
       "<style scoped>\n",
       "    .dataframe tbody tr th:only-of-type {\n",
       "        vertical-align: middle;\n",
       "    }\n",
       "\n",
       "    .dataframe tbody tr th {\n",
       "        vertical-align: top;\n",
       "    }\n",
       "\n",
       "    .dataframe thead th {\n",
       "        text-align: right;\n",
       "    }\n",
       "</style>\n",
       "<table border=\"1\" class=\"dataframe\">\n",
       "  <thead>\n",
       "    <tr style=\"text-align: right;\">\n",
       "      <th></th>\n",
       "      <th>Unnamed: 0</th>\n",
       "      <th>name</th>\n",
       "      <th>age</th>\n",
       "    </tr>\n",
       "  </thead>\n",
       "  <tbody>\n",
       "    <tr>\n",
       "      <th>0</th>\n",
       "      <td>0</td>\n",
       "      <td>kumar</td>\n",
       "      <td>22</td>\n",
       "    </tr>\n",
       "    <tr>\n",
       "      <th>1</th>\n",
       "      <td>1</td>\n",
       "      <td>mohan</td>\n",
       "      <td>23</td>\n",
       "    </tr>\n",
       "    <tr>\n",
       "      <th>2</th>\n",
       "      <td>2</td>\n",
       "      <td>rohan</td>\n",
       "      <td>26</td>\n",
       "    </tr>\n",
       "    <tr>\n",
       "      <th>3</th>\n",
       "      <td>3</td>\n",
       "      <td>sohan</td>\n",
       "      <td>24</td>\n",
       "    </tr>\n",
       "  </tbody>\n",
       "</table>\n",
       "</div>"
      ],
      "text/plain": [
       "   Unnamed: 0   name  age\n",
       "0           0  kumar   22\n",
       "1           1  mohan   23\n",
       "2           2  rohan   26\n",
       "3           3  sohan   24"
      ]
     },
     "execution_count": 82,
     "metadata": {},
     "output_type": "execute_result"
    }
   ],
   "source": [
    "df"
   ]
  },
  {
   "cell_type": "code",
   "execution_count": 83,
   "id": "26124010-dec8-472e-af51-2a7964fffc26",
   "metadata": {},
   "outputs": [
    {
     "name": "stdin",
     "output_type": "stream",
     "text": [
      "Enter blood_group A A B O\n"
     ]
    }
   ],
   "source": [
    "Teste= input('Enter blood_group')\n",
    "name1, name2, name3, name4 = map(str, Teste.split(' '))\n",
    "n=(name1, name2, name3, name4)\n",
    "## i am taking blood_group as A A B O"
   ]
  },
  {
   "cell_type": "code",
   "execution_count": 84,
   "id": "8ec17a82-557b-4230-915f-137fd3db0c66",
   "metadata": {},
   "outputs": [
    {
     "data": {
      "text/plain": [
       "('A', 'A', 'B', 'O')"
      ]
     },
     "execution_count": 84,
     "metadata": {},
     "output_type": "execute_result"
    }
   ],
   "source": [
    "n\n"
   ]
  },
  {
   "cell_type": "code",
   "execution_count": 85,
   "id": "90a627b1-5fe7-4021-bf5a-852432c4f832",
   "metadata": {},
   "outputs": [],
   "source": [
    "df['blood_group']=n"
   ]
  },
  {
   "cell_type": "code",
   "execution_count": 86,
   "id": "ffa2f508-3aaf-47e2-bbf2-dac554d91fdb",
   "metadata": {},
   "outputs": [
    {
     "data": {
      "text/html": [
       "<div>\n",
       "<style scoped>\n",
       "    .dataframe tbody tr th:only-of-type {\n",
       "        vertical-align: middle;\n",
       "    }\n",
       "\n",
       "    .dataframe tbody tr th {\n",
       "        vertical-align: top;\n",
       "    }\n",
       "\n",
       "    .dataframe thead th {\n",
       "        text-align: right;\n",
       "    }\n",
       "</style>\n",
       "<table border=\"1\" class=\"dataframe\">\n",
       "  <thead>\n",
       "    <tr style=\"text-align: right;\">\n",
       "      <th></th>\n",
       "      <th>Unnamed: 0</th>\n",
       "      <th>name</th>\n",
       "      <th>age</th>\n",
       "      <th>blood_group</th>\n",
       "    </tr>\n",
       "  </thead>\n",
       "  <tbody>\n",
       "    <tr>\n",
       "      <th>0</th>\n",
       "      <td>0</td>\n",
       "      <td>kumar</td>\n",
       "      <td>22</td>\n",
       "      <td>A</td>\n",
       "    </tr>\n",
       "    <tr>\n",
       "      <th>1</th>\n",
       "      <td>1</td>\n",
       "      <td>mohan</td>\n",
       "      <td>23</td>\n",
       "      <td>A</td>\n",
       "    </tr>\n",
       "    <tr>\n",
       "      <th>2</th>\n",
       "      <td>2</td>\n",
       "      <td>rohan</td>\n",
       "      <td>26</td>\n",
       "      <td>B</td>\n",
       "    </tr>\n",
       "    <tr>\n",
       "      <th>3</th>\n",
       "      <td>3</td>\n",
       "      <td>sohan</td>\n",
       "      <td>24</td>\n",
       "      <td>O</td>\n",
       "    </tr>\n",
       "  </tbody>\n",
       "</table>\n",
       "</div>"
      ],
      "text/plain": [
       "   Unnamed: 0   name  age blood_group\n",
       "0           0  kumar   22           A\n",
       "1           1  mohan   23           A\n",
       "2           2  rohan   26           B\n",
       "3           3  sohan   24           O"
      ]
     },
     "execution_count": 86,
     "metadata": {},
     "output_type": "execute_result"
    }
   ],
   "source": [
    "df"
   ]
  },
  {
   "cell_type": "code",
   "execution_count": 87,
   "id": "24aad713-b759-489e-bfcc-b9a1e4732c1b",
   "metadata": {},
   "outputs": [],
   "source": [
    "for c in df.columns[df.dtypes==object]:\n",
    "    df[c]=df[c].astype(\"category\")"
   ]
  },
  {
   "cell_type": "code",
   "execution_count": 89,
   "id": "8ba4ec5d-5891-4713-8f20-bff11fce9b85",
   "metadata": {},
   "outputs": [
    {
     "data": {
      "text/plain": [
       "0    kumar\n",
       "1    mohan\n",
       "2    rohan\n",
       "3    sohan\n",
       "Name: name, dtype: category\n",
       "Categories (4, object): ['kumar', 'mohan', 'rohan', 'sohan']"
      ]
     },
     "execution_count": 89,
     "metadata": {},
     "output_type": "execute_result"
    }
   ],
   "source": [
    "df[\"name\"]"
   ]
  },
  {
   "cell_type": "code",
   "execution_count": 91,
   "id": "e979112a-3f14-47b7-bd01-d5a1cde483bf",
   "metadata": {},
   "outputs": [
    {
     "name": "stdin",
     "output_type": "stream",
     "text": [
      "Enter column_name blood_group\n"
     ]
    }
   ],
   "source": [
    "col= input('Enter column_name')\n"
   ]
  },
  {
   "cell_type": "code",
   "execution_count": 92,
   "id": "979fc165-7db3-4e3c-b7ae-a78faae35215",
   "metadata": {},
   "outputs": [
    {
     "data": {
      "text/plain": [
       "'blood_group'"
      ]
     },
     "execution_count": 92,
     "metadata": {},
     "output_type": "execute_result"
    }
   ],
   "source": [
    "col"
   ]
  },
  {
   "cell_type": "code",
   "execution_count": 93,
   "id": "084e5d36-7537-4ee8-b9ba-2a0c20b88292",
   "metadata": {},
   "outputs": [
    {
     "data": {
      "text/plain": [
       "0    A\n",
       "1    A\n",
       "2    B\n",
       "3    O\n",
       "Name: blood_group, dtype: category\n",
       "Categories (3, object): ['A', 'B', 'O']"
      ]
     },
     "execution_count": 93,
     "metadata": {},
     "output_type": "execute_result"
    }
   ],
   "source": [
    "df[col]"
   ]
  },
  {
   "cell_type": "code",
   "execution_count": 94,
   "id": "ec2cdc6c-4a8c-4dd6-ae45-05aaed02aa2d",
   "metadata": {},
   "outputs": [
    {
     "data": {
      "text/html": [
       "<div>\n",
       "<style scoped>\n",
       "    .dataframe tbody tr th:only-of-type {\n",
       "        vertical-align: middle;\n",
       "    }\n",
       "\n",
       "    .dataframe tbody tr th {\n",
       "        vertical-align: top;\n",
       "    }\n",
       "\n",
       "    .dataframe thead th {\n",
       "        text-align: right;\n",
       "    }\n",
       "</style>\n",
       "<table border=\"1\" class=\"dataframe\">\n",
       "  <thead>\n",
       "    <tr style=\"text-align: right;\">\n",
       "      <th></th>\n",
       "      <th>A</th>\n",
       "      <th>B</th>\n",
       "      <th>O</th>\n",
       "    </tr>\n",
       "  </thead>\n",
       "  <tbody>\n",
       "    <tr>\n",
       "      <th>0</th>\n",
       "      <td>1</td>\n",
       "      <td>0</td>\n",
       "      <td>0</td>\n",
       "    </tr>\n",
       "    <tr>\n",
       "      <th>1</th>\n",
       "      <td>1</td>\n",
       "      <td>0</td>\n",
       "      <td>0</td>\n",
       "    </tr>\n",
       "    <tr>\n",
       "      <th>2</th>\n",
       "      <td>0</td>\n",
       "      <td>1</td>\n",
       "      <td>0</td>\n",
       "    </tr>\n",
       "    <tr>\n",
       "      <th>3</th>\n",
       "      <td>0</td>\n",
       "      <td>0</td>\n",
       "      <td>1</td>\n",
       "    </tr>\n",
       "  </tbody>\n",
       "</table>\n",
       "</div>"
      ],
      "text/plain": [
       "   A  B  O\n",
       "0  1  0  0\n",
       "1  1  0  0\n",
       "2  0  1  0\n",
       "3  0  0  1"
      ]
     },
     "execution_count": 94,
     "metadata": {},
     "output_type": "execute_result"
    }
   ],
   "source": [
    "pd.get_dummies(df[col],drop_first=False)"
   ]
  },
  {
   "cell_type": "code",
   "execution_count": 95,
   "id": "9803f032-c3fc-40d0-b547-4d9a578fdf07",
   "metadata": {},
   "outputs": [],
   "source": [
    "df1=pd.get_dummies(df[col],drop_first=False)"
   ]
  },
  {
   "cell_type": "code",
   "execution_count": 96,
   "id": "d2a1c8a1-697a-4de9-a425-474aa01ace49",
   "metadata": {},
   "outputs": [
    {
     "data": {
      "text/html": [
       "<div>\n",
       "<style scoped>\n",
       "    .dataframe tbody tr th:only-of-type {\n",
       "        vertical-align: middle;\n",
       "    }\n",
       "\n",
       "    .dataframe tbody tr th {\n",
       "        vertical-align: top;\n",
       "    }\n",
       "\n",
       "    .dataframe thead th {\n",
       "        text-align: right;\n",
       "    }\n",
       "</style>\n",
       "<table border=\"1\" class=\"dataframe\">\n",
       "  <thead>\n",
       "    <tr style=\"text-align: right;\">\n",
       "      <th></th>\n",
       "      <th>A</th>\n",
       "      <th>B</th>\n",
       "      <th>O</th>\n",
       "      <th>Unnamed: 0</th>\n",
       "      <th>name</th>\n",
       "      <th>age</th>\n",
       "      <th>blood_group</th>\n",
       "    </tr>\n",
       "  </thead>\n",
       "  <tbody>\n",
       "    <tr>\n",
       "      <th>0</th>\n",
       "      <td>1</td>\n",
       "      <td>0</td>\n",
       "      <td>0</td>\n",
       "      <td>0</td>\n",
       "      <td>kumar</td>\n",
       "      <td>22</td>\n",
       "      <td>A</td>\n",
       "    </tr>\n",
       "    <tr>\n",
       "      <th>1</th>\n",
       "      <td>1</td>\n",
       "      <td>0</td>\n",
       "      <td>0</td>\n",
       "      <td>1</td>\n",
       "      <td>mohan</td>\n",
       "      <td>23</td>\n",
       "      <td>A</td>\n",
       "    </tr>\n",
       "    <tr>\n",
       "      <th>2</th>\n",
       "      <td>0</td>\n",
       "      <td>1</td>\n",
       "      <td>0</td>\n",
       "      <td>2</td>\n",
       "      <td>rohan</td>\n",
       "      <td>26</td>\n",
       "      <td>B</td>\n",
       "    </tr>\n",
       "    <tr>\n",
       "      <th>3</th>\n",
       "      <td>0</td>\n",
       "      <td>0</td>\n",
       "      <td>1</td>\n",
       "      <td>3</td>\n",
       "      <td>sohan</td>\n",
       "      <td>24</td>\n",
       "      <td>O</td>\n",
       "    </tr>\n",
       "  </tbody>\n",
       "</table>\n",
       "</div>"
      ],
      "text/plain": [
       "   A  B  O  Unnamed: 0   name  age blood_group\n",
       "0  1  0  0           0  kumar   22           A\n",
       "1  1  0  0           1  mohan   23           A\n",
       "2  0  1  0           2  rohan   26           B\n",
       "3  0  0  1           3  sohan   24           O"
      ]
     },
     "execution_count": 96,
     "metadata": {},
     "output_type": "execute_result"
    }
   ],
   "source": [
    "pd.concat([df1,df],axis=1)"
   ]
  },
  {
   "cell_type": "markdown",
   "id": "a43705d2-0e2a-4fd6-8f32-32d8de8f7f44",
   "metadata": {},
   "source": [
    "## Q10. Write a Python program that reads a CSV file containing sales data for different products and visualizes the data using a stacked bar chart to show the sales of each product category over time. The program should prompt the user to enter the file path and display the chart."
   ]
  },
  {
   "cell_type": "code",
   "execution_count": 57,
   "id": "58e79fc1-8aef-48d6-9985-1f8eb1a7bf9c",
   "metadata": {},
   "outputs": [],
   "source": [
    "import pandas as pd\n",
    "time_day = [1,2,3,4,5,6,7,8,9,10]\n",
    "productA= [85,90,80,75,85,82,78,85,90,85]\n",
    "productB= [88,98,70,70,82,85,60,80,95,80]\n",
    "productC= [75,60,60,65,75,62,68,65,70,65]\n",
    "df = pd.DataFrame(data = {'time_day':time_day,'productA':productA, 'productB':productB, 'productC':productC })"
   ]
  },
  {
   "cell_type": "code",
   "execution_count": 58,
   "id": "211d518d-0489-489e-b160-704cfbc04858",
   "metadata": {},
   "outputs": [
    {
     "data": {
      "text/html": [
       "<div>\n",
       "<style scoped>\n",
       "    .dataframe tbody tr th:only-of-type {\n",
       "        vertical-align: middle;\n",
       "    }\n",
       "\n",
       "    .dataframe tbody tr th {\n",
       "        vertical-align: top;\n",
       "    }\n",
       "\n",
       "    .dataframe thead th {\n",
       "        text-align: right;\n",
       "    }\n",
       "</style>\n",
       "<table border=\"1\" class=\"dataframe\">\n",
       "  <thead>\n",
       "    <tr style=\"text-align: right;\">\n",
       "      <th></th>\n",
       "      <th>time_day</th>\n",
       "      <th>productA</th>\n",
       "      <th>productB</th>\n",
       "      <th>productC</th>\n",
       "    </tr>\n",
       "  </thead>\n",
       "  <tbody>\n",
       "    <tr>\n",
       "      <th>0</th>\n",
       "      <td>1</td>\n",
       "      <td>85</td>\n",
       "      <td>88</td>\n",
       "      <td>75</td>\n",
       "    </tr>\n",
       "    <tr>\n",
       "      <th>1</th>\n",
       "      <td>2</td>\n",
       "      <td>90</td>\n",
       "      <td>98</td>\n",
       "      <td>60</td>\n",
       "    </tr>\n",
       "    <tr>\n",
       "      <th>2</th>\n",
       "      <td>3</td>\n",
       "      <td>80</td>\n",
       "      <td>70</td>\n",
       "      <td>60</td>\n",
       "    </tr>\n",
       "    <tr>\n",
       "      <th>3</th>\n",
       "      <td>4</td>\n",
       "      <td>75</td>\n",
       "      <td>70</td>\n",
       "      <td>65</td>\n",
       "    </tr>\n",
       "    <tr>\n",
       "      <th>4</th>\n",
       "      <td>5</td>\n",
       "      <td>85</td>\n",
       "      <td>82</td>\n",
       "      <td>75</td>\n",
       "    </tr>\n",
       "    <tr>\n",
       "      <th>5</th>\n",
       "      <td>6</td>\n",
       "      <td>82</td>\n",
       "      <td>85</td>\n",
       "      <td>62</td>\n",
       "    </tr>\n",
       "    <tr>\n",
       "      <th>6</th>\n",
       "      <td>7</td>\n",
       "      <td>78</td>\n",
       "      <td>60</td>\n",
       "      <td>68</td>\n",
       "    </tr>\n",
       "    <tr>\n",
       "      <th>7</th>\n",
       "      <td>8</td>\n",
       "      <td>85</td>\n",
       "      <td>80</td>\n",
       "      <td>65</td>\n",
       "    </tr>\n",
       "    <tr>\n",
       "      <th>8</th>\n",
       "      <td>9</td>\n",
       "      <td>90</td>\n",
       "      <td>95</td>\n",
       "      <td>70</td>\n",
       "    </tr>\n",
       "    <tr>\n",
       "      <th>9</th>\n",
       "      <td>10</td>\n",
       "      <td>85</td>\n",
       "      <td>80</td>\n",
       "      <td>65</td>\n",
       "    </tr>\n",
       "  </tbody>\n",
       "</table>\n",
       "</div>"
      ],
      "text/plain": [
       "   time_day  productA  productB  productC\n",
       "0         1        85        88        75\n",
       "1         2        90        98        60\n",
       "2         3        80        70        60\n",
       "3         4        75        70        65\n",
       "4         5        85        82        75\n",
       "5         6        82        85        62\n",
       "6         7        78        60        68\n",
       "7         8        85        80        65\n",
       "8         9        90        95        70\n",
       "9        10        85        80        65"
      ]
     },
     "execution_count": 58,
     "metadata": {},
     "output_type": "execute_result"
    }
   ],
   "source": [
    "df"
   ]
  },
  {
   "cell_type": "code",
   "execution_count": 59,
   "id": "5a894a77-5811-4b92-894b-8eb23ed77416",
   "metadata": {},
   "outputs": [],
   "source": [
    "df.to_csv(\"products_sales.csv\")"
   ]
  },
  {
   "cell_type": "code",
   "execution_count": 60,
   "id": "007577e7-3fb9-42c0-908c-afdc864f9b92",
   "metadata": {},
   "outputs": [
    {
     "name": "stdin",
     "output_type": "stream",
     "text": [
      "Enter filepath name:  products_sales.csv\n"
     ]
    },
    {
     "name": "stdout",
     "output_type": "stream",
     "text": [
      "   Unnamed: 0  time_day  productA  productB  productC\n",
      "0           0         1        85        88        75\n",
      "1           1         2        90        98        60\n",
      "2           2         3        80        70        60\n",
      "3           3         4        75        70        65\n",
      "4           4         5        85        82        75\n",
      "5           5         6        82        85        62\n",
      "6           6         7        78        60        68\n",
      "7           7         8        85        80        65\n",
      "8           8         9        90        95        70\n",
      "9           9        10        85        80        65\n"
     ]
    }
   ],
   "source": [
    "import csv\n",
    "import pandas as pd\n",
    "filepath0=input(\"Enter filepath name: \")\n",
    "df=pd.read_csv(filepath0)\n",
    "print(df)"
   ]
  },
  {
   "cell_type": "code",
   "execution_count": 63,
   "id": "e32c3006-3aaf-415a-9178-f4491220584e",
   "metadata": {},
   "outputs": [
    {
     "data": {
      "image/png": "[encoded data removed]",
      "text/plain": [
       "<Figure size 640x480 with 1 Axes>"
      ]
     },
     "metadata": {},
     "output_type": "display_data"
    }
   ],
   "source": [
    "# Set the width of the bars\n",
    "import matplotlib.pyplot as plt\n",
    "import numpy as np\n",
    "barWidth = 0.25\n",
    "\n",
    "# Set the position of the bars on the x-axis\n",
    "r1 = np.arange(len(df['time_day']))\n",
    "r2 = [x + barWidth for x in r1]\n",
    "r3 = [x + barWidth for x in r2]\n",
    "\n",
    "# Create the bar plots\n",
    "plt.bar(r1, df['productA'], color='#7f6d5f', width=barWidth, edgecolor='white', label='Product A')\n",
    "plt.bar(r2, df['productB'], color='#557f2d', width=barWidth, edgecolor='white', label='Product B')\n",
    "plt.bar(r3, df['productC'], color='#2d7f5e', width=barWidth, edgecolor='white', label='Product C')\n",
    "\n",
    "# Add x-axis and y-axis labels and a title\n",
    "plt.xlabel('time_day')\n",
    "plt.ylabel('products')\n",
    "plt.title('Sales of Products A, B, and C')\n",
    "\n",
    "# Add legend\n",
    "plt.legend()\n",
    "\n",
    "# Show the chart\n",
    "plt.show()"
   ]
  },
  {
   "cell_type": "markdown",
   "id": "a010f4df-e002-4904-b849-df79c3794b92",
   "metadata": {},
   "source": [
    "## Q11. You are given a CSV file containing student data that includes the student ID and their test score. Write a Python program that reads the CSV file, calculates the mean, median, and mode of the test scores, and displays the results in a table."
   ]
  },
  {
   "cell_type": "code",
   "execution_count": 4,
   "id": "dc1f496a-7da1-4e8d-a3e4-40ad283ad646",
   "metadata": {},
   "outputs": [],
   "source": [
    "import pandas as pd\n",
    "Student_ID = [1,2,3,4,5,6,7,8,9,10]\n",
    "Test_Score= [85,90,80,75,85,82,78,85,90,85]\n",
    "df = pd.DataFrame(data = {'Student_ID':Student_ID, 'Test_Score':Test_Score})"
   ]
  },
  {
   "cell_type": "code",
   "execution_count": 5,
   "id": "5583241d-c8aa-4b80-83c2-f98b9979577b",
   "metadata": {},
   "outputs": [
    {
     "data": {
      "text/html": [
       "<div>\n",
       "<style scoped>\n",
       "    .dataframe tbody tr th:only-of-type {\n",
       "        vertical-align: middle;\n",
       "    }\n",
       "\n",
       "    .dataframe tbody tr th {\n",
       "        vertical-align: top;\n",
       "    }\n",
       "\n",
       "    .dataframe thead th {\n",
       "        text-align: right;\n",
       "    }\n",
       "</style>\n",
       "<table border=\"1\" class=\"dataframe\">\n",
       "  <thead>\n",
       "    <tr style=\"text-align: right;\">\n",
       "      <th></th>\n",
       "      <th>Student_ID</th>\n",
       "      <th>Test_Score</th>\n",
       "    </tr>\n",
       "  </thead>\n",
       "  <tbody>\n",
       "    <tr>\n",
       "      <th>0</th>\n",
       "      <td>1</td>\n",
       "      <td>85</td>\n",
       "    </tr>\n",
       "    <tr>\n",
       "      <th>1</th>\n",
       "      <td>2</td>\n",
       "      <td>90</td>\n",
       "    </tr>\n",
       "    <tr>\n",
       "      <th>2</th>\n",
       "      <td>3</td>\n",
       "      <td>80</td>\n",
       "    </tr>\n",
       "    <tr>\n",
       "      <th>3</th>\n",
       "      <td>4</td>\n",
       "      <td>75</td>\n",
       "    </tr>\n",
       "    <tr>\n",
       "      <th>4</th>\n",
       "      <td>5</td>\n",
       "      <td>85</td>\n",
       "    </tr>\n",
       "    <tr>\n",
       "      <th>5</th>\n",
       "      <td>6</td>\n",
       "      <td>82</td>\n",
       "    </tr>\n",
       "    <tr>\n",
       "      <th>6</th>\n",
       "      <td>7</td>\n",
       "      <td>78</td>\n",
       "    </tr>\n",
       "    <tr>\n",
       "      <th>7</th>\n",
       "      <td>8</td>\n",
       "      <td>85</td>\n",
       "    </tr>\n",
       "    <tr>\n",
       "      <th>8</th>\n",
       "      <td>9</td>\n",
       "      <td>90</td>\n",
       "    </tr>\n",
       "    <tr>\n",
       "      <th>9</th>\n",
       "      <td>10</td>\n",
       "      <td>85</td>\n",
       "    </tr>\n",
       "  </tbody>\n",
       "</table>\n",
       "</div>"
      ],
      "text/plain": [
       "   Student_ID  Test_Score\n",
       "0           1          85\n",
       "1           2          90\n",
       "2           3          80\n",
       "3           4          75\n",
       "4           5          85\n",
       "5           6          82\n",
       "6           7          78\n",
       "7           8          85\n",
       "8           9          90\n",
       "9          10          85"
      ]
     },
     "execution_count": 5,
     "metadata": {},
     "output_type": "execute_result"
    }
   ],
   "source": [
    "df"
   ]
  },
  {
   "cell_type": "code",
   "execution_count": 9,
   "id": "7a30a7f9-1a8f-491c-bdcb-b1aa1c60f2bf",
   "metadata": {},
   "outputs": [],
   "source": [
    "df.to_csv(\"student_data.csv\")"
   ]
  },
  {
   "cell_type": "code",
   "execution_count": 40,
   "id": "672f38a6-cf09-4c7c-9668-7aa7170bed5a",
   "metadata": {},
   "outputs": [
    {
     "name": "stdin",
     "output_type": "stream",
     "text": [
      "Enter filepath name:  student_data.csv\n"
     ]
    },
    {
     "name": "stdout",
     "output_type": "stream",
     "text": [
      "   Unnamed: 0  Student_ID  Test_Score\n",
      "0           0           1          85\n",
      "1           1           2          90\n",
      "2           2           3          80\n",
      "3           3           4          75\n",
      "4           4           5          85\n",
      "5           5           6          82\n",
      "6           6           7          78\n",
      "7           7           8          85\n",
      "8           8           9          90\n",
      "9           9          10          85\n"
     ]
    }
   ],
   "source": [
    "import csv\n",
    "import pandas as pd\n",
    "filepath1=input(\"Enter filepath name: \")\n",
    "df=pd.read_csv(filepath1)\n",
    "print(df)"
   ]
  },
  {
   "cell_type": "code",
   "execution_count": 17,
   "id": "0236958d-0995-43fc-a26b-cce87b15c6f6",
   "metadata": {},
   "outputs": [],
   "source": [
    "n1=df[\"Test_Score\"].mean()"
   ]
  },
  {
   "cell_type": "code",
   "execution_count": 18,
   "id": "37f04472-3ca0-477e-bb9f-5ee4d8327964",
   "metadata": {},
   "outputs": [
    {
     "data": {
      "text/plain": [
       "83.5"
      ]
     },
     "execution_count": 18,
     "metadata": {},
     "output_type": "execute_result"
    }
   ],
   "source": [
    "n1"
   ]
  },
  {
   "cell_type": "code",
   "execution_count": 19,
   "id": "8e86685f-bdf8-4c53-95e1-3a52efbc9bcc",
   "metadata": {},
   "outputs": [],
   "source": [
    "n2=df[\"Test_Score\"].median()"
   ]
  },
  {
   "cell_type": "code",
   "execution_count": 20,
   "id": "4a9d1e68-6165-46b4-bd9c-80e35840e8a9",
   "metadata": {},
   "outputs": [
    {
     "data": {
      "text/plain": [
       "85.0"
      ]
     },
     "execution_count": 20,
     "metadata": {},
     "output_type": "execute_result"
    }
   ],
   "source": [
    "n2"
   ]
  },
  {
   "cell_type": "code",
   "execution_count": 21,
   "id": "9db3b59c-989f-418b-a562-0d38d04a4200",
   "metadata": {},
   "outputs": [],
   "source": [
    "n3=df[\"Test_Score\"].mode()"
   ]
  },
  {
   "cell_type": "code",
   "execution_count": 22,
   "id": "993f3dc1-a58c-4e1e-9b5e-637c7b3f37cd",
   "metadata": {},
   "outputs": [
    {
     "data": {
      "text/plain": [
       "0    85\n",
       "Name: Test_Score, dtype: int64"
      ]
     },
     "execution_count": 22,
     "metadata": {},
     "output_type": "execute_result"
    }
   ],
   "source": [
    "n3"
   ]
  },
  {
   "cell_type": "code",
   "execution_count": 28,
   "id": "eacd10cf-4658-43f9-bb49-0e91e0f07686",
   "metadata": {},
   "outputs": [],
   "source": [
    "df[\"mean\"]=n3"
   ]
  },
  {
   "cell_type": "code",
   "execution_count": 29,
   "id": "1707f374-d211-44f4-b370-e0f1971f965a",
   "metadata": {},
   "outputs": [],
   "source": [
    "df[\"median\"]=n2"
   ]
  },
  {
   "cell_type": "code",
   "execution_count": 30,
   "id": "fa867d2b-6737-4891-ad8d-c86270246d5b",
   "metadata": {},
   "outputs": [],
   "source": [
    "df[\"mode\"]=n3"
   ]
  },
  {
   "cell_type": "code",
   "execution_count": 31,
   "id": "d75c4a37-50a3-4f25-b2d3-9c8327098103",
   "metadata": {},
   "outputs": [
    {
     "data": {
      "text/html": [
       "<div>\n",
       "<style scoped>\n",
       "    .dataframe tbody tr th:only-of-type {\n",
       "        vertical-align: middle;\n",
       "    }\n",
       "\n",
       "    .dataframe tbody tr th {\n",
       "        vertical-align: top;\n",
       "    }\n",
       "\n",
       "    .dataframe thead th {\n",
       "        text-align: right;\n",
       "    }\n",
       "</style>\n",
       "<table border=\"1\" class=\"dataframe\">\n",
       "  <thead>\n",
       "    <tr style=\"text-align: right;\">\n",
       "      <th></th>\n",
       "      <th>Unnamed: 0</th>\n",
       "      <th>Student_ID</th>\n",
       "      <th>Test_Score</th>\n",
       "      <th>mean</th>\n",
       "      <th>median</th>\n",
       "      <th>mode</th>\n",
       "    </tr>\n",
       "  </thead>\n",
       "  <tbody>\n",
       "    <tr>\n",
       "      <th>0</th>\n",
       "      <td>0</td>\n",
       "      <td>1</td>\n",
       "      <td>85</td>\n",
       "      <td>85.0</td>\n",
       "      <td>85.0</td>\n",
       "      <td>85.0</td>\n",
       "    </tr>\n",
       "    <tr>\n",
       "      <th>1</th>\n",
       "      <td>1</td>\n",
       "      <td>2</td>\n",
       "      <td>90</td>\n",
       "      <td>NaN</td>\n",
       "      <td>85.0</td>\n",
       "      <td>NaN</td>\n",
       "    </tr>\n",
       "    <tr>\n",
       "      <th>2</th>\n",
       "      <td>2</td>\n",
       "      <td>3</td>\n",
       "      <td>80</td>\n",
       "      <td>NaN</td>\n",
       "      <td>85.0</td>\n",
       "      <td>NaN</td>\n",
       "    </tr>\n",
       "    <tr>\n",
       "      <th>3</th>\n",
       "      <td>3</td>\n",
       "      <td>4</td>\n",
       "      <td>75</td>\n",
       "      <td>NaN</td>\n",
       "      <td>85.0</td>\n",
       "      <td>NaN</td>\n",
       "    </tr>\n",
       "    <tr>\n",
       "      <th>4</th>\n",
       "      <td>4</td>\n",
       "      <td>5</td>\n",
       "      <td>85</td>\n",
       "      <td>NaN</td>\n",
       "      <td>85.0</td>\n",
       "      <td>NaN</td>\n",
       "    </tr>\n",
       "    <tr>\n",
       "      <th>5</th>\n",
       "      <td>5</td>\n",
       "      <td>6</td>\n",
       "      <td>82</td>\n",
       "      <td>NaN</td>\n",
       "      <td>85.0</td>\n",
       "      <td>NaN</td>\n",
       "    </tr>\n",
       "    <tr>\n",
       "      <th>6</th>\n",
       "      <td>6</td>\n",
       "      <td>7</td>\n",
       "      <td>78</td>\n",
       "      <td>NaN</td>\n",
       "      <td>85.0</td>\n",
       "      <td>NaN</td>\n",
       "    </tr>\n",
       "    <tr>\n",
       "      <th>7</th>\n",
       "      <td>7</td>\n",
       "      <td>8</td>\n",
       "      <td>85</td>\n",
       "      <td>NaN</td>\n",
       "      <td>85.0</td>\n",
       "      <td>NaN</td>\n",
       "    </tr>\n",
       "    <tr>\n",
       "      <th>8</th>\n",
       "      <td>8</td>\n",
       "      <td>9</td>\n",
       "      <td>90</td>\n",
       "      <td>NaN</td>\n",
       "      <td>85.0</td>\n",
       "      <td>NaN</td>\n",
       "    </tr>\n",
       "    <tr>\n",
       "      <th>9</th>\n",
       "      <td>9</td>\n",
       "      <td>10</td>\n",
       "      <td>85</td>\n",
       "      <td>NaN</td>\n",
       "      <td>85.0</td>\n",
       "      <td>NaN</td>\n",
       "    </tr>\n",
       "  </tbody>\n",
       "</table>\n",
       "</div>"
      ],
      "text/plain": [
       "   Unnamed: 0  Student_ID  Test_Score  mean  median  mode\n",
       "0           0           1          85  85.0    85.0  85.0\n",
       "1           1           2          90   NaN    85.0   NaN\n",
       "2           2           3          80   NaN    85.0   NaN\n",
       "3           3           4          75   NaN    85.0   NaN\n",
       "4           4           5          85   NaN    85.0   NaN\n",
       "5           5           6          82   NaN    85.0   NaN\n",
       "6           6           7          78   NaN    85.0   NaN\n",
       "7           7           8          85   NaN    85.0   NaN\n",
       "8           8           9          90   NaN    85.0   NaN\n",
       "9           9          10          85   NaN    85.0   NaN"
      ]
     },
     "execution_count": 31,
     "metadata": {},
     "output_type": "execute_result"
    }
   ],
   "source": [
    "df"
   ]
  },
  {
   "cell_type": "code",
   "execution_count": null,
   "id": "9cfda016-018c-46d3-a9a9-6b1b7ff168bc",
   "metadata": {},
   "outputs": [],
   "source": []
  }
 ],
 "metadata": {
  "kernelspec": {
   "display_name": "Python 3 (ipykernel)",
   "language": "python",
   "name": "python3"
  },
  "language_info": {
   "codemirror_mode": {
    "name": "ipython",
    "version": 3
   },
   "file_extension": ".py",
   "mimetype": "text/x-python",
   "name": "python",
   "nbconvert_exporter": "python",
   "pygments_lexer": "ipython3",
   "version": "3.10.8"
  }
 },
 "nbformat": 4,
 "nbformat_minor": 5
}
