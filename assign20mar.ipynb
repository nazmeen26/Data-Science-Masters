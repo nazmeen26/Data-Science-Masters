{
 "cells": [
  {
   "cell_type": "markdown",
   "id": "c7e9d32e-2bab-4db2-a374-e3e30b15036c",
   "metadata": {},
   "source": [
    "## Q1. What is data encoding? How is it useful in data science?\n"
   ]
  },
  {
   "cell_type": "markdown",
   "id": "367fe16a-2c47-412c-94e8-eaa1f8bd4390",
   "metadata": {},
   "source": [
    "## Data encoding is the process of transforming data from one form to another, typically to a numerical format that can be easily processed by a computer. Encoding is useful in data science because many machine learning algorithms require numerical data as input. By encoding categorical variables, such as gender or product categories, into numerical values, data scientists can include them in their models and extract meaningful insights from the data.\n",
    "\n"
   ]
  },
  {
   "cell_type": "markdown",
   "id": "daff1f8b-e4d0-48ce-9267-f8896f2d80a6",
   "metadata": {},
   "source": [
    "\n",
    "## Q2. What is nominal encoding? Provide an example of how you would use it in a real-world scenario.\n",
    "\n"
   ]
  },
  {
   "cell_type": "markdown",
   "id": "9204d1cb-9870-4618-bfa5-859154597324",
   "metadata": {},
   "source": [
    "\n",
    "## Nominal encoding is a technique used to convert categorical variables into numerical values, where each unique category is assigned a unique integer value. For example, in a customer database, the variable \"product category\" could be nominal encoded with the categories \"electronics,\" \"clothing,\" and \"home goods\" assigned the values 1, 2, and 3 respectively.\n"
   ]
  },
  {
   "cell_type": "markdown",
   "id": "8fc421db-a439-433f-ba12-aa87687e60ac",
   "metadata": {},
   "source": [
    "## Q3. In what situations is nominal encoding preferred over one-hot encoding? Provide a practical example.\n"
   ]
  },
  {
   "cell_type": "markdown",
   "id": "e31bc44d-44a7-43a3-ada5-a3895bd84a72",
   "metadata": {},
   "source": [
    "\n",
    "## Nominal encoding is preferred over one-hot encoding when there are many unique categories, as one-hot encoding can result in a large number of features, which can be computationally expensive and increase the risk of overfitting. For example, in a dataset with a variable \"city,\" where there are hundreds of unique cities, nominal encoding may be preferred over one-hot encoding."
   ]
  },
  {
   "cell_type": "markdown",
   "id": "5d7719fa-77f2-48be-8cc8-a91c9bef0a7d",
   "metadata": {},
   "source": [
    "\n",
    "## Q4. Suppose you have a dataset containing categorical data with 5 unique values. Which encoding technique would you use to transform this data into a format suitable for machine learning algorithms? Explain why you made this choice.\n"
   ]
  },
  {
   "cell_type": "markdown",
   "id": "b610ac07-7f2d-423f-ba32-2afbb89afd3f",
   "metadata": {},
   "source": [
    "\n",
    "## If the dataset contains five unique values, a common encoding technique is to use nominal encoding, where each unique value is assigned a unique integer value. This is a simple and efficient method for encoding categorical data, and is suitable when there are only a few unique values.\n"
   ]
  },
  {
   "cell_type": "markdown",
   "id": "9798e063-cb2f-4cf5-859a-658cdaf43cc7",
   "metadata": {},
   "source": [
    "## Q5. In a machine learning project, you have a dataset with 1000 rows and 5 columns. Two of the columns are categorical, and the remaining three columns are numerical. If you were to use nominal encoding to transform the categorical data, how many new columns would be created? Show your calculations."
   ]
  },
  {
   "cell_type": "markdown",
   "id": "fbf83535-1786-45bc-adc4-95fb3dc43797",
   "metadata": {},
   "source": [
    "\n",
    "## If nominal encoding is used to transform the two categorical columns, each column will be replaced with a single numerical column. Therefore, the number of new columns created would be 2, resulting in a total of 5 columns in the transformed dataset."
   ]
  },
  {
   "cell_type": "markdown",
   "id": "d7f82d5f-0511-49eb-8306-067d18367702",
   "metadata": {},
   "source": [
    "\n",
    "## Q6. You are working with a dataset containing information about different types of animals, including their species, habitat, and diet. Which encoding technique would you use to transform the categorical data into a format suitable for machine learning algorithms? Justify your answer.\n",
    "\n"
   ]
  },
  {
   "cell_type": "markdown",
   "id": "426e2a0b-f54a-4e67-b5b7-f194428c271f",
   "metadata": {},
   "source": [
    "\n",
    "## One-hot encoding would be a suitable technique for encoding the categorical data in the animal dataset. This is because the variables \"species,\" \"habitat,\" and \"diet\" are not ordinal, and each variable has a small number of unique categories. One-hot encoding creates a binary variable for each category, making it a suitable choice for encoding categorical data with a small number of categories.\n"
   ]
  },
  {
   "cell_type": "markdown",
   "id": "4f082f46-67ab-4b19-b050-5af42d1a95af",
   "metadata": {},
   "source": [
    "## Q7. You are working on a project that involves predicting customer churn for a telecommunications company. You have a dataset with 5 features, including the customer's gender, age, contract type, monthly charges, and tenure. Which encoding technique(s) would you use to transform the categorical data into numerical data? Provide a step-by-step explanation of how you would implement the encoding."
   ]
  },
  {
   "cell_type": "markdown",
   "id": "3cdc46ff-27e1-46b3-bfac-78df9d8c42c7",
   "metadata": {},
   "source": [
    "\n",
    "## To encode the categorical variables in the dataset, I would use a combination of nominal encoding and one-hot encoding. Here's how I would implement the encoding:\n",
    "\n",
    "## Gender: Since gender is binary, I would use nominal encoding to assign the value 0 to male customers and the value 1 to female customers.\n",
    "## To encode the categorical variables in the dataset, I would use a combination of nominal encoding and one-hot encoding. Here's how I would implement the encoding:\n",
    "\n",
    "## Gender: Since gender is binary, I would use nominal encoding to assign the value 0 to male customers and the value 1 to female customers.\n",
    "\n",
    "## Contract type: I would use one-hot encoding to create a binary variable for each contract type, where 1 represents the presence of the contract type and 0 represents the absence. For example, if there are three types of contracts (A, B, and C), then the contract type variable would be split into three new variables: \"Contract A,\" \"Contract B,\" and \"Contract C.\"\n",
    "\n",
    "## Monthly charges: Since this variable is numerical, no encoding is necessary.\n",
    "\n",
    "## Tenure: Since this variable is numerical, no encoding is necessary.\n",
    "\n",
    "## Age: Depending on the specific problem and the distribution of the age variable, I could either leave it as a numerical variable or divide it into groups and use nominal encoding. For example, I could divide the age variable into groups such as \"18-30,\" \"31-45,\" \"46-60,\" and \"Over 60\" and assign a unique integer value to each group using nominal encoding.\n"
   ]
  },
  {
   "cell_type": "code",
   "execution_count": null,
   "id": "97bd062d-1d3e-4cf2-8f6d-949db0b81703",
   "metadata": {},
   "outputs": [],
   "source": []
  }
 ],
 "metadata": {
  "kernelspec": {
   "display_name": "Python 3 (ipykernel)",
   "language": "python",
   "name": "python3"
  },
  "language_info": {
   "codemirror_mode": {
    "name": "ipython",
    "version": 3
   },
   "file_extension": ".py",
   "mimetype": "text/x-python",
   "name": "python",
   "nbconvert_exporter": "python",
   "pygments_lexer": "ipython3",
   "version": "3.10.8"
  }
 },
 "nbformat": 4,
 "nbformat_minor": 5
}
