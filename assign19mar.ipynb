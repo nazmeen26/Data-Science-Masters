{
 "cells": [
  {
   "cell_type": "markdown",
   "id": "b53d08dc-cbdf-4c85-8cd9-8cb3daa60021",
   "metadata": {},
   "source": [
    "## Q1. What is Min-Max scaling, and how is it used in data preprocessing? Provide an example to illustrate its application.\n"
   ]
  },
  {
   "cell_type": "markdown",
   "id": "ec44a335-bdc5-4c6b-a205-1fb2adde34d4",
   "metadata": {},
   "source": [
    "##  Min-Max scaling is a data preprocessing technique used to scale numerical data to a specific range, usually between 0 and 1. It works by subtracting the minimum value of the data and then dividing by the range of the data. This technique is useful for data normalization and can help improve the performance of machine learning algorithms.\n",
    "\n",
    "## For example, suppose you have a dataset of student scores on an exam ranging from 60 to 100. You can use Min-Max scaling to scale the scores to a range of 0 to 1 by subtracting 60 from each score and then dividing by 40 (the range of the data). So a score of 70 would be scaled to (70-60)/40 = 0.25."
   ]
  },
  {
   "cell_type": "markdown",
   "id": "0c757011-79a4-4730-b402-3e6ad386237a",
   "metadata": {},
   "source": [
    "## Q2. What is the Unit Vector technique in feature scaling, and how does it differ from Min-Max scaling? Provide an example to illustrate its application.\n"
   ]
  },
  {
   "cell_type": "markdown",
   "id": "e16b5fc4-86d7-48e9-a99f-4035e8371e73",
   "metadata": {},
   "source": [
    "## The Unit Vector technique in feature scaling is a method of scaling data that scales the data so that each data point lies on a unit vector. This technique scales the data by dividing each data point by the Euclidean length of the vector. The resulting data points lie on the surface of a unit sphere.\n",
    "\n",
    "## Compared to Min-Max scaling, the Unit Vector technique does not preserve the original range of the data. Instead, it scales the data based on their direction. This technique is useful for algorithms that require the data to have equal weights or magnitudes.\n",
    "\n",
    "## For example, suppose you have a dataset of customer reviews for a product, where each review is represented as a vector of words. You can use the Unit Vector technique to scale each review vector so that they have equal weights and lie on the surface of a unit sphere."
   ]
  },
  {
   "cell_type": "markdown",
   "id": "2c405330-c38e-42f9-97ad-2a6e4db0bd08",
   "metadata": {},
   "source": [
    "## Q3. What is PCA (Principle Component Analysis), and how is it used in dimensionality reduction? Provide an example to illustrate its application.\n"
   ]
  },
  {
   "cell_type": "markdown",
   "id": "d84d8533-8f71-4f41-b5ba-e39ad6361f71",
   "metadata": {},
   "source": [
    "## PCA (Principle Component Analysis) is a technique used in machine learning to reduce the dimensionality of a dataset by identifying the most important features or components. It works by transforming the original features into a new set of linearly uncorrelated features called principal components. Each principal component captures a different source of variation in the data, and the components are ordered by the amount of variance they explain.\n",
    "\n",
    "## PCA is commonly used in dimensionality reduction to reduce the number of features in a dataset, making it easier to analyze and visualize. It can also help improve the performance of machine learning algorithms by reducing overfitting and simplifying the model.\n",
    "\n",
    "## For example, suppose you have a dataset of customer purchase data, where each data point represents a customer's purchase history. You can use PCA to reduce the dimensionality of the data by identifying the most important features, such as the total amount spent, the number of purchases, and the types of items purchased."
   ]
  },
  {
   "cell_type": "markdown",
   "id": "aff2cbdf-8b36-47a9-adb3-1c89b2ea9766",
   "metadata": {},
   "source": [
    "## Q4. What is the relationship between PCA and Feature Extraction, and how can PCA be used for Feature Extraction? Provide an example to illustrate this concept.\n"
   ]
  },
  {
   "cell_type": "markdown",
   "id": "1cae1c36-c58d-482e-9c4e-2c5e7478093f",
   "metadata": {},
   "source": [
    "## PCA can be used for feature extraction, which involves transforming the original features of a dataset into a smaller set of features that capture the most important information. Feature extraction is often used in machine learning to reduce the dimensionality of a dataset and improve the performance of the model.\n",
    "\n",
    "## PCA works by identifying the most important features or components in a dataset and then transforming the original features into a new set of linearly uncorrelated features called principal components. These principal components can be used as the new features for the dataset.\n",
    "\n",
    "## For example, suppose you have a dataset of images, where each image is represented as a matrix of pixel values. You can use PCA to extract the most important features or components from the images, such as the edges, textures, and shapes. These principal components can be used as the new features for the dataset, which can then be used to train a machine learning model."
   ]
  },
  {
   "cell_type": "markdown",
   "id": "28a05191-f4b4-46f0-9a08-6eaabddee498",
   "metadata": {},
   "source": [
    "## Q5. You are working on a project to build a recommendation system for a food delivery service. The dataset contains features such as price, rating, and delivery time. Explain how you would use Min-Max scaling to preprocess the data.\n"
   ]
  },
  {
   "cell_type": "markdown",
   "id": "9b7f60b1-88e0-4837-8265-da288bce908b",
   "metadata": {},
   "source": [
    " To use Min-Max scaling to preprocess the data in a food delivery service recommendation system, the following steps can be taken:\n",
    "\n",
    " Identify the features that need to be scaled. In this case, the features are price, rating, and delivery time.\n",
    "\n",
    " Determine the minimum and maximum values for each feature in the dataset. For example, the minimum price might be $5,\n",
    " and the maximum price might be $50.\n",
    "\n",
    "Use the Min-Max scaling formula to scale each feature value to a range of 0 to 1. The formula is:\n",
    "\n",
    "Scaled value = (Original value - Minimum value) / (Maximum value - Minimum value)\n",
    "\n",
    "For example, if the original price is $10, the minimum price is $5, and the maximum price is $50, the scaled value would be:\n",
    "\n",
    "Scaled price = ($10 - $5) / ($50 - $5) = 0.167\n",
    "\n",
    "Repeat step 3 for each feature in the dataset.\n",
    "\n",
    "The resulting dataset will have all features scaled to a range of 0 to 1, which can be used as input to a machine learning algorithm for building the recommendation system."
   ]
  },
  {
   "cell_type": "markdown",
   "id": "3b85db20-c044-4fbd-8005-32a49280490f",
   "metadata": {},
   "source": [
    "## Q6. You are working on a project to build a model to predict stock prices. The dataset contains many features, such as company financial data and market trends. Explain how you would use PCA to reduce the dimensionality of the dataset.\n"
   ]
  },
  {
   "cell_type": "markdown",
   "id": "0b0e1eed-185b-4906-a868-18bbe54b5a3c",
   "metadata": {},
   "source": [
    "## To use PCA to reduce the dimensionality of the dataset in a stock price prediction model, the following steps can be taken:\n",
    "\n",
    "## First, preprocess the dataset to remove any missing values, outliers, or other data quality issues.\n",
    "\n",
    "## Identify the features that need to be reduced. In this case, the features are the company financial data and market trends.\n",
    "\n",
    "## Calculate the covariance matrix for the features in the dataset.\n",
    "\n",
    "## Use the covariance matrix to calculate the principal components of the dataset.\n",
    "\n",
    "## Determine the number of principal components to keep. This can be done by looking at the explained variance of each component and selecting the top components that account for a large percentage of the total variance in the dataset. This can be done using a scree plot or by inspecting the cumulative explained variance.\n",
    "\n",
    "## Project the original dataset onto the reduced set of principal components to create a new dataset with reduced dimensionality.\n",
    "\n",
    "## The resulting reduced dataset can be used as input to a machine learning algorithm for predicting stock prices.\n",
    "\n",
    "## By reducing the dimensionality of the dataset using PCA, the model can be more efficient and accurate because it focuses on the most important features that explain the variability in the data."
   ]
  },
  {
   "cell_type": "markdown",
   "id": "2dce6326-5570-41c1-bcb8-fa1b358dc7dc",
   "metadata": {},
   "source": [
    "## Q7. For a dataset containing the following values: [1, 5, 10, 15, 20], perform Min-Max scaling to transform the values to a range of -1 to 1.\n"
   ]
  },
  {
   "cell_type": "code",
   "execution_count": 3,
   "id": "867fc2a0-91ae-4faf-8d6b-e13a596d3b10",
   "metadata": {},
   "outputs": [
    {
     "name": "stdout",
     "output_type": "stream",
     "text": [
      "[-1.         -0.57894737 -0.05263158  0.47368421  1.        ]\n"
     ]
    }
   ],
   "source": [
    "import numpy as np\n",
    "x = np.array([1, 5, 10, 15, 20])\n",
    "# goal : range [-1, 1]\n",
    "x1 =(2*(x - min(x)) / ( max(x) - min(x) ))-1\n",
    "print(x1)"
   ]
  },
  {
   "cell_type": "markdown",
   "id": "d593d40b-510d-4c82-a73b-0f749c7e4234",
   "metadata": {},
   "source": [
    "## Q8. For a dataset containing the following features: [height, weight, age, gender, blood pressure], perform Feature Extraction using PCA. How many principal components would you choose to retain, and why?"
   ]
  },
  {
   "cell_type": "markdown",
   "id": "d4e84ecc-7fde-4388-9034-857aaeedf173",
   "metadata": {},
   "source": [
    "## To perform feature extraction using PCA for a dataset containing the features [height, weight, age, gender, blood pressure], the following steps can be taken:\n",
    "\n",
    "## Preprocess the dataset to remove any missing values, outliers, or other data quality issues.\n",
    "\n",
    "## Standardize the dataset to ensure that each feature has a mean of 0 and a standard deviation of 1.\n",
    "\n",
    "## Calculate the covariance matrix for the features in the standardized dataset.\n",
    "\n",
    "## Use the covariance matrix to calculate the principal components of the dataset.\n",
    "\n",
    "## Determine the number of principal components to retain. This can be done by looking at the explained variance of each component and selecting the top components that account for a large percentage of the total variance in the dataset. A commonly used threshold is to retain principal components that explain at least 70-80% of the total variance in the dataset.\n",
    "\n",
    "## Project the original dataset onto the reduced set of principal components to create a new dataset with reduced dimensionality.\n",
    "\n",
    "## The number of principal components to retain would depend on the amount of variance that needs to be explained and the desired level of dimensionality reduction. In this case, since there are only 5 features, it is possible that all features are important for predicting the outcome variable, and reducing the dimensionality too much may result in loss of information. Therefore, it may be reasonable to retain at least 3-4 principal components that explain a high percentage of the total variance, such as 80-90%. However, the optimal number of principal components to retain ultimately depends on the specific dataset and the goals of the analysis."
   ]
  },
  {
   "cell_type": "code",
   "execution_count": null,
   "id": "8fe6b697-4cb9-4d5b-814c-16135cc847a2",
   "metadata": {},
   "outputs": [],
   "source": []
  },
  {
   "cell_type": "code",
   "execution_count": null,
   "id": "c4bb5e93-a170-41e4-804b-b1f296ef82cb",
   "metadata": {},
   "outputs": [],
   "source": []
  }
 ],
 "metadata": {
  "kernelspec": {
   "display_name": "Python 3 (ipykernel)",
   "language": "python",
   "name": "python3"
  },
  "language_info": {
   "codemirror_mode": {
    "name": "ipython",
    "version": 3
   },
   "file_extension": ".py",
   "mimetype": "text/x-python",
   "name": "python",
   "nbconvert_exporter": "python",
   "pygments_lexer": "ipython3",
   "version": "3.10.8"
  }
 },
 "nbformat": 4,
 "nbformat_minor": 5
}
