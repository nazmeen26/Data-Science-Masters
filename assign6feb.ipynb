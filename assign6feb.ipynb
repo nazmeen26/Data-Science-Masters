{
 "cells": [
  {
   "cell_type": "markdown",
   "id": "c937bc86-e0e1-424a-b96d-75f7005e432d",
   "metadata": {},
   "source": [
    "### Assignment 06-feb"
   ]
  },
  {
   "cell_type": "markdown",
   "id": "ffdd6b8a-7023-4360-aae9-555b2bc4873a",
   "metadata": {},
   "source": [
    "### Q1. Create a function which will take a list as an argument and return the product of all the numbers after creating a flat list.Use the below-given list as an argument for your function.\n",
    "#### list1 = [1,2,3,4, [44,55,66, True], False, (34,56,78,89,34), {1,2,3,3,2,1}, {1:34, \"key2\": [55, 67, 78, 89], 4: (45,22, 61, 34)}, [56, 'data science'], 'Machine Learning']"
   ]
  },
  {
   "cell_type": "code",
   "execution_count": 8,
   "id": "b5922ef8-31ff-4f8b-a274-232f9a10a0e8",
   "metadata": {},
   "outputs": [],
   "source": [
    "import operator\n",
    "import functools\n",
    "\n",
    "def flat_list_product(lst):\n",
    "    flat_list = []\n",
    "    for item in lst:\n",
    "        if isinstance(item, (list, tuple, set)):\n",
    "            for sub_item in item:\n",
    "                flat_list.append(sub_item)\n",
    "        elif isinstance(item, dict):\n",
    "            for key, value in item.items():\n",
    "                flat_list.append(value)\n",
    "        elif isinstance(item, (int, float)):\n",
    "            flat_list.append(item)\n",
    "    return functools.reduce(operator.mul, [x for x in flat_list if isinstance(x, (int, float))], 1)\n"
   ]
  },
  {
   "cell_type": "code",
   "execution_count": 9,
   "id": "95fd0e16-f20d-4bd2-8b3e-5637d38096c1",
   "metadata": {},
   "outputs": [
    {
     "name": "stdout",
     "output_type": "stream",
     "text": [
      "0\n"
     ]
    }
   ],
   "source": [
    "list1 = [1,2,3,4, [44,55,66, True], False, (34,56,78,89,34), {1,2,3,3,2,1}, {1:34, \"key2\": [55, 67, 78, 89], 4: (45,22, 61, 34)}, [56, 'data science'], 'Machine Learning']\n",
    "result = flat_list_product(list1)\n",
    "print(result)\n"
   ]
  },
  {
   "cell_type": "code",
   "execution_count": 10,
   "id": "9946cc55-14ee-4251-93ca-f8e3119c18a8",
   "metadata": {},
   "outputs": [
    {
     "name": "stdout",
     "output_type": "stream",
     "text": [
      "10335994368860160\n"
     ]
    }
   ],
   "source": [
    "## checking above code with numeric values to see the multiplication answer\n",
    "list1 = [1,2,3,4, [44,55,66], (34,56,78,89,34), {1,2,3,3,2,1}]\n",
    "result = flat_list_product(list1)\n",
    "print(result)\n"
   ]
  },
  {
   "cell_type": "markdown",
   "id": "99198d1b-44d4-46e4-bd82-e6fd9f31314a",
   "metadata": {},
   "source": [
    "### Q2. Write a python program for encrypting a message sent to you by your friend. The logic of encryption should be such that, for a the output should be z. For b, the output should be y. For c, the output should be x respectively. Also, the whitespace should be replaced with a dollar sign. Keep the punctuation marks unchanged.\n"
   ]
  },
  {
   "cell_type": "code",
   "execution_count": 11,
   "id": "f5a96730-40a2-4998-97ac-58ced91df014",
   "metadata": {},
   "outputs": [],
   "source": [
    "def encrypt_message(message):\n",
    "    message = message.lower()\n",
    "    encryption = {}\n",
    "    for i in range(26):\n",
    "        encryption[chr(97+i)] = chr(122-i)\n",
    "    encryption[' '] = '$'\n",
    "    encrypted_message = ''\n",
    "    for char in message:\n",
    "        encrypted_message += encryption.get(char, char)\n",
    "    return encrypted_message\n"
   ]
  },
  {
   "cell_type": "code",
   "execution_count": 12,
   "id": "e4545069-8429-49f3-9bfb-19d6f7a4d001",
   "metadata": {},
   "outputs": [
    {
     "name": "stdout",
     "output_type": "stream",
     "text": [
      "r$dzmg$gl$yvxlnv$z$wzgz$hxrvmgrhg.\n"
     ]
    }
   ],
   "source": [
    "input_sentence = \"I want to become a Data Scientist.\"\n",
    "encrypted_sentence = encrypt_message(input_sentence)\n",
    "print(encrypted_sentence)\n"
   ]
  },
  {
   "cell_type": "code",
   "execution_count": null,
   "id": "a82f0975-76f1-4584-bba1-09caa0c14b51",
   "metadata": {},
   "outputs": [],
   "source": []
  },
  {
   "cell_type": "code",
   "execution_count": null,
   "id": "0c0f4243-c0f1-48ee-81a5-a57910823c43",
   "metadata": {},
   "outputs": [],
   "source": []
  }
 ],
 "metadata": {
  "kernelspec": {
   "display_name": "Python 3 (ipykernel)",
   "language": "python",
   "name": "python3"
  },
  "language_info": {
   "codemirror_mode": {
    "name": "ipython",
    "version": 3
   },
   "file_extension": ".py",
   "mimetype": "text/x-python",
   "name": "python",
   "nbconvert_exporter": "python",
   "pygments_lexer": "ipython3",
   "version": "3.10.8"
  }
 },
 "nbformat": 4,
 "nbformat_minor": 5
}
