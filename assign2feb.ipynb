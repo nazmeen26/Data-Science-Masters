{
 "cells": [
  {
   "cell_type": "markdown",
   "id": "d6146d55-0edc-4b47-8678-a461032d75f5",
   "metadata": {},
   "source": [
    "## Q1. What are the characteristics of the tuples? Is tuple immutable?         "
   ]
  },
  {
   "cell_type": "markdown",
   "id": "792d4548-567a-4151-9306-8e03217ce9dd",
   "metadata": {},
   "source": [
    "# Answer"
   ]
  },
  {
   "cell_type": "markdown",
   "id": "58214043-dcf7-45d5-89a0-5a8b5d196d2f",
   "metadata": {},
   "source": [
    "## Tuples have the given characteristics:\n",
    "## They are indexed\n",
    "## Tuples are ordered\n",
    "## These are immutable\n",
    "## They can contain duplicate items\n",
    "## Yes, Tuples are immutale."
   ]
  },
  {
   "cell_type": "markdown",
   "id": "8c67900c-59e6-41ec-968f-55494f9f234d",
   "metadata": {},
   "source": [
    "## Q2. What are the two tuple methods in python? Give an example of each method. Give a reason why tuples have only two in-built methods as compared to Lists"
   ]
  },
  {
   "cell_type": "markdown",
   "id": "dd8db887-3a32-4450-aab2-2e750586b148",
   "metadata": {},
   "source": [
    "\n",
    "# Answer"
   ]
  },
  {
   "cell_type": "markdown",
   "id": "310434a5-ba42-4c49-9df3-eba6805a8a4a",
   "metadata": {},
   "source": [
    "## Python has two built-in methods that we can use in tuples.\n",
    "## Python Tuple Methods:\n",
    "## Method_1 : \n",
    "## count() : Returns the number of times a specified value occurs in a tuple.\n",
    "## Method_2 :\n",
    "## index() : Searches the tuple for a specified value and returns the position of  where it was found.\n"
   ]
  },
  {
   "cell_type": "code",
   "execution_count": 39,
   "id": "6bc5121a-d4cc-423f-af35-47dfccca7a3c",
   "metadata": {},
   "outputs": [
    {
     "name": "stdout",
     "output_type": "stream",
     "text": [
      " The count of 5 is: 5\n"
     ]
    }
   ],
   "source": [
    "## Example of count()\n",
    "number=(1,2,5,3,4,5,4,5,6,6,5,5)\n",
    "count=number.count(5)\n",
    "print(\" The count of 5 is:\",count)\n"
   ]
  },
  {
   "cell_type": "code",
   "execution_count": 40,
   "id": "6c8a013d-3a88-4b2a-9df1-32c6b7432615",
   "metadata": {},
   "outputs": [
    {
     "name": "stdout",
     "output_type": "stream",
     "text": [
      " The index of 5 is: 2\n"
     ]
    }
   ],
   "source": [
    "## Exapmle of index() \n",
    "number=(1,2,3,4,5,6)\n",
    "index=number.index(3)\n",
    "print(\" The index of 5 is:\",index)\n"
   ]
  },
  {
   "cell_type": "markdown",
   "id": "05c33b2a-3512-4976-b3a5-a5a9d5e6fc92",
   "metadata": {},
   "source": [
    "## Since tuples are immutable, tuple have only two in-built methods as compared to list. "
   ]
  },
  {
   "cell_type": "markdown",
   "id": "8ae50f0f-d5dd-47db-a153-dd63f2b27d53",
   "metadata": {},
   "source": [
    "## Q3.  Which collection datatypes in python do not allow duplicate items? Write a code using a set to remove duplicates from the given list.\n",
    "\n",
    "## List = [1, 1, 1, 2, 1, 3, 1, 4, 2, 1, 2, 2, 2, 3, 2, 4, 3, 1, 3, 2, 3, 3, 3, 4, 4, 1, 4, 2, 4, 3, 4, 4]"
   ]
  },
  {
   "cell_type": "markdown",
   "id": "7a6efb57-483c-455b-91a2-30c6b6682f26",
   "metadata": {},
   "source": [
    "# Answer"
   ]
  },
  {
   "cell_type": "markdown",
   "id": "e27be427-5e1c-4cf4-9c35-6d4e33de0362",
   "metadata": {},
   "source": [
    "## Sets: Sets are a collection that is unordered and unindexed. They are mutable(changeable) but do not allow duplicate values to be held."
   ]
  },
  {
   "cell_type": "code",
   "execution_count": 41,
   "id": "cc3dcd87-2d06-4b48-92ab-6e363d56f63a",
   "metadata": {},
   "outputs": [],
   "source": [
    "List=[1, 1, 1, 2, 1, 3, 1, 4, 2, 1, 2, 2, 2, 3, 2, 4, 3, 1, 3, 2, 3, 3, 3, 4, 4, 1, 4, 2, 4, 3, 4, 4]"
   ]
  },
  {
   "cell_type": "code",
   "execution_count": 42,
   "id": "9562a48e-759a-4791-b7a3-f37190781a7a",
   "metadata": {},
   "outputs": [],
   "source": [
    "set={1, 1, 1, 2, 1, 3, 1, 4, 2, 1, 2, 2, 2, 3, 2, 4, 3, 1, 3, 2, 3, 3, 3, 4, 4, 1, 4, 2, 4, 3, 4, 4}"
   ]
  },
  {
   "cell_type": "code",
   "execution_count": 43,
   "id": "ba351440-267a-4bbd-a6e8-7189f028f753",
   "metadata": {},
   "outputs": [
    {
     "data": {
      "text/plain": [
       "{1, 2, 3, 4}"
      ]
     },
     "execution_count": 43,
     "metadata": {},
     "output_type": "execute_result"
    }
   ],
   "source": [
    "set"
   ]
  },
  {
   "cell_type": "markdown",
   "id": "e836bd37-ccdf-41a5-a977-9fbdbe44e0ae",
   "metadata": {},
   "source": [
    "## Q.4 Explain the difference between the union() and update() methods for a set. Give an example of each method."
   ]
  },
  {
   "cell_type": "markdown",
   "id": "92ebfcdc-0779-4bb6-9ca3-ce46cec17ed5",
   "metadata": {},
   "source": [
    "# Answer"
   ]
  },
  {
   "cell_type": "markdown",
   "id": "45986bac-4463-4e39-8226-537f982992a1",
   "metadata": {},
   "source": [
    "## update() adds all missing elements to the set on which it is called whereas set. union() creates a new set. Sonsequently, the return value of set."
   ]
  },
  {
   "cell_type": "code",
   "execution_count": 44,
   "id": "b5cbf5ac-be71-4224-86c4-d705d4d7d85e",
   "metadata": {},
   "outputs": [],
   "source": [
    "## Example:update()\n",
    "num={1,2,3,4,5}\n",
    "prime_num=(2,3,5,7)"
   ]
  },
  {
   "cell_type": "code",
   "execution_count": 45,
   "id": "4096a0a0-a555-48dd-a725-0faadc398395",
   "metadata": {},
   "outputs": [
    {
     "name": "stdout",
     "output_type": "stream",
     "text": [
      "Updated set: {1, 2, 3, 4, 5, 7}\n"
     ]
    }
   ],
   "source": [
    "num.update(prime_num)\n",
    "print(\"Updated set:\",num)"
   ]
  },
  {
   "cell_type": "code",
   "execution_count": 46,
   "id": "7538f051-723b-43b9-b56c-2b84ea88e178",
   "metadata": {},
   "outputs": [],
   "source": [
    "## Example:union() \n",
    "x={\"apple\",\"banana\",\"cherry\"}\n",
    "y={\"google\",\"microsoft\",\"apple\"}"
   ]
  },
  {
   "cell_type": "code",
   "execution_count": 47,
   "id": "21c776a4-f2e1-4474-96a3-24850e0027e8",
   "metadata": {},
   "outputs": [],
   "source": [
    "z=x.union(y)"
   ]
  },
  {
   "cell_type": "markdown",
   "id": "4fc12d0c-543d-496f-97b0-ad026a7e7579",
   "metadata": {},
   "source": [
    "print(z)"
   ]
  },
  {
   "cell_type": "markdown",
   "id": "afb8e418-1ce8-40ba-b3c9-ba857076bb3f",
   "metadata": {},
   "source": [
    "## Q5. What is a dictionary? Give an example. Also, state whether a dictionary is ordered or unordered."
   ]
  },
  {
   "cell_type": "markdown",
   "id": "210c1ac2-a0bd-4ef9-bf43-6cc02f04a3b6",
   "metadata": {},
   "source": [
    "# Answer"
   ]
  },
  {
   "cell_type": "markdown",
   "id": "11a1b80d-d51d-479b-a6c1-45d68cb4e711",
   "metadata": {},
   "source": [
    "## A dictionary in Python is a collection of key-value pairs. The dictionary keys must be unique. The dictionary value may be of any type."
   ]
  },
  {
   "cell_type": "markdown",
   "id": "9f0cd89f-1fad-4daf-bcd0-294d0ead1015",
   "metadata": {},
   "source": [
    "## A dictionary is a collection which is ordered, changeable and do not allow duplicates. As of Python 3.7, dictionaries are ordered. "
   ]
  },
  {
   "cell_type": "code",
   "execution_count": 48,
   "id": "4a9aee3d-8d32-4709-b529-b338d85b8f81",
   "metadata": {},
   "outputs": [
    {
     "name": "stdout",
     "output_type": "stream",
     "text": [
      "{1: 'One', 2: 'Two', 3: 'Three', 4: 'Four', 5: 'Five'}\n"
     ]
    }
   ],
   "source": [
    "# Example\n",
    "numbers={1:\"One\",2:\"Two\",3:\"Three\",4:\"Four\",5:\"Five\"}\n",
    "print(numbers)"
   ]
  },
  {
   "cell_type": "markdown",
   "id": "b61371f8-ee12-4bc8-9c8d-2b0afd88ad73",
   "metadata": {},
   "source": [
    "## Q6. Can we create a nested dictionary? If so, please give an example by creating a simple one-level nested dictionary."
   ]
  },
  {
   "cell_type": "markdown",
   "id": "22a972b6-8d85-42af-b968-44effa616577",
   "metadata": {},
   "source": [
    "# Answer"
   ]
  },
  {
   "cell_type": "markdown",
   "id": "2045e0f1-3868-472f-bdcc-c62934b34cc9",
   "metadata": {},
   "source": [
    "## A Nested dictionary can be created in python by placing the comma-separated dictionaries enclosed within braces."
   ]
  },
  {
   "cell_type": "code",
   "execution_count": 49,
   "id": "938182e1-fd18-4b32-87fa-e1d9528a7d4c",
   "metadata": {},
   "outputs": [],
   "source": [
    "# Example\n",
    "myfamily={\"child1\" : {\"name\":\"Aayat\" , \"year\":\"2016\"}, \"child2\" : {\"name\":\"Ashfiya\" , \"year\":\"2015\"}, \"child3\" : {\"name\":\"Mohammad\" , \"year\":\"2021\"}}"
   ]
  },
  {
   "cell_type": "code",
   "execution_count": 50,
   "id": "bcb57c07-8e11-4249-b9d1-02cfe7a11ca9",
   "metadata": {},
   "outputs": [
    {
     "data": {
      "text/plain": [
       "{'child1': {'name': 'Aayat', 'year': '2016'},\n",
       " 'child2': {'name': 'Ashfiya', 'year': '2015'},\n",
       " 'child3': {'name': 'Mohammad', 'year': '2021'}}"
      ]
     },
     "execution_count": 50,
     "metadata": {},
     "output_type": "execute_result"
    }
   ],
   "source": [
    "myfamily"
   ]
  },
  {
   "cell_type": "markdown",
   "id": "92851cc4-b657-429e-bc81-a3b905b72c33",
   "metadata": {},
   "source": [
    "## Q7. Using setdefault() method, create key named topics in the given dictionary and also add the value of the key as this list ['Python', 'Machine Learning’, 'Deep Learning']\n",
    "dict1 = {'language' : 'Python', 'course': 'Data Science Masters'}"
   ]
  },
  {
   "cell_type": "code",
   "execution_count": 51,
   "id": "67cb373d-ac4d-4e04-96a1-1689c9b8cb84",
   "metadata": {},
   "outputs": [],
   "source": [
    "list = ['Python', 'Machine Learning', 'Deep Learning']\n",
    "dict1 = {'language' : 'Python', 'course': 'Data Science Masters'}"
   ]
  },
  {
   "cell_type": "code",
   "execution_count": 52,
   "id": "83289138-0379-4fac-a714-e4f97aa6809d",
   "metadata": {},
   "outputs": [
    {
     "data": {
      "text/plain": [
       "{'language': 'Python', 'course': 'Data Science Masters'}"
      ]
     },
     "execution_count": 52,
     "metadata": {},
     "output_type": "execute_result"
    }
   ],
   "source": [
    "dict1"
   ]
  },
  {
   "cell_type": "code",
   "execution_count": 53,
   "id": "122e97ca-8590-4714-bd86-40dcc3c91161",
   "metadata": {},
   "outputs": [],
   "source": [
    "add=dict1.setdefault('Machine Learning', 'Deep Learning')"
   ]
  },
  {
   "cell_type": "code",
   "execution_count": 54,
   "id": "3d6b34f1-0777-47cb-b3f3-0e39ee7ca2cd",
   "metadata": {},
   "outputs": [
    {
     "name": "stdout",
     "output_type": "stream",
     "text": [
      "{'language': 'Python', 'course': 'Data Science Masters', 'Machine Learning': 'Deep Learning'}\n"
     ]
    }
   ],
   "source": [
    "print(dict1)"
   ]
  },
  {
   "cell_type": "markdown",
   "id": "a1c8effd-deb9-4e8a-9251-a7b1528e1d0e",
   "metadata": {},
   "source": [
    "## Q8. What are the three view objects in dictionaries? Use the three in-built methods in python to display these three view objects for the given dictionary.\n",
    "\n",
    "\n",
    "dict1 = {'Sport': 'Cricket' , 'Teams': ['India', 'Australia', 'England', 'South Africa', 'Sri Lanka', 'New Zealand']}\n"
   ]
  },
  {
   "cell_type": "markdown",
   "id": "bcdf8c93-82c2-4881-8557-36e3300ef26f",
   "metadata": {},
   "source": [
    "# Answer"
   ]
  },
  {
   "cell_type": "markdown",
   "id": "30ffc7e4-5d30-4bc7-a977-255479516e38",
   "metadata": {},
   "source": [
    "## In the python dictionaries, some of the methods return view objects. This view objects are dynamic view objects, meaning that when we made some changes in the dictionary then the view reflects all these changes. The main view objects of the dictionary in python are keys, values and items.\n",
    "## We are using three in-built function for the given dictionary i.e, pop(), update() and get(). "
   ]
  },
  {
   "cell_type": "code",
   "execution_count": 55,
   "id": "e4c733ef-9fb4-47ce-a580-eee578ffc6e5",
   "metadata": {},
   "outputs": [],
   "source": [
    "\n",
    "dict1 = {'Sport': 'Cricket' , 'Teams': ['India', 'Australia', 'England', 'South Africa', 'Sri Lanka', 'New Zealand']}\n"
   ]
  },
  {
   "cell_type": "code",
   "execution_count": 56,
   "id": "62cc54f2-3bfa-420f-9322-58cc0dfcdde0",
   "metadata": {},
   "outputs": [
    {
     "data": {
      "text/plain": [
       "'Cricket'"
      ]
     },
     "execution_count": 56,
     "metadata": {},
     "output_type": "execute_result"
    }
   ],
   "source": [
    "dict1.pop('Sport')"
   ]
  },
  {
   "cell_type": "code",
   "execution_count": 57,
   "id": "c36b7599-ceb8-45ab-a314-4c0fe3739bb4",
   "metadata": {},
   "outputs": [],
   "source": [
    "dict1 = {'Sport': 'Cricket' , 'Teams': ['India', 'Australia', 'England', 'South Africa', 'Sri Lanka', 'New Zealand']}\n",
    "\n",
    "\n",
    "dict2 = {'Sport': 'football' , 'Teams': ['India', 'Australia', 'England', 'South Africa', 'Sri Lanka', 'New Zealand']}\n"
   ]
  },
  {
   "cell_type": "code",
   "execution_count": 58,
   "id": "4f497757-de0f-463b-8568-31587aa9a496",
   "metadata": {},
   "outputs": [],
   "source": [
    "dict1.update(dict2)"
   ]
  },
  {
   "cell_type": "code",
   "execution_count": 59,
   "id": "91b3f809-b556-4a44-b30a-6eee85acfc74",
   "metadata": {},
   "outputs": [
    {
     "data": {
      "text/plain": [
       "{'Sport': 'football',\n",
       " 'Teams': ['India',\n",
       "  'Australia',\n",
       "  'England',\n",
       "  'South Africa',\n",
       "  'Sri Lanka',\n",
       "  'New Zealand']}"
      ]
     },
     "execution_count": 59,
     "metadata": {},
     "output_type": "execute_result"
    }
   ],
   "source": [
    "dict1"
   ]
  },
  {
   "cell_type": "code",
   "execution_count": 60,
   "id": "2f0d6786-d6a2-4e59-834d-bfb966619c90",
   "metadata": {},
   "outputs": [
    {
     "data": {
      "text/plain": [
       "['India', 'Australia', 'England', 'South Africa', 'Sri Lanka', 'New Zealand']"
      ]
     },
     "execution_count": 60,
     "metadata": {},
     "output_type": "execute_result"
    }
   ],
   "source": [
    "dict1.get('Teams')"
   ]
  },
  {
   "cell_type": "code",
   "execution_count": null,
   "id": "783e0804-a1c0-40dc-9022-7067f13c94df",
   "metadata": {},
   "outputs": [],
   "source": []
  },
  {
   "cell_type": "code",
   "execution_count": null,
   "id": "93d66556-2c60-450b-8bf1-605141d6e92a",
   "metadata": {},
   "outputs": [],
   "source": []
  },
  {
   "cell_type": "code",
   "execution_count": null,
   "id": "d688a7ec-ca5e-4a27-bf20-dc75f2843731",
   "metadata": {},
   "outputs": [],
   "source": []
  },
  {
   "cell_type": "code",
   "execution_count": null,
   "id": "81b95600-d31c-444c-a1be-e3ed20c513f6",
   "metadata": {},
   "outputs": [],
   "source": []
  },
  {
   "cell_type": "code",
   "execution_count": null,
   "id": "c54a6c19-1c4e-402d-8554-1b1bfcca75ac",
   "metadata": {},
   "outputs": [],
   "source": []
  }
 ],
 "metadata": {
  "kernelspec": {
   "display_name": "Python 3 (ipykernel)",
   "language": "python",
   "name": "python3"
  },
  "language_info": {
   "codemirror_mode": {
    "name": "ipython",
    "version": 3
   },
   "file_extension": ".py",
   "mimetype": "text/x-python",
   "name": "python",
   "nbconvert_exporter": "python",
   "pygments_lexer": "ipython3",
   "version": "3.10.8"
  }
 },
 "nbformat": 4,
 "nbformat_minor": 5
}
