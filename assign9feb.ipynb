{
 "cells": [
  {
   "cell_type": "markdown",
   "id": "2f8f8c0f-3e09-454a-9022-9e0d98985d48",
   "metadata": {},
   "source": [
    "## Q1, Create a vehicle class with an init method having instance variables as name_of_vehicle, max_speed and average_of_vehicle. "
   ]
  },
  {
   "cell_type": "markdown",
   "id": "983f0df5-e5c1-4737-8e0f-a4b0a0a083d4",
   "metadata": {},
   "source": [
    "## Answer"
   ]
  },
  {
   "cell_type": "code",
   "execution_count": 3,
   "id": "19e78595-0530-4b22-a6f9-5f16443d24f0",
   "metadata": {},
   "outputs": [],
   "source": [
    "class vehicle:\n",
    "    def __init__(self, name_of_vehicle, max_speed, average_of_vehicle):\n",
    "        \n",
    "        self. name_of_vehicle= name_of_vehicle\n",
    "        self.max_speed= max_speed\n",
    "        self.average_of_vehicle=average_of_vehicle\n",
    "        \n",
    "    def return_details(self):\n",
    "         return  self.name_of_vehicle, self.max_speed, self.average_of_vehicle"
   ]
  },
  {
   "cell_type": "code",
   "execution_count": 7,
   "id": "3f737f2a-b998-4640-9c8d-3a599a19caf7",
   "metadata": {},
   "outputs": [],
   "source": [
    "a= vehicle(\"Toyota\",170,55)"
   ]
  },
  {
   "cell_type": "code",
   "execution_count": 8,
   "id": "cac16315-7e06-4ab4-8881-2875a0dc3248",
   "metadata": {},
   "outputs": [
    {
     "data": {
      "text/plain": [
       "('Toyota', 170, 55)"
      ]
     },
     "execution_count": 8,
     "metadata": {},
     "output_type": "execute_result"
    }
   ],
   "source": [
    "a.return_details()"
   ]
  },
  {
   "cell_type": "markdown",
   "id": "cee49700-f9bc-465c-99ff-0df323390afa",
   "metadata": {},
   "source": [
    "## Q2.  Create a child class car from the vehicle class created in Que 1, which will inherit the vehicle class. Create a method named seating_capacity which takes capacity as an argument and returns the name of the vehicle and its seating capacity."
   ]
  },
  {
   "cell_type": "markdown",
   "id": "6f1329e9-3824-411f-9a85-f50676ea0206",
   "metadata": {},
   "source": [
    "## Answer"
   ]
  },
  {
   "cell_type": "code",
   "execution_count": 17,
   "id": "3edf181f-575d-4b2c-83a8-4e21a1a662eb",
   "metadata": {},
   "outputs": [],
   "source": [
    "class vehicle:\n",
    "    def __init__(self, name_of_vehicle, max_speed, average_of_vehicle,seating_capacity):\n",
    "        \n",
    "        self. name_of_vehicle= name_of_vehicle\n",
    "        self.max_speed= max_speed\n",
    "        self.average_of_vehicle=average_of_vehicle\n",
    "        self.seating_capacity=seating_capacity\n",
    "        \n",
    "    def return_details(self):\n",
    "         return  self.name_of_vehicle, self.max_speed, self.average_of_vehicle,self.seating_capacity\n",
    "        "
   ]
  },
  {
   "cell_type": "code",
   "execution_count": 18,
   "id": "5e1fd103-6dc7-4c88-a45f-f205e015e35c",
   "metadata": {},
   "outputs": [],
   "source": [
    "class child(vehicle):\n",
    "    pass\n",
    "        \n",
    "        \n",
    "    "
   ]
  },
  {
   "cell_type": "code",
   "execution_count": 19,
   "id": "545e81bb-89ae-4842-b7a2-9117ae6bbcb7",
   "metadata": {},
   "outputs": [],
   "source": [
    "child_obj=child(\"ferrari\",340,55,4)"
   ]
  },
  {
   "cell_type": "code",
   "execution_count": 22,
   "id": "c1a2553e-8f88-4ed8-8d41-c43b2b8a4039",
   "metadata": {},
   "outputs": [
    {
     "data": {
      "text/plain": [
       "('ferrari', 340, 55, 4)"
      ]
     },
     "execution_count": 22,
     "metadata": {},
     "output_type": "execute_result"
    }
   ],
   "source": [
    "child_obj.return_details()"
   ]
  },
  {
   "cell_type": "markdown",
   "id": "06870139-87c4-42e8-8efc-4f25bf82e8e7",
   "metadata": {},
   "source": [
    "## Q3. What is multiple inheritance? Write a python code to demonstrate multiple inheritance."
   ]
  },
  {
   "cell_type": "markdown",
   "id": "920ba3f1-93eb-4eec-af31-374cec8f7a62",
   "metadata": {},
   "source": [
    "## Answer"
   ]
  },
  {
   "cell_type": "markdown",
   "id": "6e936ad2-8d0e-4587-b514-5fdf8bb7fa28",
   "metadata": {},
   "source": [
    "## A class can be derived from more than one superclass in python.This is called multiple inheritance. For example, A class Bat is derived from superclasses Mammal and WingedAnimal . It makes sense because bat is a mammal as well as a winged animal."
   ]
  },
  {
   "cell_type": "markdown",
   "id": "421a8a56-b4e8-4adb-80e6-24f006f19cc4",
   "metadata": {},
   "source": [
    "## Multiple Inheritance"
   ]
  },
  {
   "cell_type": "code",
   "execution_count": 31,
   "id": "802356a5-6055-486a-9852-ea31cc4e5ed1",
   "metadata": {},
   "outputs": [],
   "source": [
    "class parent1:\n",
    "    def func1(self):\n",
    "        print(\"this is function 1\")\n",
    "        "
   ]
  },
  {
   "cell_type": "code",
   "execution_count": 32,
   "id": "e33c78da-c087-4631-b441-d8ddf1eb4da8",
   "metadata": {},
   "outputs": [],
   "source": [
    "class parent2:\n",
    "    def func2(self):\n",
    "        print(\"this is function 2\")\n",
    "        "
   ]
  },
  {
   "cell_type": "code",
   "execution_count": 33,
   "id": "3ae67662-6573-4f2e-b373-4a45e9bc4307",
   "metadata": {},
   "outputs": [],
   "source": [
    "class child1(parent1, parent2):\n",
    "    def func3(self):\n",
    "        print(\"this is function 3\")\n",
    "        "
   ]
  },
  {
   "cell_type": "code",
   "execution_count": 34,
   "id": "b5d2f6ef-c8b6-49ad-ac6a-67db368ce9d8",
   "metadata": {},
   "outputs": [
    {
     "name": "stdout",
     "output_type": "stream",
     "text": [
      "this is function 1\n",
      "this is function 3\n"
     ]
    }
   ],
   "source": [
    "ob1=child1()\n",
    "ob1.func1()\n",
    "ob1.func3()"
   ]
  },
  {
   "cell_type": "markdown",
   "id": "bde1a7eb-ac1a-4623-af47-043ed7372550",
   "metadata": {},
   "source": [
    "## Q4. What are getter and setter in python? Create a class and create a getter and a setter method in this class."
   ]
  },
  {
   "cell_type": "markdown",
   "id": "4ebe2858-d6de-43a2-906a-de6cc3f71db1",
   "metadata": {},
   "source": [
    "## Answer"
   ]
  },
  {
   "cell_type": "markdown",
   "id": "f8989eb0-42fe-4f29-b9e8-5da502ddc2d8",
   "metadata": {},
   "source": [
    "## Getters: These are the methods used in Object-Oriented Programming (OOPS) which helps to access the private attributes from a class.\n",
    "## Setters: These are the methods used in OOPS feature which helps to set the value to private attributes in a class."
   ]
  },
  {
   "cell_type": "code",
   "execution_count": 10,
   "id": "be7d3001-a79a-4dcc-95d6-d3596ffe489f",
   "metadata": {},
   "outputs": [
    {
     "name": "stdout",
     "output_type": "stream",
     "text": [
      "Getting name.\n",
      "Banana\n"
     ]
    }
   ],
   "source": [
    "class fruit:\n",
    "    def __init__(self, name:str):\n",
    "        self._name=name\n",
    "        \n",
    "    def get_name(self):\n",
    "        print(\"Getting name.\")\n",
    "        return self._name\n",
    "    \n",
    "    def set_name(self, new_name: str):\n",
    "        self._name=new_name\n",
    "    \n",
    "if __name__ ==\"__main__\":\n",
    "    fruit=fruit(\"Banana\")\n",
    "   \n",
    "    print(fruit.get_name())  \n",
    "   "
   ]
  },
  {
   "cell_type": "code",
   "execution_count": 13,
   "id": "283e26d5-07f0-4076-a47e-da3a0d7a072a",
   "metadata": {},
   "outputs": [
    {
     "name": "stdout",
     "output_type": "stream",
     "text": [
      "Getting name.\n",
      "orange\n"
     ]
    }
   ],
   "source": [
    "\n",
    "\n",
    "    fruit.set_name(\"orange\")  \n",
    "   \n",
    "    print(fruit.get_name())  \n",
    "   \n",
    "    "
   ]
  },
  {
   "cell_type": "markdown",
   "id": "26cffb40-355c-4619-9888-de1d09b6d537",
   "metadata": {},
   "source": [
    "   ## Q5.What is method overriding in python? Write a python code to demonstrate method overriding."
   ]
  },
  {
   "cell_type": "markdown",
   "id": "43636183-2537-4e4a-9007-b9ecb98f0035",
   "metadata": {},
   "source": [
    "## Answer"
   ]
  },
  {
   "cell_type": "markdown",
   "id": "e58f2fb4-443a-4bbe-b0db-2f68aabda875",
   "metadata": {},
   "source": [
    "## Method overriding allows you to redefine a method in a subclass or the derived class previously defined in its parent or the superclass. An OOP language can allow a child class or subclass to have a customised implementation of a method already provided by one of its parent classes or super-classes."
   ]
  },
  {
   "cell_type": "code",
   "execution_count": 17,
   "id": "c26a276b-6bac-4688-85ef-b343d11fc55b",
   "metadata": {},
   "outputs": [],
   "source": [
    "class Animal:\n",
    "    def eat(self):\n",
    "        print(\"This animal is eating \")\n",
    "        \n",
    "        \n",
    "class Rabbit(Animal):\n",
    "    pass"
   ]
  },
  {
   "cell_type": "code",
   "execution_count": 18,
   "id": "ced4b5b1-9890-4983-8bff-9720937d1935",
   "metadata": {},
   "outputs": [],
   "source": [
    "rabbit=Rabbit()"
   ]
  },
  {
   "cell_type": "code",
   "execution_count": 19,
   "id": "b1977593-0f31-49e8-aa4f-dda6542b2a9b",
   "metadata": {},
   "outputs": [
    {
     "name": "stdout",
     "output_type": "stream",
     "text": [
      "This animal is eating \n"
     ]
    }
   ],
   "source": [
    "rabbit.eat()"
   ]
  },
  {
   "cell_type": "code",
   "execution_count": null,
   "id": "d8847341-c0ec-4909-81ee-b67ae5ca3b73",
   "metadata": {},
   "outputs": [],
   "source": []
  },
  {
   "cell_type": "code",
   "execution_count": null,
   "id": "1e156c88-098c-4ea3-8c97-18b611db00f8",
   "metadata": {},
   "outputs": [],
   "source": []
  },
  {
   "cell_type": "code",
   "execution_count": null,
   "id": "1d13d240-10ad-40eb-abb5-48b9a09ab98e",
   "metadata": {},
   "outputs": [],
   "source": []
  },
  {
   "cell_type": "code",
   "execution_count": null,
   "id": "45f53eaa-7d4f-40a8-91c9-0ea2148f8227",
   "metadata": {},
   "outputs": [],
   "source": []
  },
  {
   "cell_type": "code",
   "execution_count": null,
   "id": "df9bf5d3-2294-40cc-97c3-67ba4579d83f",
   "metadata": {},
   "outputs": [],
   "source": []
  }
 ],
 "metadata": {
  "kernelspec": {
   "display_name": "Python 3 (ipykernel)",
   "language": "python",
   "name": "python3"
  },
  "language_info": {
   "codemirror_mode": {
    "name": "ipython",
    "version": 3
   },
   "file_extension": ".py",
   "mimetype": "text/x-python",
   "name": "python",
   "nbconvert_exporter": "python",
   "pygments_lexer": "ipython3",
   "version": "3.10.8"
  }
 },
 "nbformat": 4,
 "nbformat_minor": 5
}
