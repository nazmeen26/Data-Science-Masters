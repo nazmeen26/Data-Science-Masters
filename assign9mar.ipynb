{
 "cells": [
  {
   "cell_type": "markdown",
   "id": "dca9a6d2-db23-495a-b763-3496fb47dc3e",
   "metadata": {},
   "source": [
    "## Q1: What are the Probability Mass Function (PMF) and Probability Density Function (PDF)? Explain with an example."
   ]
  },
  {
   "cell_type": "markdown",
   "id": "e5501980-6d01-4cb1-a8a3-f55988a1a511",
   "metadata": {},
   "source": [
    "## Probability mass function denotes the probability that a discrete random variable will take on a particular value. Probability density function gives the probability that a continuous random variable will lie between a certain specified interval. It is used for discrete random variables."
   ]
  },
  {
   "cell_type": "markdown",
   "id": "a82b0cd3-2d6a-4c2a-92fe-1da517a3407b",
   "metadata": {},
   "source": [
    "## The Probability Mass Function (PMF) Example:\n",
    "## The Probability Mass Function (PMF) provides the probability distribution for discrete variables. For example, rolling dice. There are 6 distinct possible outcomes that define the entire sample space {1, 2, 3, 4, 5, 6}. Note that we only have whole numbers, i.e. no 1.2 or 3.75."
   ]
  },
  {
   "cell_type": "markdown",
   "id": "f3354e58-ee6a-4906-b97b-4771a2d4411b",
   "metadata": {},
   "source": [
    "## Probability Density Function(PDF) Example:\n",
    "## Say we have a continuous random variable whose probability density function is given by f(x) = x + 2, when 0 < x ≤ 2. We want to find P(0.5 < X < 1). Then we integrate x + 2 within the limits 0.5 and 1. This gives us 1.375."
   ]
  },
  {
   "cell_type": "markdown",
   "id": "ce2b0439-95f3-41fb-bee0-c7e18e5a2b11",
   "metadata": {},
   "source": [
    "## Q2: What is Cumulative Density Function (CDF)? Explain with an example. Why CDF is used?"
   ]
  },
  {
   "cell_type": "markdown",
   "id": "2f6586e2-c147-4dd3-958b-da588d38197e",
   "metadata": {},
   "source": [
    "## Definition. The cumulative distribution function (cdf) gives the probability that the random variable X is less than or equal to x and is usually denoted F(x) . The cumulative distribution function of a random variable X is the function given by F(x)=P[X≤x]. F ( x ) = P [ X ≤ x ] .\n",
    "## It is used to describe the probability distribution of random variables in a table."
   ]
  },
  {
   "cell_type": "markdown",
   "id": "1495e96d-7d3c-475e-94c8-29f5fa379243",
   "metadata": {},
   "source": [
    "## Uses of CDF:The cumulative distribution function (CDF) calculates the cumulative probability for a given x-value. Use the CDF to determine the likelihood that a random observation taken from the population will be less than or equal to a particular value.\n",
    "## The cumulative distribution function, FX(t) ranges from 0 to 1.\n",
    "## Consider a simple example for CDF which is given by rolling a fair six-sided die, where X is the random variable\n",
    "\n",
    "## We know that the probability of getting an outcome by rolling a six-sided die is given as:\n",
    "\n",
    "## Probability of getting 1 = P(X≤ 1 ) = 1 / 6\n",
    "\n",
    "## Probability of getting 2 = P(X≤ 2 ) = 2 / 6\n",
    "\n",
    "## Probability of getting 3 = P(X≤ 3 ) = 3 / 6\n",
    "\n",
    "## Probability of getting 4 = P(X≤ 4 ) = 4 / 6\n",
    "\n",
    "## Probability of getting 5 = P(X≤ 5 ) = 5 / 6\n",
    "\n",
    "## Probability of getting 6 = P(X≤ 6 ) = 6 / 6 = 1\n",
    "\n",
    "## From this, it is noted that the probability value always lies between 0 and 1 and it is non-decreasing and right continuous in nature."
   ]
  },
  {
   "cell_type": "markdown",
   "id": "59c19a29-173c-4b7c-83e3-2cf2255e60cd",
   "metadata": {},
   "source": [
    "## Q3: What are some examples of situations where the normal distribution might be used as a model? Explain how the parameters of the normal distribution relate to the shape of the distribution."
   ]
  },
  {
   "cell_type": "markdown",
   "id": "8911d0e6-2d4c-4051-8201-51efbaae5e11",
   "metadata": {},
   "source": [
    "## Real Life Examples Of Normal Distribution\n",
    "## Height: The height of people is an example of normal distribution.\n",
    "## Rolling A Dice. A fair rolling of dice is also a good example of normal distribution.\n",
    "## Tossing A Coin.\n",
    "## IQ. \n",
    "## Blood Pressure.\n"
   ]
  },
  {
   "cell_type": "markdown",
   "id": "0bed449b-f8eb-4ed0-a56f-677196d91873",
   "metadata": {},
   "source": [
    "## The two main parameters of a (normal) distribution are the mean and standard deviation. The parameters determine the shape and probabilities of the distribution. The shape of the distribution changes as the parameter values change."
   ]
  },
  {
   "cell_type": "markdown",
   "id": "13a051e1-07f0-4cd4-abb7-623a3504e142",
   "metadata": {},
   "source": [
    "## Q4: Explain the importance of Normal Distribution. Give a few real-life examples of Normal Distribution."
   ]
  },
  {
   "cell_type": "markdown",
   "id": "4b85a73a-6eef-48e9-bc0b-1edaf036c816",
   "metadata": {},
   "source": [
    "## All kinds of variables in natural and social sciences are normally or approximately normally distributed. Height, birth weight, reading ability, job satisfaction, or SAT scores are just a few examples of such variables."
   ]
  },
  {
   "cell_type": "markdown",
   "id": "d654f24a-1bf6-4a50-9cb8-904f3c2e5c01",
   "metadata": {},
   "source": [
    "## The first advantage of the normal distribution is that it is symmetric and bell-shaped. This shape is useful because it can be used to describe many populations, from classroom grades to heights and weights.\n",
    "\n",
    "## The other main advantage of the normal distribution is the Central Limit Theorem. This theorem states that when the sample size is very large, the sample mean will generally follow a normal distribution even if the original population is not normally distributed. This means that we can often use inferential statistical methods that assume normality, even if the data in our sample doesn’t follow a normal distribution."
   ]
  },
  {
   "cell_type": "markdown",
   "id": "238dfdd7-d14d-43ca-bce3-6bc2e2d23f8f",
   "metadata": {},
   "source": [
    "## Q5: What is Bernaulli Distribution? Give an Example. What is the difference between Bernoulli Distribution and Binomial Distribution?"
   ]
  },
  {
   "cell_type": "markdown",
   "id": "f831d534-0427-4d98-9ad4-f1711d49012e",
   "metadata": {},
   "source": [
    "\n",
    "## Bernoulli Distribution Definition\n",
    "## A discrete probability distribution wherein the random variable can only have 2 possible outcomes is known as a Bernoulli Distribution. If in a Bernoulli trial the random variable takes on the value of 1, it means that this is a success. The probability of success is given by p. Similarly, if the value of the random variable is 0, it indicates failure. The probability of failure is q or 1 - p. Bernoulli distribution can be used to derive a binomial distribution, geometric distribution, and negative binomial distribution.\n",
    "\n",
    "## Bernoulli Distribution Example\n",
    "## Suppose there is an experiment where you flip a coin that is fair. If the outcome of the flip is heads then you will win. This means that the probability of getting heads is p = 1/2. If X is the random variable following a Bernoulli Distribution, we get P(X = 1) = p = 1/2."
   ]
  },
  {
   "cell_type": "markdown",
   "id": "82f3f677-dc2b-444d-ae64-1f2c016a8100",
   "metadata": {},
   "source": [
    "## Bernoulli deals with the outcome of the single trial of the event, whereas Binomial deals with the outcome of the multiple trials of the single event. Bernoulli is used when the outcome of an event is required for only one time, whereas the Binomial is used when the outcome of an event is required multiple times."
   ]
  },
  {
   "cell_type": "markdown",
   "id": "1c2a6e93-7e71-41f3-be24-b5b94b817636",
   "metadata": {},
   "source": [
    "## Q6. Consider a dataset with a mean of 50 and a standard deviation of 10. If we assume that the dataset is normally distributed, what is the probability that a randomly selected observation will be greater than 60? Use the appropriate formula and show your calculations."
   ]
  },
  {
   "cell_type": "code",
   "execution_count": 25,
   "id": "07001f9b-2f44-43f6-848c-cc3f4228c4cf",
   "metadata": {},
   "outputs": [
    {
     "name": "stdout",
     "output_type": "stream",
     "text": [
      "z_score is 1.0\n"
     ]
    }
   ],
   "source": [
    "## solved by z-table\n",
    "\n",
    "## Given:\n",
    "mean=50\n",
    "std=10\n",
    "obs_greater=60\n",
    "\n",
    "## To find: probability (solving by z-table)\n",
    "\n",
    "## formula : z-score=(obs_greater-mean)/std\n",
    "\n",
    "z_score=(obs_greater-mean)/std\n",
    "print('z_score is',z_score)\n",
    "\n"
   ]
  },
  {
   "cell_type": "code",
   "execution_count": 26,
   "id": "5f3934b8-1087-456b-bd91-6337de0772fa",
   "metadata": {},
   "outputs": [
    {
     "name": "stdout",
     "output_type": "stream",
     "text": [
      "probability is  0.15866000000000002\n",
      "In percentage probability is  15.866000000000003\n"
     ]
    }
   ],
   "source": [
    "## suppose table value of z_score is T\n",
    "T=0.84134   ## value given by z table at z_score= 1.0\n",
    "            ## probability ( observation is less than or equal to 60)\n",
    "    \n",
    "    \n",
    "probability=1-T  ## probability (observation is greater than 60)\n",
    "print('probability is ',probability)\n",
    "print('In percentage probability is ',probability*100)"
   ]
  },
  {
   "cell_type": "markdown",
   "id": "9705af2a-8d37-445e-81ab-25a0e989f510",
   "metadata": {},
   "source": [
    "## Q7: Explain uniform Distribution with an example."
   ]
  },
  {
   "cell_type": "markdown",
   "id": "b61b3157-ca0c-42d0-b53b-d8a458071da7",
   "metadata": {},
   "source": [
    "## In statistics, uniform distribution refers to a type of probability distribution in which all outcomes are equally likely. A deck of cards has within it uniform distributions because the likelihood of drawing a heart, a club, a diamond, or a spade is equally likely."
   ]
  },
  {
   "cell_type": "markdown",
   "id": "c5f3a9f0-94d6-4e7f-a3e2-4bcf0e04d74f",
   "metadata": {},
   "source": [
    "## Uniform distributions are probability distributions with equally likely outcomes.\n",
    "## In a discrete uniform distribution, outcomes are discrete and have the same probability.\n",
    "## In a continuous uniform distribution, outcomes are continuous and infinite.\n",
    "## In a normal distribution, data around the mean occur more frequently.\n",
    "## The frequency of occurrence decreases the farther you are from the mean in a normal distribution."
   ]
  },
  {
   "cell_type": "markdown",
   "id": "caa412b2-8ab3-4324-baa4-e6fd33e4bd76",
   "metadata": {},
   "source": [
    "## There are 52 cards in a traditional deck of cards. In it are four suits: hearts, diamonds, clubs, and spades. Each suit contains an A, 2, 3, 4, 5, 6, 7, 8, 9, 10, J, Q, K, and 2 jokers. However, we'll do away with the jokers and face cards for this example, focusing only on number cards replicated in each suit. As a result, we are left with 40 cards, a set of discrete data."
   ]
  },
  {
   "cell_type": "markdown",
   "id": "86e038bb-6b83-4b15-9d13-53aecec6dc10",
   "metadata": {},
   "source": [
    "## Q8: What is the z score? State the importance of the z score."
   ]
  },
  {
   "cell_type": "markdown",
   "id": "ef7f3251-e0d0-40b1-8a8b-563f51e48d31",
   "metadata": {},
   "source": [
    "## Z-score is a statistical measurement that describes a value's relationship to the mean of a group of values. Z-score is measured in terms of standard deviations from the mean. If a Z-score is 0, it indicates that the data point's score is identical to the mean score. A Z-score of 1.0 would indicate a value that is one standard deviation from the mean. Z-scores may be positive or negative, with a positive value indicating the score is above the mean and a negative score indicating it is below the mean."
   ]
  },
  {
   "cell_type": "markdown",
   "id": "9e42d292-ebde-4028-8441-c7e6b1d3da1b",
   "metadata": {},
   "source": [
    "## The standard score (more commonly referred to as a z-score) is a very useful statistic because it (a) allows us to calculate the probability of a score occurring within our normal distribution and (b) enables us to compare two scores that are from different normal distributions."
   ]
  },
  {
   "cell_type": "markdown",
   "id": "dd99f8c9-e164-40a6-b073-776cc55ce1eb",
   "metadata": {},
   "source": [
    "## Q9: What is Central Limit Theorem? State the significance of the Central Limit Theorem."
   ]
  },
  {
   "cell_type": "markdown",
   "id": "fc5ca2ef-57ce-4afd-807d-cf875f0ea5a4",
   "metadata": {},
   "source": [
    "## The central limit theorem states that whenever a random sample of size n is taken from any distribution with mean and variance, then the sample mean will be approximately a normal distribution with mean and variance. The larger the value of the sample size, the better the approximation of the normal."
   ]
  },
  {
   "cell_type": "markdown",
   "id": "3bd95bbd-dee2-42a5-b375-55392ee7fe28",
   "metadata": {},
   "source": [
    "## The central limit theorem is useful when analyzing large data sets because it allows one to assume that the sampling distribution of the mean will be normally-distributed in most cases. This allows for easier statistical analysis and inference."
   ]
  },
  {
   "cell_type": "markdown",
   "id": "dcbbd5b8-045a-4817-9638-f30fcd292aab",
   "metadata": {},
   "source": [
    "## Q10: State the assumptions of the Central Limit Theorem."
   ]
  },
  {
   "cell_type": "markdown",
   "id": "e96ebbbd-0fee-4a7f-8c94-f68ae6e482c8",
   "metadata": {},
   "source": [
    "## Assumptions Behind the Central Limit Theorem\n",
    "## It must be sampled randomly. Samples should be independent of each other. One sample should not influence the other samples. Sample size should be not more than 10% of the population when sampling is done without replacement."
   ]
  },
  {
   "cell_type": "code",
   "execution_count": null,
   "id": "3be134ed-4b53-4ea3-81cd-0fe0a9929219",
   "metadata": {},
   "outputs": [],
   "source": []
  }
 ],
 "metadata": {
  "kernelspec": {
   "display_name": "Python 3 (ipykernel)",
   "language": "python",
   "name": "python3"
  },
  "language_info": {
   "codemirror_mode": {
    "name": "ipython",
    "version": 3
   },
   "file_extension": ".py",
   "mimetype": "text/x-python",
   "name": "python",
   "nbconvert_exporter": "python",
   "pygments_lexer": "ipython3",
   "version": "3.10.8"
  }
 },
 "nbformat": 4,
 "nbformat_minor": 5
}
